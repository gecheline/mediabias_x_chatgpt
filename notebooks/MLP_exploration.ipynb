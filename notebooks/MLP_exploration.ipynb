{
 "cells": [
  {
   "cell_type": "code",
   "execution_count": 101,
   "metadata": {},
   "outputs": [],
   "source": [
    "import pandas as pd\n",
    "import numpy as np\n",
    "\n",
    "from sklearn.ensemble import RandomForestClassifier\n",
    "from sklearn.neighbors import KNeighborsClassifier\n",
    "from sklearn.model_selection import train_test_split\n",
    "from sklearn.metrics import classification_report, accuracy_score\n",
    "import plotly.express as px\n",
    "import matplotlib.pyplot as plt\n",
    "from sklearn.metrics import confusion_matrix\n",
    "from sklearn.base import BaseEstimator, TransformerMixin, ClassifierMixin\n",
    "\n",
    "import seaborn as sns"
   ]
  },
  {
   "cell_type": "markdown",
   "metadata": {},
   "source": [
    "Basic classification of embeddings with RandomForest: following the OpenAI [tutorial](https://github.com/openai/openai-cookbook/blob/main/examples/Classification_using_embeddings.ipynb)"
   ]
  },
  {
   "cell_type": "code",
   "execution_count": 190,
   "metadata": {},
   "outputs": [],
   "source": [
    "df = pd.read_csv('../data/sentences_embeddings.csv')"
   ]
  },
  {
   "cell_type": "code",
   "execution_count": 191,
   "metadata": {},
   "outputs": [],
   "source": [
    "df[\"embedding\"] = df.embedding.apply(eval).apply(np.array)  # convert string to array"
   ]
  },
  {
   "cell_type": "code",
   "execution_count": 30,
   "metadata": {},
   "outputs": [
    {
     "name": "stdout",
     "output_type": "stream",
     "text": [
      "              precision    recall  f1-score   support\n",
      "\n",
      "      Biased       0.76      0.74      0.75       342\n",
      "  Non-biased       0.78      0.80      0.79       393\n",
      "\n",
      "    accuracy                           0.77       735\n",
      "   macro avg       0.77      0.77      0.77       735\n",
      "weighted avg       0.77      0.77      0.77       735\n",
      "\n"
     ]
    },
    {
     "data": {
      "text/plain": [
       "<Axes: >"
      ]
     },
     "execution_count": 30,
     "metadata": {},
     "output_type": "execute_result"
    },
    {
     "data": {
      "image/png": "[encoded data removed]",
      "text/plain": [
       "<Figure size 640x480 with 2 Axes>"
      ]
     },
     "metadata": {},
     "output_type": "display_data"
    }
   ],
   "source": [
    "X_train, X_test, y_train, y_test = train_test_split(\n",
    "    list(df.embedding.values), df.label_bias, test_size=0.2, random_state=42\n",
    ")\n",
    "\n",
    "clf = RandomForestClassifier(n_estimators=100)\n",
    "clf.fit(X_train, y_train)\n",
    "preds = clf.predict(X_test)\n",
    "probas = clf.predict_proba(X_test)\n",
    "\n",
    "report = classification_report(y_test, preds)\n",
    "print(report)\n",
    "\n",
    "cf_matrix = confusion_matrix(y_test.values, preds)\n",
    "sns.heatmap(cf_matrix/cf_matrix.sum(axis=1), annot=True, \n",
    "            fmt='.2%', cmap='Blues')"
   ]
  },
  {
   "cell_type": "markdown",
   "metadata": {},
   "source": [
    "Let's compare this simple classifier's performance on the OpenAI ada embeddings with the performance of the BERT models published in \"Neural Media Bias Detection Using Distant Supervision With BABE - Bias Annotations By Experts\" by T.Spinde et al.\n",
    "\n",
    "![F1 scores in published work](../data/f1_paper.png)\n",
    "\n",
    "\n",
    "We can see that even without a lot of tweaking, our simple model performs almost as well (f1 macro = 0.77) as the BERT models with distant supervision (f1 macro ~ 0.79). In the best models (BERT + distance, RoBERTa + distance), the authors relied on pre-training the word embedding algorithms with the news headlines data:\n",
    "\"*Media bias can be better captured when word embedding algorithms are pre-trained on the news headlines corpus with distant supervision based on varying news outlets*\". \n",
    "\n",
    "Here we'll try to achieve similar accuracy by another methods which relies on sequential classification by topic and subsequently multilabel classification on the label_bias and label_opinion variables."
   ]
  },
  {
   "cell_type": "markdown",
   "metadata": {},
   "source": [
    "Let's first see if my hunch that a kNNs type classifier will be suitable for classifying the topics."
   ]
  },
  {
   "cell_type": "code",
   "execution_count": 72,
   "metadata": {},
   "outputs": [
    {
     "name": "stdout",
     "output_type": "stream",
     "text": [
      "RF classification report\n",
      "                                       precision    recall  f1-score   support\n",
      "\n",
      "                               #metoo       1.00      0.14      0.25         7\n",
      "                             abortion       0.88      0.65      0.75        34\n",
      "                   black lives matter       0.40      0.64      0.50        59\n",
      "                                  blm       0.40      0.06      0.11        31\n",
      "                          coronavirus       1.00      0.04      0.08        24\n",
      "                       elections-2020       0.40      0.11      0.17        18\n",
      "                          environment       0.72      0.72      0.72        29\n",
      "                               gender       0.75      0.46      0.57        26\n",
      "                          gun control       0.38      0.42      0.40        43\n",
      "                          gun-control       0.88      0.29      0.44        24\n",
      "                          immigration       0.58      0.70      0.64        20\n",
      "international-politics-and-world-news       1.00      0.18      0.30        17\n",
      "                                islam       0.38      0.44      0.41        34\n",
      "                    marriage-equality       0.28      0.61      0.38        64\n",
      "                         middle-class       0.62      0.30      0.40        27\n",
      "                                sport       1.00      0.69      0.82        26\n",
      "                         student-debt       0.93      0.78      0.85        36\n",
      "                                taxes       0.48      0.47      0.47        58\n",
      "                     trump-presidency       0.56      0.50      0.53        18\n",
      "                universal health care       0.57      0.68      0.62        40\n",
      "                              vaccine       0.47      0.76      0.58        62\n",
      "                             vaccines       1.00      0.62      0.77        16\n",
      "                    white-nationalism       0.57      0.18      0.28        22\n",
      "\n",
      "                             accuracy                           0.51       735\n",
      "                            macro avg       0.66      0.45      0.48       735\n",
      "                         weighted avg       0.59      0.51      0.49       735\n",
      "\n"
     ]
    }
   ],
   "source": [
    "X_train, X_test, y_train, y_test = train_test_split(\n",
    "    list(df.embedding.values), df.topic, test_size=0.2, random_state=42\n",
    ")\n",
    "\n",
    "clf_rf = RandomForestClassifier()\n",
    "clf_rf.fit(X_train, y_train)\n",
    "preds_rf = clf_rf.predict(X_test)\n",
    "probas_rf = clf_rf.predict_proba(X_test)\n",
    "\n",
    "report_rf = classification_report(y_test, preds_rf)\n",
    "print('RF classification report')\n",
    "print(report_rf)"
   ]
  },
  {
   "cell_type": "code",
   "execution_count": 73,
   "metadata": {},
   "outputs": [
    {
     "name": "stdout",
     "output_type": "stream",
     "text": [
      "kNN classification report\n",
      "                                       precision    recall  f1-score   support\n",
      "\n",
      "                               #metoo       0.70      1.00      0.82         7\n",
      "                             abortion       0.78      0.94      0.85        34\n",
      "                   black lives matter       0.38      0.63      0.47        59\n",
      "                                  blm       0.48      0.45      0.47        31\n",
      "                          coronavirus       0.55      0.50      0.52        24\n",
      "                       elections-2020       0.40      0.44      0.42        18\n",
      "                          environment       0.64      1.00      0.78        29\n",
      "                               gender       0.74      0.65      0.69        26\n",
      "                          gun control       0.60      0.58      0.59        43\n",
      "                          gun-control       0.75      0.50      0.60        24\n",
      "                          immigration       0.56      0.90      0.69        20\n",
      "international-politics-and-world-news       0.72      0.76      0.74        17\n",
      "                                islam       0.71      0.44      0.55        34\n",
      "                    marriage-equality       0.65      0.47      0.55        64\n",
      "                         middle-class       0.54      0.56      0.55        27\n",
      "                                sport       1.00      0.88      0.94        26\n",
      "                         student-debt       0.97      0.89      0.93        36\n",
      "                                taxes       0.84      0.47      0.60        58\n",
      "                     trump-presidency       0.41      0.67      0.51        18\n",
      "                universal health care       0.75      0.75      0.75        40\n",
      "                              vaccine       0.67      0.58      0.62        62\n",
      "                             vaccines       0.92      0.75      0.83        16\n",
      "                    white-nationalism       0.71      0.68      0.70        22\n",
      "\n",
      "                             accuracy                           0.64       735\n",
      "                            macro avg       0.67      0.67      0.66       735\n",
      "                         weighted avg       0.67      0.64      0.64       735\n",
      "\n"
     ]
    },
    {
     "data": {
      "text/plain": [
       "<Axes: >"
      ]
     },
     "execution_count": 73,
     "metadata": {},
     "output_type": "execute_result"
    },
    {
     "data": {
      "image/png": "[encoded data removed]",
      "text/plain": [
       "<Figure size 2000x2000 with 2 Axes>"
      ]
     },
     "metadata": {},
     "output_type": "display_data"
    }
   ],
   "source": [
    "clf = KNeighborsClassifier()\n",
    "clf.fit(X_train, y_train)\n",
    "preds = clf.predict(X_test)\n",
    "probas = clf.predict_proba(X_test)\n",
    "\n",
    "report = classification_report(y_test, preds)\n",
    "print('kNN classification report')\n",
    "print(report)\n",
    "\n",
    "cf_matrix = confusion_matrix(y_test.values, preds)\n",
    "\n",
    "topics = df.topic.unique()\n",
    "topics.sort()\n",
    "\n",
    "plt.figure(figsize=(20,20))\n",
    "sns.heatmap(cf_matrix/cf_matrix.sum(axis=1), annot=True, \n",
    "            fmt='.2%', cmap='Blues', xticklabels=topics, yticklabels=topics)"
   ]
  },
  {
   "cell_type": "markdown",
   "metadata": {},
   "source": [
    "We can see that the kNN classifier (f1 weighted = 0.64) performs better than the Random Forest one for topic classification (f1 weighted = 0.49). Not only that, the confusion matrix heatmeap also unveils which topics are more commonly confused with each other and offers additional options for feature engineering. For example, the vaccine topic is most commonly confused  with the coronavirus (logical) and elections-2020 (circumstantial?) topic. Middle-class and taxes are also commonly confused, as well as black lives matter and blm, trump-presidency and international-politics-and-world-news, gun control and gun-control.\n",
    "\n",
    "This leads me to believe that simpler topic labels may be more beneficial for this project, as we're aiming to first identify a broader topic a sentence belongs to and then identify whether the language used to discuss it is biased or not. In other uses-cases, like news article tagging and database sorting for recommendation systems, it may be more useful to keep the original detailed labels and find ways to improve the classifier on them instead."
   ]
  },
  {
   "cell_type": "code",
   "execution_count": 192,
   "metadata": {},
   "outputs": [],
   "source": [
    "new_topics = ['politics', 'socioeconomics', 'activism', 'coronavirus-and-vaccines',\n",
    " 'environment', 'sport', 'immigration', 'gun-control', \n",
    " 'abortion', 'white-nationalism', 'universal-health-care']\n",
    "\n",
    "new_topics_map = {\n",
    "    '#metoo':'activism',\n",
    "    'abortion':'abortion',\n",
    "    'black lives matter':'activism',\n",
    "    'blm':'activism',\n",
    "    'coronavirus':'coronavirus-and-vaccines',\n",
    "    'elections-2020':'politics',\n",
    "    'environment':'environment',\n",
    "    'gender':'socioeconomics',\n",
    "    'gun control':'gun-control',\n",
    "    'gun-control':'gun-control',\n",
    "    'immigration':'immigration',\n",
    "    'international-politics-and-world-news':'politics',\n",
    "    'islam':'islam',\n",
    "    'marriage-equality':'activism',\n",
    "    'middle-class':'socioeconomics',\n",
    "    'sport':'sport',\n",
    "    'student-debt':'socioeconomics',\n",
    "    'taxes':'socioeconomics',\n",
    "    'trump-presidency':'politics',\n",
    "    'universal health care':'universal-health-care',\n",
    "    'vaccine':'coronavirus-and-vaccines',\n",
    "    'vaccines':'coronavirus-and-vaccines',\n",
    "    'white-nationalism':'white-nationalism',\n",
    "    }"
   ]
  },
  {
   "cell_type": "code",
   "execution_count": 193,
   "metadata": {},
   "outputs": [],
   "source": [
    "df = df.rename(columns={'topic':'topic_original'})"
   ]
  },
  {
   "cell_type": "code",
   "execution_count": 194,
   "metadata": {},
   "outputs": [],
   "source": [
    "df['topic'] = df['topic_original'].map(new_topics_map)"
   ]
  },
  {
   "cell_type": "code",
   "execution_count": 107,
   "metadata": {},
   "outputs": [
    {
     "data": {
      "text/plain": [
       "array(['environment', 'gun-control', 'white-nationalism', 'activism',\n",
       "       'coronavirus-and-vaccines', 'universal-health-care', 'sport',\n",
       "       'islam', 'socioeconomics', 'politics', 'abortion', 'immigration'],\n",
       "      dtype=object)"
      ]
     },
     "execution_count": 107,
     "metadata": {},
     "output_type": "execute_result"
    }
   ],
   "source": [
    "df['topic'].unique()"
   ]
  },
  {
   "cell_type": "code",
   "execution_count": 108,
   "metadata": {},
   "outputs": [
    {
     "name": "stdout",
     "output_type": "stream",
     "text": [
      "kNN classification report\n",
      "                          precision    recall  f1-score   support\n",
      "\n",
      "                abortion       0.78      0.94      0.85        34\n",
      "                activism       0.68      0.81      0.74       161\n",
      "coronavirus-and-vaccines       0.78      0.78      0.78       102\n",
      "             environment       0.69      1.00      0.82        29\n",
      "             gun-control       0.81      0.69      0.74        67\n",
      "             immigration       0.62      0.90      0.73        20\n",
      "                   islam       0.68      0.44      0.54        34\n",
      "                politics       0.62      0.68      0.65        53\n",
      "          socioeconomics       0.91      0.72      0.80       147\n",
      "                   sport       1.00      0.85      0.92        26\n",
      "   universal-health-care       0.77      0.68      0.72        40\n",
      "       white-nationalism       0.78      0.64      0.70        22\n",
      "\n",
      "                accuracy                           0.76       735\n",
      "               macro avg       0.76      0.76      0.75       735\n",
      "            weighted avg       0.77      0.76      0.75       735\n",
      "\n"
     ]
    }
   ],
   "source": [
    "X_train, X_test, y_train, y_test = train_test_split(\n",
    "    list(df.embedding.values), df.topic, test_size=0.2, random_state=42\n",
    ")\n",
    "\n",
    "clf = KNeighborsClassifier()\n",
    "clf.fit(X_train, y_train)\n",
    "preds = clf.predict(X_test)\n",
    "probas = clf.predict_proba(X_test)\n",
    "\n",
    "report = classification_report(y_test, preds)\n",
    "print('kNN classification report')\n",
    "print(report)\n",
    "\n",
    "# cf_matrix = confusion_matrix(y_test.values, preds)\n",
    "\n",
    "# topics = df.topic_simple.unique()\n",
    "# topics.sort()\n",
    "\n",
    "# plt.figure(figsize=(20,20))\n",
    "# sns.heatmap(cf_matrix/cf_matrix.sum(axis=1), annot=True, \n",
    "#             fmt='.2%', cmap='Blues', xticklabels=topics, yticklabels=topics)"
   ]
  },
  {
   "cell_type": "markdown",
   "metadata": {},
   "source": [
    "With this simple relabeling we have managed to increase the f1 score of the topic classifier by 10%! Now let's see if sequentially classifying the topic first and then the bias, we'll achieve better f1 score on the bias classifier!"
   ]
  },
  {
   "cell_type": "markdown",
   "metadata": {},
   "source": [
    "## Sequential topic to bias classifier"
   ]
  },
  {
   "cell_type": "code",
   "execution_count": 135,
   "metadata": {},
   "outputs": [],
   "source": [
    "class SequentialClassifier(BaseEstimator, ClassifierMixin):\n",
    "\n",
    "    def __init__(self, clf_topic, \n",
    "                 clf_bias, \n",
    "                 clf_opinion,\n",
    "                ):\n",
    "        '''\n",
    "        Initialized a sequential classifier with different models for classifying the topics, bias and factuality.\n",
    "\n",
    "        Parameters\n",
    "        ----------\n",
    "        clf_topic: sklearn.Classifier instance\n",
    "            The classifier model to use for topics.\n",
    "        clf_bias: sklearn.Classifier instance\n",
    "            The classifier model to use for bias.\n",
    "        clf_opinion: sklearn.Classifier instance\n",
    "            The classifier model to use for facutuality / opinion.\n",
    "        '''\n",
    "        # Initialize each classifier with their provided kwargs\n",
    "        self.clf_topic = clf_topic\n",
    "        self.clf_bias = clf_bias\n",
    "        self.clf_opinion = clf_opinion\n",
    "\n",
    "\n",
    "    def fit(self, X, Y):\n",
    "        '''Fits the data by first training a topic classifier and separate bias and factuality classifiers for each topic'''\n",
    "        self.bias_classifiers = {}\n",
    "        self.opinion_classifiers = {}\n",
    "\n",
    "        Y_topic = Y['topic']\n",
    "        self.clf_topic.fit(X, Y_topic)\n",
    "\n",
    "        topics = Y['topic'].unique()\n",
    "        \n",
    "        for topic in topics:\n",
    "            topic_mask = Y['topic']==topic\n",
    "            self.bias_classifiers[topic] = self.clf_bias.fit(X[topic_mask], Y[topic_mask]['label_bias'])\n",
    "            self.opinion_classifiers[topic] = self.clf_opinion.fit(X[topic_mask], Y[topic_mask]['label_opinion'])\n",
    "        \n",
    "        return self\n",
    "    \n",
    "    def predict(self, X):\n",
    "        '''Predicts the topic, bias and factuality for each topic'''\n",
    "        \n",
    "        y_predict = pd.DataFrame(np.zeros((X.shape[0], 3)), \n",
    "                                 columns= ['topic','label_bias', 'label_opinion'])\n",
    "        \n",
    "        y_predict['topic'] = self.clf_topic.predict(X)\n",
    "        for topic in y_predict['topic'].unique():\n",
    "            topic_mask = y_predict['topic'] == topic\n",
    "            y_bias = self.bias_classifiers[topic].predict(X[topic_mask]) \n",
    "            y_predict.loc[topic_mask, 'label_bias'] = y_bias\n",
    "            y_opinion = self.opinion_classifiers[topic].predict(X[topic_mask]) \n",
    "            y_predict.loc[topic_mask, 'label_opinion'] = y_opinion\n",
    "                    \n",
    "        return y_predict.values"
   ]
  },
  {
   "cell_type": "code",
   "execution_count": 123,
   "metadata": {},
   "outputs": [],
   "source": [
    "sequential_clf = SequentialClassifier(clf_topic = KNeighborsClassifier(), \n",
    "                                      clf_bias = RandomForestClassifier(),\n",
    "                                      clf_opinion = RandomForestClassifier() \n",
    "                                        )"
   ]
  },
  {
   "cell_type": "code",
   "execution_count": 124,
   "metadata": {},
   "outputs": [
    {
     "data": {
      "text/html": [
       "<style>#sk-container-id-1 {color: black;background-color: white;}#sk-container-id-1 pre{padding: 0;}#sk-container-id-1 div.sk-toggleable {background-color: white;}#sk-container-id-1 label.sk-toggleable__label {cursor: pointer;display: block;width: 100%;margin-bottom: 0;padding: 0.3em;box-sizing: border-box;text-align: center;}#sk-container-id-1 label.sk-toggleable__label-arrow:before {content: \"▸\";float: left;margin-right: 0.25em;color: #696969;}#sk-container-id-1 label.sk-toggleable__label-arrow:hover:before {color: black;}#sk-container-id-1 div.sk-estimator:hover label.sk-toggleable__label-arrow:before {color: black;}#sk-container-id-1 div.sk-toggleable__content {max-height: 0;max-width: 0;overflow: hidden;text-align: left;background-color: #f0f8ff;}#sk-container-id-1 div.sk-toggleable__content pre {margin: 0.2em;color: black;border-radius: 0.25em;background-color: #f0f8ff;}#sk-container-id-1 input.sk-toggleable__control:checked~div.sk-toggleable__content {max-height: 200px;max-width: 100%;overflow: auto;}#sk-container-id-1 input.sk-toggleable__control:checked~label.sk-toggleable__label-arrow:before {content: \"▾\";}#sk-container-id-1 div.sk-estimator input.sk-toggleable__control:checked~label.sk-toggleable__label {background-color: #d4ebff;}#sk-container-id-1 div.sk-label input.sk-toggleable__control:checked~label.sk-toggleable__label {background-color: #d4ebff;}#sk-container-id-1 input.sk-hidden--visually {border: 0;clip: rect(1px 1px 1px 1px);clip: rect(1px, 1px, 1px, 1px);height: 1px;margin: -1px;overflow: hidden;padding: 0;position: absolute;width: 1px;}#sk-container-id-1 div.sk-estimator {font-family: monospace;background-color: #f0f8ff;border: 1px dotted black;border-radius: 0.25em;box-sizing: border-box;margin-bottom: 0.5em;}#sk-container-id-1 div.sk-estimator:hover {background-color: #d4ebff;}#sk-container-id-1 div.sk-parallel-item::after {content: \"\";width: 100%;border-bottom: 1px solid gray;flex-grow: 1;}#sk-container-id-1 div.sk-label:hover label.sk-toggleable__label {background-color: #d4ebff;}#sk-container-id-1 div.sk-serial::before {content: \"\";position: absolute;border-left: 1px solid gray;box-sizing: border-box;top: 0;bottom: 0;left: 50%;z-index: 0;}#sk-container-id-1 div.sk-serial {display: flex;flex-direction: column;align-items: center;background-color: white;padding-right: 0.2em;padding-left: 0.2em;position: relative;}#sk-container-id-1 div.sk-item {position: relative;z-index: 1;}#sk-container-id-1 div.sk-parallel {display: flex;align-items: stretch;justify-content: center;background-color: white;position: relative;}#sk-container-id-1 div.sk-item::before, #sk-container-id-1 div.sk-parallel-item::before {content: \"\";position: absolute;border-left: 1px solid gray;box-sizing: border-box;top: 0;bottom: 0;left: 50%;z-index: -1;}#sk-container-id-1 div.sk-parallel-item {display: flex;flex-direction: column;z-index: 1;position: relative;background-color: white;}#sk-container-id-1 div.sk-parallel-item:first-child::after {align-self: flex-end;width: 50%;}#sk-container-id-1 div.sk-parallel-item:last-child::after {align-self: flex-start;width: 50%;}#sk-container-id-1 div.sk-parallel-item:only-child::after {width: 0;}#sk-container-id-1 div.sk-dashed-wrapped {border: 1px dashed gray;margin: 0 0.4em 0.5em 0.4em;box-sizing: border-box;padding-bottom: 0.4em;background-color: white;}#sk-container-id-1 div.sk-label label {font-family: monospace;font-weight: bold;display: inline-block;line-height: 1.2em;}#sk-container-id-1 div.sk-label-container {text-align: center;}#sk-container-id-1 div.sk-container {/* jupyter's `normalize.less` sets `[hidden] { display: none; }` but bootstrap.min.css set `[hidden] { display: none !important; }` so we also need the `!important` here to be able to override the default hidden behavior on the sphinx rendered scikit-learn.org. See: https://github.com/scikit-learn/scikit-learn/issues/21755 */display: inline-block !important;position: relative;}#sk-container-id-1 div.sk-text-repr-fallback {display: none;}</style><div id=\"sk-container-id-1\" class=\"sk-top-container\"><div class=\"sk-text-repr-fallback\"><pre>SequentialClassifier(clf_bias=RandomForestClassifier(),\n",
       "                     clf_opinion=RandomForestClassifier(),\n",
       "                     clf_topic=KNeighborsClassifier())</pre><b>In a Jupyter environment, please rerun this cell to show the HTML representation or trust the notebook. <br />On GitHub, the HTML representation is unable to render, please try loading this page with nbviewer.org.</b></div><div class=\"sk-container\" hidden><div class=\"sk-item sk-dashed-wrapped\"><div class=\"sk-label-container\"><div class=\"sk-label sk-toggleable\"><input class=\"sk-toggleable__control sk-hidden--visually\" id=\"sk-estimator-id-1\" type=\"checkbox\" ><label for=\"sk-estimator-id-1\" class=\"sk-toggleable__label sk-toggleable__label-arrow\">SequentialClassifier</label><div class=\"sk-toggleable__content\"><pre>SequentialClassifier(clf_bias=RandomForestClassifier(),\n",
       "                     clf_opinion=RandomForestClassifier(),\n",
       "                     clf_topic=KNeighborsClassifier())</pre></div></div></div><div class=\"sk-parallel\"><div class=\"sk-parallel-item\"><div class=\"sk-item\"><div class=\"sk-label-container\"><div class=\"sk-label sk-toggleable\"><input class=\"sk-toggleable__control sk-hidden--visually\" id=\"sk-estimator-id-2\" type=\"checkbox\" ><label for=\"sk-estimator-id-2\" class=\"sk-toggleable__label sk-toggleable__label-arrow\">clf_bias: RandomForestClassifier</label><div class=\"sk-toggleable__content\"><pre>RandomForestClassifier()</pre></div></div></div><div class=\"sk-serial\"><div class=\"sk-item\"><div class=\"sk-estimator sk-toggleable\"><input class=\"sk-toggleable__control sk-hidden--visually\" id=\"sk-estimator-id-3\" type=\"checkbox\" ><label for=\"sk-estimator-id-3\" class=\"sk-toggleable__label sk-toggleable__label-arrow\">RandomForestClassifier</label><div class=\"sk-toggleable__content\"><pre>RandomForestClassifier()</pre></div></div></div></div></div></div><div class=\"sk-parallel-item\"><div class=\"sk-item\"><div class=\"sk-label-container\"><div class=\"sk-label sk-toggleable\"><input class=\"sk-toggleable__control sk-hidden--visually\" id=\"sk-estimator-id-4\" type=\"checkbox\" ><label for=\"sk-estimator-id-4\" class=\"sk-toggleable__label sk-toggleable__label-arrow\">clf_opinion: RandomForestClassifier</label><div class=\"sk-toggleable__content\"><pre>RandomForestClassifier()</pre></div></div></div><div class=\"sk-serial\"><div class=\"sk-item\"><div class=\"sk-estimator sk-toggleable\"><input class=\"sk-toggleable__control sk-hidden--visually\" id=\"sk-estimator-id-5\" type=\"checkbox\" ><label for=\"sk-estimator-id-5\" class=\"sk-toggleable__label sk-toggleable__label-arrow\">RandomForestClassifier</label><div class=\"sk-toggleable__content\"><pre>RandomForestClassifier()</pre></div></div></div></div></div></div><div class=\"sk-parallel-item\"><div class=\"sk-item\"><div class=\"sk-label-container\"><div class=\"sk-label sk-toggleable\"><input class=\"sk-toggleable__control sk-hidden--visually\" id=\"sk-estimator-id-6\" type=\"checkbox\" ><label for=\"sk-estimator-id-6\" class=\"sk-toggleable__label sk-toggleable__label-arrow\">clf_topic: KNeighborsClassifier</label><div class=\"sk-toggleable__content\"><pre>KNeighborsClassifier()</pre></div></div></div><div class=\"sk-serial\"><div class=\"sk-item\"><div class=\"sk-estimator sk-toggleable\"><input class=\"sk-toggleable__control sk-hidden--visually\" id=\"sk-estimator-id-7\" type=\"checkbox\" ><label for=\"sk-estimator-id-7\" class=\"sk-toggleable__label sk-toggleable__label-arrow\">KNeighborsClassifier</label><div class=\"sk-toggleable__content\"><pre>KNeighborsClassifier()</pre></div></div></div></div></div></div></div></div></div></div>"
      ],
      "text/plain": [
       "SequentialClassifier(clf_bias=RandomForestClassifier(),\n",
       "                     clf_opinion=RandomForestClassifier(),\n",
       "                     clf_topic=KNeighborsClassifier())"
      ]
     },
     "execution_count": 124,
     "metadata": {},
     "output_type": "execute_result"
    }
   ],
   "source": [
    "X_train, X_test, y_train, y_test = train_test_split(list(df.embedding.values), df[['topic', 'label_bias', 'label_opinion']], test_size=0.3, random_state=42)\n",
    "sequential_clf.fit(np.vstack(X_train),y_train)"
   ]
  },
  {
   "cell_type": "code",
   "execution_count": 127,
   "metadata": {},
   "outputs": [],
   "source": [
    "y_pred = sequential_clf.predict(np.vstack(X_test))"
   ]
  },
  {
   "cell_type": "code",
   "execution_count": 134,
   "metadata": {},
   "outputs": [
    {
     "name": "stdout",
     "output_type": "stream",
     "text": [
      "kNN+RF classification report on the bias column\n",
      "              precision    recall  f1-score   support\n",
      "\n",
      "      Biased       0.61      0.67      0.64       524\n",
      "  Non-biased       0.68      0.62      0.65       579\n",
      "\n",
      "    accuracy                           0.64      1103\n",
      "   macro avg       0.65      0.65      0.64      1103\n",
      "weighted avg       0.65      0.64      0.64      1103\n",
      "\n"
     ]
    }
   ],
   "source": [
    "report = classification_report(y_test.values[:,1], y_pred[:,1])\n",
    "print('kNN+RF classification report on the bias column')\n",
    "print(report)"
   ]
  },
  {
   "cell_type": "markdown",
   "metadata": {},
   "source": [
    "It seems that by adding the topic classifier first we are unnecessarily complicating the model, which leads to a worse performance when it comes to assessing bias. Therefore, let's resort to exploring direct bias classification of the embeddings, but run a grid search with cross validation to determine the best algorithm and hyperparameters of the model."
   ]
  },
  {
   "cell_type": "markdown",
   "metadata": {},
   "source": [
    "## Model selection and hyperparameter tuning with GridSearchCV"
   ]
  },
  {
   "cell_type": "code",
   "execution_count": 137,
   "metadata": {},
   "outputs": [],
   "source": [
    "from sklearn.model_selection import GridSearchCV, train_test_split\n",
    "from sklearn.pipeline import Pipeline\n",
    "from sklearn.preprocessing import StandardScaler\n",
    "from sklearn.linear_model import LogisticRegression\n",
    "from sklearn.svm import SVC\n",
    "from sklearn.ensemble import RandomForestClassifier, GradientBoostingClassifier\n",
    "from sklearn.neural_network import MLPClassifier\n",
    "from sklearn.metrics import f1_score"
   ]
  },
  {
   "cell_type": "code",
   "execution_count": 210,
   "metadata": {},
   "outputs": [],
   "source": [
    "pipeline_steps = [\n",
    "    {\n",
    "        'clf': [LogisticRegression()],\n",
    "        'clf__penalty': ['l1', 'l2'],\n",
    "        'clf__C': np.logspace(-4, 4, 5),\n",
    "    }, \n",
    "    {\n",
    "        'clf': [SVC()],\n",
    "        'clf__kernel': ['linear', 'rbf'],\n",
    "        'clf__C': [0.1, 1, 10],\n",
    "        'clf__gamma': [1, 0.1, 0.01],\n",
    "    }, \n",
    "    {\n",
    "        'clf': [RandomForestClassifier()],\n",
    "        'clf__n_estimators': [100, 200, 500],\n",
    "        'clf__max_depth': [None, 10, 20, 30],\n",
    "    }, \n",
    "    {\n",
    "        'clf': [GradientBoostingClassifier()],\n",
    "        'clf__n_estimators': [100, 200, 500],\n",
    "        'clf__learning_rate': [0.1, 0.05, 0.01],\n",
    "        'clf__max_depth': [3, 4, 5],\n",
    "    },\n",
    "    {\n",
    "        'clf': [MLPClassifier()],\n",
    "        'clf__hidden_layer_sizes': [(32, 32), (64, 64), (128, 128)],\n",
    "        'clf__activation': ['relu', 'tanh'],\n",
    "        'clf__learning_rate': ['constant', 'invscaling', 'adaptive'],\n",
    "        'clf__max_iter': [200, 300, 400],\n",
    "    }\n",
    "]"
   ]
  },
  {
   "cell_type": "code",
   "execution_count": 142,
   "metadata": {},
   "outputs": [],
   "source": [
    "pipe = Pipeline([\n",
    "    ('preprocessing', StandardScaler()), \n",
    "    ('clf', None)  # Will be filled in by GridSearchCV\n",
    "])\n",
    "\n",
    "grid_search = GridSearchCV(estimator=pipe, param_grid=pipeline_steps, scoring='f1_weighted', n_jobs=-1, cv=5, verbose=2)"
   ]
  },
  {
   "cell_type": "code",
   "execution_count": 143,
   "metadata": {},
   "outputs": [],
   "source": [
    "X_train, X_test, y_train, y_test = train_test_split(\n",
    "    list(df.embedding.values), df.label_bias, test_size=0.2, random_state=42\n",
    ")"
   ]
  },
  {
   "cell_type": "code",
   "execution_count": 173,
   "metadata": {},
   "outputs": [],
   "source": [
    "# Train the GridSearchCV pipeline and fit the best model to the data\n",
    "grid_search.fit(X_train, y_train)"
   ]
  },
  {
   "cell_type": "code",
   "execution_count": 157,
   "metadata": {},
   "outputs": [
    {
     "name": "stdout",
     "output_type": "stream",
     "text": [
      "Best model: Pipeline(steps=[('preprocessing', StandardScaler()),\n",
      "                ('clf', LogisticRegression(C=0.0001))])\n",
      "F1 score: 0.7900569363588462\n"
     ]
    }
   ],
   "source": [
    "\n",
    "# Evaluate the best model\n",
    "y_pred = grid_search.predict(X_test)\n",
    "f1 = f1_score(y_test.values, y_pred, average=\"weighted\", labels=['Biased', 'Non-biased'])\n",
    "print(f\"Best model: {grid_search.best_estimator_}\")\n",
    "print(f\"F1 score: {f1}\")"
   ]
  },
  {
   "cell_type": "markdown",
   "metadata": {},
   "source": [
    "Let's finally plot all test scores to see how much better the LogisticRegression model is with respect to all others."
   ]
  },
  {
   "cell_type": "code",
   "execution_count": 195,
   "metadata": {},
   "outputs": [],
   "source": [
    "mean_test_scores = grid_search.cv_results_['mean_test_score']\n",
    "params = grid_search.cv_results_['params']\n",
    "\n",
    "model_names = [type(param['clf']).__name__ for param in params]\n",
    "hyperparams = [str(param) for param in params]\n",
    "\n",
    "data = {'Model': model_names, 'Hyperparameters': hyperparams, 'F1 Score': mean_test_scores}\n",
    "df_scores = pd.DataFrame(data)\n"
   ]
  },
  {
   "cell_type": "code",
   "execution_count": 198,
   "metadata": {},
   "outputs": [
    {
     "data": {
      "text/html": [
       "<div>\n",
       "<style scoped>\n",
       "    .dataframe tbody tr th:only-of-type {\n",
       "        vertical-align: middle;\n",
       "    }\n",
       "\n",
       "    .dataframe tbody tr th {\n",
       "        vertical-align: top;\n",
       "    }\n",
       "\n",
       "    .dataframe thead th {\n",
       "        text-align: right;\n",
       "    }\n",
       "</style>\n",
       "<table border=\"1\" class=\"dataframe\">\n",
       "  <thead>\n",
       "    <tr style=\"text-align: right;\">\n",
       "      <th></th>\n",
       "      <th>Model</th>\n",
       "      <th>Hyperparameters</th>\n",
       "      <th>F1 Score</th>\n",
       "    </tr>\n",
       "  </thead>\n",
       "  <tbody>\n",
       "    <tr>\n",
       "      <th>0</th>\n",
       "      <td>LogisticRegression</td>\n",
       "      <td>{'clf': LogisticRegression(C=0.0001), 'clf__C'...</td>\n",
       "      <td>NaN</td>\n",
       "    </tr>\n",
       "    <tr>\n",
       "      <th>1</th>\n",
       "      <td>LogisticRegression</td>\n",
       "      <td>{'clf': LogisticRegression(C=0.0001), 'clf__C'...</td>\n",
       "      <td>0.790158</td>\n",
       "    </tr>\n",
       "    <tr>\n",
       "      <th>2</th>\n",
       "      <td>LogisticRegression</td>\n",
       "      <td>{'clf': LogisticRegression(C=0.0001), 'clf__C'...</td>\n",
       "      <td>NaN</td>\n",
       "    </tr>\n",
       "    <tr>\n",
       "      <th>3</th>\n",
       "      <td>LogisticRegression</td>\n",
       "      <td>{'clf': LogisticRegression(C=0.0001), 'clf__C'...</td>\n",
       "      <td>0.774114</td>\n",
       "    </tr>\n",
       "    <tr>\n",
       "      <th>4</th>\n",
       "      <td>LogisticRegression</td>\n",
       "      <td>{'clf': LogisticRegression(C=0.0001), 'clf__C'...</td>\n",
       "      <td>NaN</td>\n",
       "    </tr>\n",
       "    <tr>\n",
       "      <th>...</th>\n",
       "      <td>...</td>\n",
       "      <td>...</td>\n",
       "      <td>...</td>\n",
       "    </tr>\n",
       "    <tr>\n",
       "      <th>116</th>\n",
       "      <td>MLPClassifier</td>\n",
       "      <td>{'clf': MLPClassifier(), 'clf__activation': 't...</td>\n",
       "      <td>0.777800</td>\n",
       "    </tr>\n",
       "    <tr>\n",
       "      <th>117</th>\n",
       "      <td>MLPClassifier</td>\n",
       "      <td>{'clf': MLPClassifier(), 'clf__activation': 't...</td>\n",
       "      <td>0.784478</td>\n",
       "    </tr>\n",
       "    <tr>\n",
       "      <th>118</th>\n",
       "      <td>MLPClassifier</td>\n",
       "      <td>{'clf': MLPClassifier(), 'clf__activation': 't...</td>\n",
       "      <td>0.778258</td>\n",
       "    </tr>\n",
       "    <tr>\n",
       "      <th>119</th>\n",
       "      <td>MLPClassifier</td>\n",
       "      <td>{'clf': MLPClassifier(), 'clf__activation': 't...</td>\n",
       "      <td>0.781054</td>\n",
       "    </tr>\n",
       "    <tr>\n",
       "      <th>120</th>\n",
       "      <td>MLPClassifier</td>\n",
       "      <td>{'clf': MLPClassifier(), 'clf__activation': 't...</td>\n",
       "      <td>0.782527</td>\n",
       "    </tr>\n",
       "  </tbody>\n",
       "</table>\n",
       "<p>121 rows × 3 columns</p>\n",
       "</div>"
      ],
      "text/plain": [
       "                  Model                                    Hyperparameters  \\\n",
       "0    LogisticRegression  {'clf': LogisticRegression(C=0.0001), 'clf__C'...   \n",
       "1    LogisticRegression  {'clf': LogisticRegression(C=0.0001), 'clf__C'...   \n",
       "2    LogisticRegression  {'clf': LogisticRegression(C=0.0001), 'clf__C'...   \n",
       "3    LogisticRegression  {'clf': LogisticRegression(C=0.0001), 'clf__C'...   \n",
       "4    LogisticRegression  {'clf': LogisticRegression(C=0.0001), 'clf__C'...   \n",
       "..                  ...                                                ...   \n",
       "116       MLPClassifier  {'clf': MLPClassifier(), 'clf__activation': 't...   \n",
       "117       MLPClassifier  {'clf': MLPClassifier(), 'clf__activation': 't...   \n",
       "118       MLPClassifier  {'clf': MLPClassifier(), 'clf__activation': 't...   \n",
       "119       MLPClassifier  {'clf': MLPClassifier(), 'clf__activation': 't...   \n",
       "120       MLPClassifier  {'clf': MLPClassifier(), 'clf__activation': 't...   \n",
       "\n",
       "     F1 Score  \n",
       "0         NaN  \n",
       "1    0.790158  \n",
       "2         NaN  \n",
       "3    0.774114  \n",
       "4         NaN  \n",
       "..        ...  \n",
       "116  0.777800  \n",
       "117  0.784478  \n",
       "118  0.778258  \n",
       "119  0.781054  \n",
       "120  0.782527  \n",
       "\n",
       "[121 rows x 3 columns]"
      ]
     },
     "execution_count": 198,
     "metadata": {},
     "output_type": "execute_result"
    }
   ],
   "source": [
    "df_scores"
   ]
  },
  {
   "cell_type": "code",
   "execution_count": 207,
   "metadata": {},
   "outputs": [
    {
     "data": {
      "application/vnd.plotly.v1+json": {
       "config": {
        "plotlyServerURL": "https://plot.ly"
       },
       "data": [
        {
         "hovertemplate": "Hyperparameters={'clf': LogisticRegression(C=0.0001), 'clf__C': 0.0001, 'clf__penalty': 'l1'}<br>Model=%{x}<br>F1 Score=%{y}<extra></extra>",
         "legendgroup": "{'clf': LogisticRegression(C=0.0001), 'clf__C': 0.0001, 'clf__penalty': 'l1'}",
         "marker": {
          "color": "#636efa",
          "size": 12,
          "symbol": "circle"
         },
         "mode": "markers",
         "name": "{'clf': LogisticRegression(C=0.0001), 'clf__C': 0.0001, 'clf__penalty': 'l1'}",
         "orientation": "v",
         "showlegend": true,
         "type": "scatter",
         "x": [
          "LogisticRegression"
         ],
         "xaxis": "x",
         "y": [
          null
         ],
         "yaxis": "y"
        },
        {
         "hovertemplate": "Hyperparameters={'clf': LogisticRegression(C=0.0001), 'clf__C': 0.0001, 'clf__penalty': 'l2'}<br>Model=%{x}<br>F1 Score=%{y}<extra></extra>",
         "legendgroup": "{'clf': LogisticRegression(C=0.0001), 'clf__C': 0.0001, 'clf__penalty': 'l2'}",
         "marker": {
          "color": "#EF553B",
          "size": 12,
          "symbol": "circle"
         },
         "mode": "markers",
         "name": "{'clf': LogisticRegression(C=0.0001), 'clf__C': 0.0001, 'clf__penalty': 'l2'}",
         "orientation": "v",
         "showlegend": true,
         "type": "scatter",
         "x": [
          "LogisticRegression"
         ],
         "xaxis": "x",
         "y": [
          0.7901579647844461
         ],
         "yaxis": "y"
        },
        {
         "hovertemplate": "Hyperparameters={'clf': LogisticRegression(C=0.0001), 'clf__C': 0.01, 'clf__penalty': 'l1'}<br>Model=%{x}<br>F1 Score=%{y}<extra></extra>",
         "legendgroup": "{'clf': LogisticRegression(C=0.0001), 'clf__C': 0.01, 'clf__penalty': 'l1'}",
         "marker": {
          "color": "#00cc96",
          "size": 12,
          "symbol": "circle"
         },
         "mode": "markers",
         "name": "{'clf': LogisticRegression(C=0.0001), 'clf__C': 0.01, 'clf__penalty': 'l1'}",
         "orientation": "v",
         "showlegend": true,
         "type": "scatter",
         "x": [
          "LogisticRegression"
         ],
         "xaxis": "x",
         "y": [
          null
         ],
         "yaxis": "y"
        },
        {
         "hovertemplate": "Hyperparameters={'clf': LogisticRegression(C=0.0001), 'clf__C': 0.01, 'clf__penalty': 'l2'}<br>Model=%{x}<br>F1 Score=%{y}<extra></extra>",
         "legendgroup": "{'clf': LogisticRegression(C=0.0001), 'clf__C': 0.01, 'clf__penalty': 'l2'}",
         "marker": {
          "color": "#ab63fa",
          "size": 12,
          "symbol": "circle"
         },
         "mode": "markers",
         "name": "{'clf': LogisticRegression(C=0.0001), 'clf__C': 0.01, 'clf__penalty': 'l2'}",
         "orientation": "v",
         "showlegend": true,
         "type": "scatter",
         "x": [
          "LogisticRegression"
         ],
         "xaxis": "x",
         "y": [
          0.7741136145383167
         ],
         "yaxis": "y"
        },
        {
         "hovertemplate": "Hyperparameters={'clf': LogisticRegression(C=0.0001), 'clf__C': 1.0, 'clf__penalty': 'l1'}<br>Model=%{x}<br>F1 Score=%{y}<extra></extra>",
         "legendgroup": "{'clf': LogisticRegression(C=0.0001), 'clf__C': 1.0, 'clf__penalty': 'l1'}",
         "marker": {
          "color": "#FFA15A",
          "size": 12,
          "symbol": "circle"
         },
         "mode": "markers",
         "name": "{'clf': LogisticRegression(C=0.0001), 'clf__C': 1.0, 'clf__penalty': 'l1'}",
         "orientation": "v",
         "showlegend": true,
         "type": "scatter",
         "x": [
          "LogisticRegression"
         ],
         "xaxis": "x",
         "y": [
          null
         ],
         "yaxis": "y"
        },
        {
         "hovertemplate": "Hyperparameters={'clf': LogisticRegression(C=0.0001), 'clf__C': 1.0, 'clf__penalty': 'l2'}<br>Model=%{x}<br>F1 Score=%{y}<extra></extra>",
         "legendgroup": "{'clf': LogisticRegression(C=0.0001), 'clf__C': 1.0, 'clf__penalty': 'l2'}",
         "marker": {
          "color": "#19d3f3",
          "size": 12,
          "symbol": "circle"
         },
         "mode": "markers",
         "name": "{'clf': LogisticRegression(C=0.0001), 'clf__C': 1.0, 'clf__penalty': 'l2'}",
         "orientation": "v",
         "showlegend": true,
         "type": "scatter",
         "x": [
          "LogisticRegression"
         ],
         "xaxis": "x",
         "y": [
          0.7207922838865174
         ],
         "yaxis": "y"
        },
        {
         "hovertemplate": "Hyperparameters={'clf': LogisticRegression(C=0.0001), 'clf__C': 100.0, 'clf__penalty': 'l1'}<br>Model=%{x}<br>F1 Score=%{y}<extra></extra>",
         "legendgroup": "{'clf': LogisticRegression(C=0.0001), 'clf__C': 100.0, 'clf__penalty': 'l1'}",
         "marker": {
          "color": "#FF6692",
          "size": 12,
          "symbol": "circle"
         },
         "mode": "markers",
         "name": "{'clf': LogisticRegression(C=0.0001), 'clf__C': 100.0, 'clf__penalty': 'l1'}",
         "orientation": "v",
         "showlegend": true,
         "type": "scatter",
         "x": [
          "LogisticRegression"
         ],
         "xaxis": "x",
         "y": [
          null
         ],
         "yaxis": "y"
        },
        {
         "hovertemplate": "Hyperparameters={'clf': LogisticRegression(C=0.0001), 'clf__C': 100.0, 'clf__penalty': 'l2'}<br>Model=%{x}<br>F1 Score=%{y}<extra></extra>",
         "legendgroup": "{'clf': LogisticRegression(C=0.0001), 'clf__C': 100.0, 'clf__penalty': 'l2'}",
         "marker": {
          "color": "#B6E880",
          "size": 12,
          "symbol": "circle"
         },
         "mode": "markers",
         "name": "{'clf': LogisticRegression(C=0.0001), 'clf__C': 100.0, 'clf__penalty': 'l2'}",
         "orientation": "v",
         "showlegend": true,
         "type": "scatter",
         "x": [
          "LogisticRegression"
         ],
         "xaxis": "x",
         "y": [
          0.7214272552926998
         ],
         "yaxis": "y"
        },
        {
         "hovertemplate": "Hyperparameters={'clf': LogisticRegression(C=0.0001), 'clf__C': 10000.0, 'clf__penalty': 'l1'}<br>Model=%{x}<br>F1 Score=%{y}<extra></extra>",
         "legendgroup": "{'clf': LogisticRegression(C=0.0001), 'clf__C': 10000.0, 'clf__penalty': 'l1'}",
         "marker": {
          "color": "#FF97FF",
          "size": 12,
          "symbol": "circle"
         },
         "mode": "markers",
         "name": "{'clf': LogisticRegression(C=0.0001), 'clf__C': 10000.0, 'clf__penalty': 'l1'}",
         "orientation": "v",
         "showlegend": true,
         "type": "scatter",
         "x": [
          "LogisticRegression"
         ],
         "xaxis": "x",
         "y": [
          null
         ],
         "yaxis": "y"
        },
        {
         "hovertemplate": "Hyperparameters={'clf': LogisticRegression(C=0.0001), 'clf__C': 10000.0, 'clf__penalty': 'l2'}<br>Model=%{x}<br>F1 Score=%{y}<extra></extra>",
         "legendgroup": "{'clf': LogisticRegression(C=0.0001), 'clf__C': 10000.0, 'clf__penalty': 'l2'}",
         "marker": {
          "color": "#FECB52",
          "size": 12,
          "symbol": "circle"
         },
         "mode": "markers",
         "name": "{'clf': LogisticRegression(C=0.0001), 'clf__C': 10000.0, 'clf__penalty': 'l2'}",
         "orientation": "v",
         "showlegend": true,
         "type": "scatter",
         "x": [
          "LogisticRegression"
         ],
         "xaxis": "x",
         "y": [
          0.7194000307888173
         ],
         "yaxis": "y"
        },
        {
         "hovertemplate": "Hyperparameters={'clf': SVC(), 'clf__C': 0.1, 'clf__gamma': 1, 'clf__kernel': 'linear'}<br>Model=%{x}<br>F1 Score=%{y}<extra></extra>",
         "legendgroup": "{'clf': SVC(), 'clf__C': 0.1, 'clf__gamma': 1, 'clf__kernel': 'linear'}",
         "marker": {
          "color": "#636efa",
          "size": 12,
          "symbol": "circle"
         },
         "mode": "markers",
         "name": "{'clf': SVC(), 'clf__C': 0.1, 'clf__gamma': 1, 'clf__kernel': 'linear'}",
         "orientation": "v",
         "showlegend": true,
         "type": "scatter",
         "x": [
          "SVC"
         ],
         "xaxis": "x",
         "y": [
          0.7064991414952136
         ],
         "yaxis": "y"
        },
        {
         "hovertemplate": "Hyperparameters={'clf': SVC(), 'clf__C': 0.1, 'clf__gamma': 1, 'clf__kernel': 'rbf'}<br>Model=%{x}<br>F1 Score=%{y}<extra></extra>",
         "legendgroup": "{'clf': SVC(), 'clf__C': 0.1, 'clf__gamma': 1, 'clf__kernel': 'rbf'}",
         "marker": {
          "color": "#EF553B",
          "size": 12,
          "symbol": "circle"
         },
         "mode": "markers",
         "name": "{'clf': SVC(), 'clf__C': 0.1, 'clf__gamma': 1, 'clf__kernel': 'rbf'}",
         "orientation": "v",
         "showlegend": true,
         "type": "scatter",
         "x": [
          "SVC"
         ],
         "xaxis": "x",
         "y": [
          0.3256430764679991
         ],
         "yaxis": "y"
        },
        {
         "hovertemplate": "Hyperparameters={'clf': SVC(), 'clf__C': 0.1, 'clf__gamma': 0.1, 'clf__kernel': 'linear'}<br>Model=%{x}<br>F1 Score=%{y}<extra></extra>",
         "legendgroup": "{'clf': SVC(), 'clf__C': 0.1, 'clf__gamma': 0.1, 'clf__kernel': 'linear'}",
         "marker": {
          "color": "#00cc96",
          "size": 12,
          "symbol": "circle"
         },
         "mode": "markers",
         "name": "{'clf': SVC(), 'clf__C': 0.1, 'clf__gamma': 0.1, 'clf__kernel': 'linear'}",
         "orientation": "v",
         "showlegend": true,
         "type": "scatter",
         "x": [
          "SVC"
         ],
         "xaxis": "x",
         "y": [
          0.7064991414952136
         ],
         "yaxis": "y"
        },
        {
         "hovertemplate": "Hyperparameters={'clf': SVC(), 'clf__C': 0.1, 'clf__gamma': 0.1, 'clf__kernel': 'rbf'}<br>Model=%{x}<br>F1 Score=%{y}<extra></extra>",
         "legendgroup": "{'clf': SVC(), 'clf__C': 0.1, 'clf__gamma': 0.1, 'clf__kernel': 'rbf'}",
         "marker": {
          "color": "#ab63fa",
          "size": 12,
          "symbol": "circle"
         },
         "mode": "markers",
         "name": "{'clf': SVC(), 'clf__C': 0.1, 'clf__gamma': 0.1, 'clf__kernel': 'rbf'}",
         "orientation": "v",
         "showlegend": true,
         "type": "scatter",
         "x": [
          "SVC"
         ],
         "xaxis": "x",
         "y": [
          0.3256430764679991
         ],
         "yaxis": "y"
        },
        {
         "hovertemplate": "Hyperparameters={'clf': SVC(), 'clf__C': 0.1, 'clf__gamma': 0.01, 'clf__kernel': 'linear'}<br>Model=%{x}<br>F1 Score=%{y}<extra></extra>",
         "legendgroup": "{'clf': SVC(), 'clf__C': 0.1, 'clf__gamma': 0.01, 'clf__kernel': 'linear'}",
         "marker": {
          "color": "#FFA15A",
          "size": 12,
          "symbol": "circle"
         },
         "mode": "markers",
         "name": "{'clf': SVC(), 'clf__C': 0.1, 'clf__gamma': 0.01, 'clf__kernel': 'linear'}",
         "orientation": "v",
         "showlegend": true,
         "type": "scatter",
         "x": [
          "SVC"
         ],
         "xaxis": "x",
         "y": [
          0.7064991414952136
         ],
         "yaxis": "y"
        },
        {
         "hovertemplate": "Hyperparameters={'clf': SVC(), 'clf__C': 0.1, 'clf__gamma': 0.01, 'clf__kernel': 'rbf'}<br>Model=%{x}<br>F1 Score=%{y}<extra></extra>",
         "legendgroup": "{'clf': SVC(), 'clf__C': 0.1, 'clf__gamma': 0.01, 'clf__kernel': 'rbf'}",
         "marker": {
          "color": "#19d3f3",
          "size": 12,
          "symbol": "circle"
         },
         "mode": "markers",
         "name": "{'clf': SVC(), 'clf__C': 0.1, 'clf__gamma': 0.01, 'clf__kernel': 'rbf'}",
         "orientation": "v",
         "showlegend": true,
         "type": "scatter",
         "x": [
          "SVC"
         ],
         "xaxis": "x",
         "y": [
          0.3256430764679991
         ],
         "yaxis": "y"
        },
        {
         "hovertemplate": "Hyperparameters={'clf': SVC(), 'clf__C': 1, 'clf__gamma': 1, 'clf__kernel': 'linear'}<br>Model=%{x}<br>F1 Score=%{y}<extra></extra>",
         "legendgroup": "{'clf': SVC(), 'clf__C': 1, 'clf__gamma': 1, 'clf__kernel': 'linear'}",
         "marker": {
          "color": "#FF6692",
          "size": 12,
          "symbol": "circle"
         },
         "mode": "markers",
         "name": "{'clf': SVC(), 'clf__C': 1, 'clf__gamma': 1, 'clf__kernel': 'linear'}",
         "orientation": "v",
         "showlegend": true,
         "type": "scatter",
         "x": [
          "SVC"
         ],
         "xaxis": "x",
         "y": [
          0.7112140578751505
         ],
         "yaxis": "y"
        },
        {
         "hovertemplate": "Hyperparameters={'clf': SVC(), 'clf__C': 1, 'clf__gamma': 1, 'clf__kernel': 'rbf'}<br>Model=%{x}<br>F1 Score=%{y}<extra></extra>",
         "legendgroup": "{'clf': SVC(), 'clf__C': 1, 'clf__gamma': 1, 'clf__kernel': 'rbf'}",
         "marker": {
          "color": "#B6E880",
          "size": 12,
          "symbol": "circle"
         },
         "mode": "markers",
         "name": "{'clf': SVC(), 'clf__C': 1, 'clf__gamma': 1, 'clf__kernel': 'rbf'}",
         "orientation": "v",
         "showlegend": true,
         "type": "scatter",
         "x": [
          "SVC"
         ],
         "xaxis": "x",
         "y": [
          0.3256430764679991
         ],
         "yaxis": "y"
        },
        {
         "hovertemplate": "Hyperparameters={'clf': SVC(), 'clf__C': 1, 'clf__gamma': 0.1, 'clf__kernel': 'linear'}<br>Model=%{x}<br>F1 Score=%{y}<extra></extra>",
         "legendgroup": "{'clf': SVC(), 'clf__C': 1, 'clf__gamma': 0.1, 'clf__kernel': 'linear'}",
         "marker": {
          "color": "#FF97FF",
          "size": 12,
          "symbol": "circle"
         },
         "mode": "markers",
         "name": "{'clf': SVC(), 'clf__C': 1, 'clf__gamma': 0.1, 'clf__kernel': 'linear'}",
         "orientation": "v",
         "showlegend": true,
         "type": "scatter",
         "x": [
          "SVC"
         ],
         "xaxis": "x",
         "y": [
          0.7112140578751505
         ],
         "yaxis": "y"
        },
        {
         "hovertemplate": "Hyperparameters={'clf': SVC(), 'clf__C': 1, 'clf__gamma': 0.1, 'clf__kernel': 'rbf'}<br>Model=%{x}<br>F1 Score=%{y}<extra></extra>",
         "legendgroup": "{'clf': SVC(), 'clf__C': 1, 'clf__gamma': 0.1, 'clf__kernel': 'rbf'}",
         "marker": {
          "color": "#FECB52",
          "size": 12,
          "symbol": "circle"
         },
         "mode": "markers",
         "name": "{'clf': SVC(), 'clf__C': 1, 'clf__gamma': 0.1, 'clf__kernel': 'rbf'}",
         "orientation": "v",
         "showlegend": true,
         "type": "scatter",
         "x": [
          "SVC"
         ],
         "xaxis": "x",
         "y": [
          0.32999567848335964
         ],
         "yaxis": "y"
        },
        {
         "hovertemplate": "Hyperparameters={'clf': SVC(), 'clf__C': 1, 'clf__gamma': 0.01, 'clf__kernel': 'linear'}<br>Model=%{x}<br>F1 Score=%{y}<extra></extra>",
         "legendgroup": "{'clf': SVC(), 'clf__C': 1, 'clf__gamma': 0.01, 'clf__kernel': 'linear'}",
         "marker": {
          "color": "#636efa",
          "size": 12,
          "symbol": "circle"
         },
         "mode": "markers",
         "name": "{'clf': SVC(), 'clf__C': 1, 'clf__gamma': 0.01, 'clf__kernel': 'linear'}",
         "orientation": "v",
         "showlegend": true,
         "type": "scatter",
         "x": [
          "SVC"
         ],
         "xaxis": "x",
         "y": [
          0.7112140578751505
         ],
         "yaxis": "y"
        },
        {
         "hovertemplate": "Hyperparameters={'clf': SVC(), 'clf__C': 1, 'clf__gamma': 0.01, 'clf__kernel': 'rbf'}<br>Model=%{x}<br>F1 Score=%{y}<extra></extra>",
         "legendgroup": "{'clf': SVC(), 'clf__C': 1, 'clf__gamma': 0.01, 'clf__kernel': 'rbf'}",
         "marker": {
          "color": "#EF553B",
          "size": 12,
          "symbol": "circle"
         },
         "mode": "markers",
         "name": "{'clf': SVC(), 'clf__C': 1, 'clf__gamma': 0.01, 'clf__kernel': 'rbf'}",
         "orientation": "v",
         "showlegend": true,
         "type": "scatter",
         "x": [
          "SVC"
         ],
         "xaxis": "x",
         "y": [
          0.34065274070600965
         ],
         "yaxis": "y"
        },
        {
         "hovertemplate": "Hyperparameters={'clf': SVC(), 'clf__C': 10, 'clf__gamma': 1, 'clf__kernel': 'linear'}<br>Model=%{x}<br>F1 Score=%{y}<extra></extra>",
         "legendgroup": "{'clf': SVC(), 'clf__C': 10, 'clf__gamma': 1, 'clf__kernel': 'linear'}",
         "marker": {
          "color": "#00cc96",
          "size": 12,
          "symbol": "circle"
         },
         "mode": "markers",
         "name": "{'clf': SVC(), 'clf__C': 10, 'clf__gamma': 1, 'clf__kernel': 'linear'}",
         "orientation": "v",
         "showlegend": true,
         "type": "scatter",
         "x": [
          "SVC"
         ],
         "xaxis": "x",
         "y": [
          0.7112140578751505
         ],
         "yaxis": "y"
        },
        {
         "hovertemplate": "Hyperparameters={'clf': SVC(), 'clf__C': 10, 'clf__gamma': 1, 'clf__kernel': 'rbf'}<br>Model=%{x}<br>F1 Score=%{y}<extra></extra>",
         "legendgroup": "{'clf': SVC(), 'clf__C': 10, 'clf__gamma': 1, 'clf__kernel': 'rbf'}",
         "marker": {
          "color": "#ab63fa",
          "size": 12,
          "symbol": "circle"
         },
         "mode": "markers",
         "name": "{'clf': SVC(), 'clf__C': 10, 'clf__gamma': 1, 'clf__kernel': 'rbf'}",
         "orientation": "v",
         "showlegend": true,
         "type": "scatter",
         "x": [
          "SVC"
         ],
         "xaxis": "x",
         "y": [
          0.3256430764679991
         ],
         "yaxis": "y"
        },
        {
         "hovertemplate": "Hyperparameters={'clf': SVC(), 'clf__C': 10, 'clf__gamma': 0.1, 'clf__kernel': 'linear'}<br>Model=%{x}<br>F1 Score=%{y}<extra></extra>",
         "legendgroup": "{'clf': SVC(), 'clf__C': 10, 'clf__gamma': 0.1, 'clf__kernel': 'linear'}",
         "marker": {
          "color": "#FFA15A",
          "size": 12,
          "symbol": "circle"
         },
         "mode": "markers",
         "name": "{'clf': SVC(), 'clf__C': 10, 'clf__gamma': 0.1, 'clf__kernel': 'linear'}",
         "orientation": "v",
         "showlegend": true,
         "type": "scatter",
         "x": [
          "SVC"
         ],
         "xaxis": "x",
         "y": [
          0.7112140578751505
         ],
         "yaxis": "y"
        },
        {
         "hovertemplate": "Hyperparameters={'clf': SVC(), 'clf__C': 10, 'clf__gamma': 0.1, 'clf__kernel': 'rbf'}<br>Model=%{x}<br>F1 Score=%{y}<extra></extra>",
         "legendgroup": "{'clf': SVC(), 'clf__C': 10, 'clf__gamma': 0.1, 'clf__kernel': 'rbf'}",
         "marker": {
          "color": "#19d3f3",
          "size": 12,
          "symbol": "circle"
         },
         "mode": "markers",
         "name": "{'clf': SVC(), 'clf__C': 10, 'clf__gamma': 0.1, 'clf__kernel': 'rbf'}",
         "orientation": "v",
         "showlegend": true,
         "type": "scatter",
         "x": [
          "SVC"
         ],
         "xaxis": "x",
         "y": [
          0.33059024072967047
         ],
         "yaxis": "y"
        },
        {
         "hovertemplate": "Hyperparameters={'clf': SVC(), 'clf__C': 10, 'clf__gamma': 0.01, 'clf__kernel': 'linear'}<br>Model=%{x}<br>F1 Score=%{y}<extra></extra>",
         "legendgroup": "{'clf': SVC(), 'clf__C': 10, 'clf__gamma': 0.01, 'clf__kernel': 'linear'}",
         "marker": {
          "color": "#FF6692",
          "size": 12,
          "symbol": "circle"
         },
         "mode": "markers",
         "name": "{'clf': SVC(), 'clf__C': 10, 'clf__gamma': 0.01, 'clf__kernel': 'linear'}",
         "orientation": "v",
         "showlegend": true,
         "type": "scatter",
         "x": [
          "SVC"
         ],
         "xaxis": "x",
         "y": [
          0.7112140578751505
         ],
         "yaxis": "y"
        },
        {
         "hovertemplate": "Hyperparameters={'clf': SVC(), 'clf__C': 10, 'clf__gamma': 0.01, 'clf__kernel': 'rbf'}<br>Model=%{x}<br>F1 Score=%{y}<extra></extra>",
         "legendgroup": "{'clf': SVC(), 'clf__C': 10, 'clf__gamma': 0.01, 'clf__kernel': 'rbf'}",
         "marker": {
          "color": "#B6E880",
          "size": 12,
          "symbol": "circle"
         },
         "mode": "markers",
         "name": "{'clf': SVC(), 'clf__C': 10, 'clf__gamma': 0.01, 'clf__kernel': 'rbf'}",
         "orientation": "v",
         "showlegend": true,
         "type": "scatter",
         "x": [
          "SVC"
         ],
         "xaxis": "x",
         "y": [
          0.34065274070600965
         ],
         "yaxis": "y"
        },
        {
         "hovertemplate": "Hyperparameters={'clf': RandomForestClassifier(), 'clf__max_depth': None, 'clf__n_estimators': 100}<br>Model=%{x}<br>F1 Score=%{y}<extra></extra>",
         "legendgroup": "{'clf': RandomForestClassifier(), 'clf__max_depth': None, 'clf__n_estimators': 100}",
         "marker": {
          "color": "#FF97FF",
          "size": 12,
          "symbol": "circle"
         },
         "mode": "markers",
         "name": "{'clf': RandomForestClassifier(), 'clf__max_depth': None, 'clf__n_estimators': 100}",
         "orientation": "v",
         "showlegend": true,
         "type": "scatter",
         "x": [
          "RandomForestClassifier"
         ],
         "xaxis": "x",
         "y": [
          0.7596109974967418
         ],
         "yaxis": "y"
        },
        {
         "hovertemplate": "Hyperparameters={'clf': RandomForestClassifier(), 'clf__max_depth': None, 'clf__n_estimators': 200}<br>Model=%{x}<br>F1 Score=%{y}<extra></extra>",
         "legendgroup": "{'clf': RandomForestClassifier(), 'clf__max_depth': None, 'clf__n_estimators': 200}",
         "marker": {
          "color": "#FECB52",
          "size": 12,
          "symbol": "circle"
         },
         "mode": "markers",
         "name": "{'clf': RandomForestClassifier(), 'clf__max_depth': None, 'clf__n_estimators': 200}",
         "orientation": "v",
         "showlegend": true,
         "type": "scatter",
         "x": [
          "RandomForestClassifier"
         ],
         "xaxis": "x",
         "y": [
          0.7684342107321269
         ],
         "yaxis": "y"
        },
        {
         "hovertemplate": "Hyperparameters={'clf': RandomForestClassifier(), 'clf__max_depth': None, 'clf__n_estimators': 500}<br>Model=%{x}<br>F1 Score=%{y}<extra></extra>",
         "legendgroup": "{'clf': RandomForestClassifier(), 'clf__max_depth': None, 'clf__n_estimators': 500}",
         "marker": {
          "color": "#636efa",
          "size": 12,
          "symbol": "circle"
         },
         "mode": "markers",
         "name": "{'clf': RandomForestClassifier(), 'clf__max_depth': None, 'clf__n_estimators': 500}",
         "orientation": "v",
         "showlegend": true,
         "type": "scatter",
         "x": [
          "RandomForestClassifier"
         ],
         "xaxis": "x",
         "y": [
          0.7734714843442554
         ],
         "yaxis": "y"
        },
        {
         "hovertemplate": "Hyperparameters={'clf': RandomForestClassifier(), 'clf__max_depth': 10, 'clf__n_estimators': 100}<br>Model=%{x}<br>F1 Score=%{y}<extra></extra>",
         "legendgroup": "{'clf': RandomForestClassifier(), 'clf__max_depth': 10, 'clf__n_estimators': 100}",
         "marker": {
          "color": "#EF553B",
          "size": 12,
          "symbol": "circle"
         },
         "mode": "markers",
         "name": "{'clf': RandomForestClassifier(), 'clf__max_depth': 10, 'clf__n_estimators': 100}",
         "orientation": "v",
         "showlegend": true,
         "type": "scatter",
         "x": [
          "RandomForestClassifier"
         ],
         "xaxis": "x",
         "y": [
          0.7691008232347979
         ],
         "yaxis": "y"
        },
        {
         "hovertemplate": "Hyperparameters={'clf': RandomForestClassifier(), 'clf__max_depth': 10, 'clf__n_estimators': 200}<br>Model=%{x}<br>F1 Score=%{y}<extra></extra>",
         "legendgroup": "{'clf': RandomForestClassifier(), 'clf__max_depth': 10, 'clf__n_estimators': 200}",
         "marker": {
          "color": "#00cc96",
          "size": 12,
          "symbol": "circle"
         },
         "mode": "markers",
         "name": "{'clf': RandomForestClassifier(), 'clf__max_depth': 10, 'clf__n_estimators': 200}",
         "orientation": "v",
         "showlegend": true,
         "type": "scatter",
         "x": [
          "RandomForestClassifier"
         ],
         "xaxis": "x",
         "y": [
          0.7724990958837479
         ],
         "yaxis": "y"
        },
        {
         "hovertemplate": "Hyperparameters={'clf': RandomForestClassifier(), 'clf__max_depth': 10, 'clf__n_estimators': 500}<br>Model=%{x}<br>F1 Score=%{y}<extra></extra>",
         "legendgroup": "{'clf': RandomForestClassifier(), 'clf__max_depth': 10, 'clf__n_estimators': 500}",
         "marker": {
          "color": "#ab63fa",
          "size": 12,
          "symbol": "circle"
         },
         "mode": "markers",
         "name": "{'clf': RandomForestClassifier(), 'clf__max_depth': 10, 'clf__n_estimators': 500}",
         "orientation": "v",
         "showlegend": true,
         "type": "scatter",
         "x": [
          "RandomForestClassifier"
         ],
         "xaxis": "x",
         "y": [
          0.7711023104202954
         ],
         "yaxis": "y"
        },
        {
         "hovertemplate": "Hyperparameters={'clf': RandomForestClassifier(), 'clf__max_depth': 20, 'clf__n_estimators': 100}<br>Model=%{x}<br>F1 Score=%{y}<extra></extra>",
         "legendgroup": "{'clf': RandomForestClassifier(), 'clf__max_depth': 20, 'clf__n_estimators': 100}",
         "marker": {
          "color": "#FFA15A",
          "size": 12,
          "symbol": "circle"
         },
         "mode": "markers",
         "name": "{'clf': RandomForestClassifier(), 'clf__max_depth': 20, 'clf__n_estimators': 100}",
         "orientation": "v",
         "showlegend": true,
         "type": "scatter",
         "x": [
          "RandomForestClassifier"
         ],
         "xaxis": "x",
         "y": [
          0.7602180794773472
         ],
         "yaxis": "y"
        },
        {
         "hovertemplate": "Hyperparameters={'clf': RandomForestClassifier(), 'clf__max_depth': 20, 'clf__n_estimators': 200}<br>Model=%{x}<br>F1 Score=%{y}<extra></extra>",
         "legendgroup": "{'clf': RandomForestClassifier(), 'clf__max_depth': 20, 'clf__n_estimators': 200}",
         "marker": {
          "color": "#19d3f3",
          "size": 12,
          "symbol": "circle"
         },
         "mode": "markers",
         "name": "{'clf': RandomForestClassifier(), 'clf__max_depth': 20, 'clf__n_estimators': 200}",
         "orientation": "v",
         "showlegend": true,
         "type": "scatter",
         "x": [
          "RandomForestClassifier"
         ],
         "xaxis": "x",
         "y": [
          0.7656611029044508
         ],
         "yaxis": "y"
        },
        {
         "hovertemplate": "Hyperparameters={'clf': RandomForestClassifier(), 'clf__max_depth': 20, 'clf__n_estimators': 500}<br>Model=%{x}<br>F1 Score=%{y}<extra></extra>",
         "legendgroup": "{'clf': RandomForestClassifier(), 'clf__max_depth': 20, 'clf__n_estimators': 500}",
         "marker": {
          "color": "#FF6692",
          "size": 12,
          "symbol": "circle"
         },
         "mode": "markers",
         "name": "{'clf': RandomForestClassifier(), 'clf__max_depth': 20, 'clf__n_estimators': 500}",
         "orientation": "v",
         "showlegend": true,
         "type": "scatter",
         "x": [
          "RandomForestClassifier"
         ],
         "xaxis": "x",
         "y": [
          0.7691216107119122
         ],
         "yaxis": "y"
        },
        {
         "hovertemplate": "Hyperparameters={'clf': RandomForestClassifier(), 'clf__max_depth': 30, 'clf__n_estimators': 100}<br>Model=%{x}<br>F1 Score=%{y}<extra></extra>",
         "legendgroup": "{'clf': RandomForestClassifier(), 'clf__max_depth': 30, 'clf__n_estimators': 100}",
         "marker": {
          "color": "#B6E880",
          "size": 12,
          "symbol": "circle"
         },
         "mode": "markers",
         "name": "{'clf': RandomForestClassifier(), 'clf__max_depth': 30, 'clf__n_estimators': 100}",
         "orientation": "v",
         "showlegend": true,
         "type": "scatter",
         "x": [
          "RandomForestClassifier"
         ],
         "xaxis": "x",
         "y": [
          0.7687626735616568
         ],
         "yaxis": "y"
        },
        {
         "hovertemplate": "Hyperparameters={'clf': RandomForestClassifier(), 'clf__max_depth': 30, 'clf__n_estimators': 200}<br>Model=%{x}<br>F1 Score=%{y}<extra></extra>",
         "legendgroup": "{'clf': RandomForestClassifier(), 'clf__max_depth': 30, 'clf__n_estimators': 200}",
         "marker": {
          "color": "#FF97FF",
          "size": 12,
          "symbol": "circle"
         },
         "mode": "markers",
         "name": "{'clf': RandomForestClassifier(), 'clf__max_depth': 30, 'clf__n_estimators': 200}",
         "orientation": "v",
         "showlegend": true,
         "type": "scatter",
         "x": [
          "RandomForestClassifier"
         ],
         "xaxis": "x",
         "y": [
          0.7674446763065748
         ],
         "yaxis": "y"
        },
        {
         "hovertemplate": "Hyperparameters={'clf': RandomForestClassifier(), 'clf__max_depth': 30, 'clf__n_estimators': 500}<br>Model=%{x}<br>F1 Score=%{y}<extra></extra>",
         "legendgroup": "{'clf': RandomForestClassifier(), 'clf__max_depth': 30, 'clf__n_estimators': 500}",
         "marker": {
          "color": "#FECB52",
          "size": 12,
          "symbol": "circle"
         },
         "mode": "markers",
         "name": "{'clf': RandomForestClassifier(), 'clf__max_depth': 30, 'clf__n_estimators': 500}",
         "orientation": "v",
         "showlegend": true,
         "type": "scatter",
         "x": [
          "RandomForestClassifier"
         ],
         "xaxis": "x",
         "y": [
          0.7735128589388663
         ],
         "yaxis": "y"
        },
        {
         "hovertemplate": "Hyperparameters={'clf': GradientBoostingClassifier(), 'clf__learning_rate': 0.1, 'clf__max_depth': 3, 'clf__n_estimators': 100}<br>Model=%{x}<br>F1 Score=%{y}<extra></extra>",
         "legendgroup": "{'clf': GradientBoostingClassifier(), 'clf__learning_rate': 0.1, 'clf__max_depth': 3, 'clf__n_estimators': 100}",
         "marker": {
          "color": "#636efa",
          "size": 12,
          "symbol": "circle"
         },
         "mode": "markers",
         "name": "{'clf': GradientBoostingClassifier(), 'clf__learning_rate': 0.1, 'clf__max_depth': 3, 'clf__n_estimators': 100}",
         "orientation": "v",
         "showlegend": true,
         "type": "scatter",
         "x": [
          "GradientBoostingClassifier"
         ],
         "xaxis": "x",
         "y": [
          0.7609359407148151
         ],
         "yaxis": "y"
        },
        {
         "hovertemplate": "Hyperparameters={'clf': GradientBoostingClassifier(), 'clf__learning_rate': 0.1, 'clf__max_depth': 3, 'clf__n_estimators': 200}<br>Model=%{x}<br>F1 Score=%{y}<extra></extra>",
         "legendgroup": "{'clf': GradientBoostingClassifier(), 'clf__learning_rate': 0.1, 'clf__max_depth': 3, 'clf__n_estimators': 200}",
         "marker": {
          "color": "#EF553B",
          "size": 12,
          "symbol": "circle"
         },
         "mode": "markers",
         "name": "{'clf': GradientBoostingClassifier(), 'clf__learning_rate': 0.1, 'clf__max_depth': 3, 'clf__n_estimators': 200}",
         "orientation": "v",
         "showlegend": true,
         "type": "scatter",
         "x": [
          "GradientBoostingClassifier"
         ],
         "xaxis": "x",
         "y": [
          0.7649055974537297
         ],
         "yaxis": "y"
        },
        {
         "hovertemplate": "Hyperparameters={'clf': GradientBoostingClassifier(), 'clf__learning_rate': 0.1, 'clf__max_depth': 3, 'clf__n_estimators': 500}<br>Model=%{x}<br>F1 Score=%{y}<extra></extra>",
         "legendgroup": "{'clf': GradientBoostingClassifier(), 'clf__learning_rate': 0.1, 'clf__max_depth': 3, 'clf__n_estimators': 500}",
         "marker": {
          "color": "#00cc96",
          "size": 12,
          "symbol": "circle"
         },
         "mode": "markers",
         "name": "{'clf': GradientBoostingClassifier(), 'clf__learning_rate': 0.1, 'clf__max_depth': 3, 'clf__n_estimators': 500}",
         "orientation": "v",
         "showlegend": true,
         "type": "scatter",
         "x": [
          "GradientBoostingClassifier"
         ],
         "xaxis": "x",
         "y": [
          0.7626002384870603
         ],
         "yaxis": "y"
        },
        {
         "hovertemplate": "Hyperparameters={'clf': GradientBoostingClassifier(), 'clf__learning_rate': 0.1, 'clf__max_depth': 4, 'clf__n_estimators': 100}<br>Model=%{x}<br>F1 Score=%{y}<extra></extra>",
         "legendgroup": "{'clf': GradientBoostingClassifier(), 'clf__learning_rate': 0.1, 'clf__max_depth': 4, 'clf__n_estimators': 100}",
         "marker": {
          "color": "#ab63fa",
          "size": 12,
          "symbol": "circle"
         },
         "mode": "markers",
         "name": "{'clf': GradientBoostingClassifier(), 'clf__learning_rate': 0.1, 'clf__max_depth': 4, 'clf__n_estimators': 100}",
         "orientation": "v",
         "showlegend": true,
         "type": "scatter",
         "x": [
          "GradientBoostingClassifier"
         ],
         "xaxis": "x",
         "y": [
          0.7687597899860226
         ],
         "yaxis": "y"
        },
        {
         "hovertemplate": "Hyperparameters={'clf': GradientBoostingClassifier(), 'clf__learning_rate': 0.1, 'clf__max_depth': 4, 'clf__n_estimators': 200}<br>Model=%{x}<br>F1 Score=%{y}<extra></extra>",
         "legendgroup": "{'clf': GradientBoostingClassifier(), 'clf__learning_rate': 0.1, 'clf__max_depth': 4, 'clf__n_estimators': 200}",
         "marker": {
          "color": "#FFA15A",
          "size": 12,
          "symbol": "circle"
         },
         "mode": "markers",
         "name": "{'clf': GradientBoostingClassifier(), 'clf__learning_rate': 0.1, 'clf__max_depth': 4, 'clf__n_estimators': 200}",
         "orientation": "v",
         "showlegend": true,
         "type": "scatter",
         "x": [
          "GradientBoostingClassifier"
         ],
         "xaxis": "x",
         "y": [
          0.7712886339883643
         ],
         "yaxis": "y"
        },
        {
         "hovertemplate": "Hyperparameters={'clf': GradientBoostingClassifier(), 'clf__learning_rate': 0.1, 'clf__max_depth': 4, 'clf__n_estimators': 500}<br>Model=%{x}<br>F1 Score=%{y}<extra></extra>",
         "legendgroup": "{'clf': GradientBoostingClassifier(), 'clf__learning_rate': 0.1, 'clf__max_depth': 4, 'clf__n_estimators': 500}",
         "marker": {
          "color": "#19d3f3",
          "size": 12,
          "symbol": "circle"
         },
         "mode": "markers",
         "name": "{'clf': GradientBoostingClassifier(), 'clf__learning_rate': 0.1, 'clf__max_depth': 4, 'clf__n_estimators': 500}",
         "orientation": "v",
         "showlegend": true,
         "type": "scatter",
         "x": [
          "GradientBoostingClassifier"
         ],
         "xaxis": "x",
         "y": [
          0.7726304316892071
         ],
         "yaxis": "y"
        },
        {
         "hovertemplate": "Hyperparameters={'clf': GradientBoostingClassifier(), 'clf__learning_rate': 0.1, 'clf__max_depth': 5, 'clf__n_estimators': 100}<br>Model=%{x}<br>F1 Score=%{y}<extra></extra>",
         "legendgroup": "{'clf': GradientBoostingClassifier(), 'clf__learning_rate': 0.1, 'clf__max_depth': 5, 'clf__n_estimators': 100}",
         "marker": {
          "color": "#FF6692",
          "size": 12,
          "symbol": "circle"
         },
         "mode": "markers",
         "name": "{'clf': GradientBoostingClassifier(), 'clf__learning_rate': 0.1, 'clf__max_depth': 5, 'clf__n_estimators': 100}",
         "orientation": "v",
         "showlegend": true,
         "type": "scatter",
         "x": [
          "GradientBoostingClassifier"
         ],
         "xaxis": "x",
         "y": [
          0.7693857035974039
         ],
         "yaxis": "y"
        },
        {
         "hovertemplate": "Hyperparameters={'clf': GradientBoostingClassifier(), 'clf__learning_rate': 0.1, 'clf__max_depth': 5, 'clf__n_estimators': 200}<br>Model=%{x}<br>F1 Score=%{y}<extra></extra>",
         "legendgroup": "{'clf': GradientBoostingClassifier(), 'clf__learning_rate': 0.1, 'clf__max_depth': 5, 'clf__n_estimators': 200}",
         "marker": {
          "color": "#B6E880",
          "size": 12,
          "symbol": "circle"
         },
         "mode": "markers",
         "name": "{'clf': GradientBoostingClassifier(), 'clf__learning_rate': 0.1, 'clf__max_depth': 5, 'clf__n_estimators': 200}",
         "orientation": "v",
         "showlegend": true,
         "type": "scatter",
         "x": [
          "GradientBoostingClassifier"
         ],
         "xaxis": "x",
         "y": [
          0.7767805215132814
         ],
         "yaxis": "y"
        },
        {
         "hovertemplate": "Hyperparameters={'clf': GradientBoostingClassifier(), 'clf__learning_rate': 0.1, 'clf__max_depth': 5, 'clf__n_estimators': 500}<br>Model=%{x}<br>F1 Score=%{y}<extra></extra>",
         "legendgroup": "{'clf': GradientBoostingClassifier(), 'clf__learning_rate': 0.1, 'clf__max_depth': 5, 'clf__n_estimators': 500}",
         "marker": {
          "color": "#FF97FF",
          "size": 12,
          "symbol": "circle"
         },
         "mode": "markers",
         "name": "{'clf': GradientBoostingClassifier(), 'clf__learning_rate': 0.1, 'clf__max_depth': 5, 'clf__n_estimators': 500}",
         "orientation": "v",
         "showlegend": true,
         "type": "scatter",
         "x": [
          "GradientBoostingClassifier"
         ],
         "xaxis": "x",
         "y": [
          0.7787764140190314
         ],
         "yaxis": "y"
        },
        {
         "hovertemplate": "Hyperparameters={'clf': GradientBoostingClassifier(), 'clf__learning_rate': 0.05, 'clf__max_depth': 3, 'clf__n_estimators': 100}<br>Model=%{x}<br>F1 Score=%{y}<extra></extra>",
         "legendgroup": "{'clf': GradientBoostingClassifier(), 'clf__learning_rate': 0.05, 'clf__max_depth': 3, 'clf__n_estimators': 100}",
         "marker": {
          "color": "#FECB52",
          "size": 12,
          "symbol": "circle"
         },
         "mode": "markers",
         "name": "{'clf': GradientBoostingClassifier(), 'clf__learning_rate': 0.05, 'clf__max_depth': 3, 'clf__n_estimators': 100}",
         "orientation": "v",
         "showlegend": true,
         "type": "scatter",
         "x": [
          "GradientBoostingClassifier"
         ],
         "xaxis": "x",
         "y": [
          0.7705899185748042
         ],
         "yaxis": "y"
        },
        {
         "hovertemplate": "Hyperparameters={'clf': GradientBoostingClassifier(), 'clf__learning_rate': 0.05, 'clf__max_depth': 3, 'clf__n_estimators': 200}<br>Model=%{x}<br>F1 Score=%{y}<extra></extra>",
         "legendgroup": "{'clf': GradientBoostingClassifier(), 'clf__learning_rate': 0.05, 'clf__max_depth': 3, 'clf__n_estimators': 200}",
         "marker": {
          "color": "#636efa",
          "size": 12,
          "symbol": "circle"
         },
         "mode": "markers",
         "name": "{'clf': GradientBoostingClassifier(), 'clf__learning_rate': 0.05, 'clf__max_depth': 3, 'clf__n_estimators': 200}",
         "orientation": "v",
         "showlegend": true,
         "type": "scatter",
         "x": [
          "GradientBoostingClassifier"
         ],
         "xaxis": "x",
         "y": [
          0.769968223811983
         ],
         "yaxis": "y"
        },
        {
         "hovertemplate": "Hyperparameters={'clf': GradientBoostingClassifier(), 'clf__learning_rate': 0.05, 'clf__max_depth': 3, 'clf__n_estimators': 500}<br>Model=%{x}<br>F1 Score=%{y}<extra></extra>",
         "legendgroup": "{'clf': GradientBoostingClassifier(), 'clf__learning_rate': 0.05, 'clf__max_depth': 3, 'clf__n_estimators': 500}",
         "marker": {
          "color": "#EF553B",
          "size": 12,
          "symbol": "circle"
         },
         "mode": "markers",
         "name": "{'clf': GradientBoostingClassifier(), 'clf__learning_rate': 0.05, 'clf__max_depth': 3, 'clf__n_estimators': 500}",
         "orientation": "v",
         "showlegend": true,
         "type": "scatter",
         "x": [
          "GradientBoostingClassifier"
         ],
         "xaxis": "x",
         "y": [
          0.7758752352666912
         ],
         "yaxis": "y"
        },
        {
         "hovertemplate": "Hyperparameters={'clf': GradientBoostingClassifier(), 'clf__learning_rate': 0.05, 'clf__max_depth': 4, 'clf__n_estimators': 100}<br>Model=%{x}<br>F1 Score=%{y}<extra></extra>",
         "legendgroup": "{'clf': GradientBoostingClassifier(), 'clf__learning_rate': 0.05, 'clf__max_depth': 4, 'clf__n_estimators': 100}",
         "marker": {
          "color": "#00cc96",
          "size": 12,
          "symbol": "circle"
         },
         "mode": "markers",
         "name": "{'clf': GradientBoostingClassifier(), 'clf__learning_rate': 0.05, 'clf__max_depth': 4, 'clf__n_estimators': 100}",
         "orientation": "v",
         "showlegend": true,
         "type": "scatter",
         "x": [
          "GradientBoostingClassifier"
         ],
         "xaxis": "x",
         "y": [
          0.7690199989175215
         ],
         "yaxis": "y"
        },
        {
         "hovertemplate": "Hyperparameters={'clf': GradientBoostingClassifier(), 'clf__learning_rate': 0.05, 'clf__max_depth': 4, 'clf__n_estimators': 200}<br>Model=%{x}<br>F1 Score=%{y}<extra></extra>",
         "legendgroup": "{'clf': GradientBoostingClassifier(), 'clf__learning_rate': 0.05, 'clf__max_depth': 4, 'clf__n_estimators': 200}",
         "marker": {
          "color": "#ab63fa",
          "size": 12,
          "symbol": "circle"
         },
         "mode": "markers",
         "name": "{'clf': GradientBoostingClassifier(), 'clf__learning_rate': 0.05, 'clf__max_depth': 4, 'clf__n_estimators': 200}",
         "orientation": "v",
         "showlegend": true,
         "type": "scatter",
         "x": [
          "GradientBoostingClassifier"
         ],
         "xaxis": "x",
         "y": [
          0.7734002193776823
         ],
         "yaxis": "y"
        },
        {
         "hovertemplate": "Hyperparameters={'clf': GradientBoostingClassifier(), 'clf__learning_rate': 0.05, 'clf__max_depth': 4, 'clf__n_estimators': 500}<br>Model=%{x}<br>F1 Score=%{y}<extra></extra>",
         "legendgroup": "{'clf': GradientBoostingClassifier(), 'clf__learning_rate': 0.05, 'clf__max_depth': 4, 'clf__n_estimators': 500}",
         "marker": {
          "color": "#FFA15A",
          "size": 12,
          "symbol": "circle"
         },
         "mode": "markers",
         "name": "{'clf': GradientBoostingClassifier(), 'clf__learning_rate': 0.05, 'clf__max_depth': 4, 'clf__n_estimators': 500}",
         "orientation": "v",
         "showlegend": true,
         "type": "scatter",
         "x": [
          "GradientBoostingClassifier"
         ],
         "xaxis": "x",
         "y": [
          0.7737433592303338
         ],
         "yaxis": "y"
        },
        {
         "hovertemplate": "Hyperparameters={'clf': GradientBoostingClassifier(), 'clf__learning_rate': 0.05, 'clf__max_depth': 5, 'clf__n_estimators': 100}<br>Model=%{x}<br>F1 Score=%{y}<extra></extra>",
         "legendgroup": "{'clf': GradientBoostingClassifier(), 'clf__learning_rate': 0.05, 'clf__max_depth': 5, 'clf__n_estimators': 100}",
         "marker": {
          "color": "#19d3f3",
          "size": 12,
          "symbol": "circle"
         },
         "mode": "markers",
         "name": "{'clf': GradientBoostingClassifier(), 'clf__learning_rate': 0.05, 'clf__max_depth': 5, 'clf__n_estimators': 100}",
         "orientation": "v",
         "showlegend": true,
         "type": "scatter",
         "x": [
          "GradientBoostingClassifier"
         ],
         "xaxis": "x",
         "y": [
          0.7738284235670009
         ],
         "yaxis": "y"
        },
        {
         "hovertemplate": "Hyperparameters={'clf': GradientBoostingClassifier(), 'clf__learning_rate': 0.05, 'clf__max_depth': 5, 'clf__n_estimators': 200}<br>Model=%{x}<br>F1 Score=%{y}<extra></extra>",
         "legendgroup": "{'clf': GradientBoostingClassifier(), 'clf__learning_rate': 0.05, 'clf__max_depth': 5, 'clf__n_estimators': 200}",
         "marker": {
          "color": "#FF6692",
          "size": 12,
          "symbol": "circle"
         },
         "mode": "markers",
         "name": "{'clf': GradientBoostingClassifier(), 'clf__learning_rate': 0.05, 'clf__max_depth': 5, 'clf__n_estimators': 200}",
         "orientation": "v",
         "showlegend": true,
         "type": "scatter",
         "x": [
          "GradientBoostingClassifier"
         ],
         "xaxis": "x",
         "y": [
          0.7793168783037958
         ],
         "yaxis": "y"
        },
        {
         "hovertemplate": "Hyperparameters={'clf': GradientBoostingClassifier(), 'clf__learning_rate': 0.05, 'clf__max_depth': 5, 'clf__n_estimators': 500}<br>Model=%{x}<br>F1 Score=%{y}<extra></extra>",
         "legendgroup": "{'clf': GradientBoostingClassifier(), 'clf__learning_rate': 0.05, 'clf__max_depth': 5, 'clf__n_estimators': 500}",
         "marker": {
          "color": "#B6E880",
          "size": 12,
          "symbol": "circle"
         },
         "mode": "markers",
         "name": "{'clf': GradientBoostingClassifier(), 'clf__learning_rate': 0.05, 'clf__max_depth': 5, 'clf__n_estimators': 500}",
         "orientation": "v",
         "showlegend": true,
         "type": "scatter",
         "x": [
          "GradientBoostingClassifier"
         ],
         "xaxis": "x",
         "y": [
          0.7767851209978559
         ],
         "yaxis": "y"
        },
        {
         "hovertemplate": "Hyperparameters={'clf': GradientBoostingClassifier(), 'clf__learning_rate': 0.01, 'clf__max_depth': 3, 'clf__n_estimators': 100}<br>Model=%{x}<br>F1 Score=%{y}<extra></extra>",
         "legendgroup": "{'clf': GradientBoostingClassifier(), 'clf__learning_rate': 0.01, 'clf__max_depth': 3, 'clf__n_estimators': 100}",
         "marker": {
          "color": "#FF97FF",
          "size": 12,
          "symbol": "circle"
         },
         "mode": "markers",
         "name": "{'clf': GradientBoostingClassifier(), 'clf__learning_rate': 0.01, 'clf__max_depth': 3, 'clf__n_estimators': 100}",
         "orientation": "v",
         "showlegend": true,
         "type": "scatter",
         "x": [
          "GradientBoostingClassifier"
         ],
         "xaxis": "x",
         "y": [
          0.7315363748552816
         ],
         "yaxis": "y"
        },
        {
         "hovertemplate": "Hyperparameters={'clf': GradientBoostingClassifier(), 'clf__learning_rate': 0.01, 'clf__max_depth': 3, 'clf__n_estimators': 200}<br>Model=%{x}<br>F1 Score=%{y}<extra></extra>",
         "legendgroup": "{'clf': GradientBoostingClassifier(), 'clf__learning_rate': 0.01, 'clf__max_depth': 3, 'clf__n_estimators': 200}",
         "marker": {
          "color": "#FECB52",
          "size": 12,
          "symbol": "circle"
         },
         "mode": "markers",
         "name": "{'clf': GradientBoostingClassifier(), 'clf__learning_rate': 0.01, 'clf__max_depth': 3, 'clf__n_estimators': 200}",
         "orientation": "v",
         "showlegend": true,
         "type": "scatter",
         "x": [
          "GradientBoostingClassifier"
         ],
         "xaxis": "x",
         "y": [
          0.749975708543524
         ],
         "yaxis": "y"
        },
        {
         "hovertemplate": "Hyperparameters={'clf': GradientBoostingClassifier(), 'clf__learning_rate': 0.01, 'clf__max_depth': 3, 'clf__n_estimators': 500}<br>Model=%{x}<br>F1 Score=%{y}<extra></extra>",
         "legendgroup": "{'clf': GradientBoostingClassifier(), 'clf__learning_rate': 0.01, 'clf__max_depth': 3, 'clf__n_estimators': 500}",
         "marker": {
          "color": "#636efa",
          "size": 12,
          "symbol": "circle"
         },
         "mode": "markers",
         "name": "{'clf': GradientBoostingClassifier(), 'clf__learning_rate': 0.01, 'clf__max_depth': 3, 'clf__n_estimators': 500}",
         "orientation": "v",
         "showlegend": true,
         "type": "scatter",
         "x": [
          "GradientBoostingClassifier"
         ],
         "xaxis": "x",
         "y": [
          0.7707550234822449
         ],
         "yaxis": "y"
        },
        {
         "hovertemplate": "Hyperparameters={'clf': GradientBoostingClassifier(), 'clf__learning_rate': 0.01, 'clf__max_depth': 4, 'clf__n_estimators': 100}<br>Model=%{x}<br>F1 Score=%{y}<extra></extra>",
         "legendgroup": "{'clf': GradientBoostingClassifier(), 'clf__learning_rate': 0.01, 'clf__max_depth': 4, 'clf__n_estimators': 100}",
         "marker": {
          "color": "#EF553B",
          "size": 12,
          "symbol": "circle"
         },
         "mode": "markers",
         "name": "{'clf': GradientBoostingClassifier(), 'clf__learning_rate': 0.01, 'clf__max_depth': 4, 'clf__n_estimators': 100}",
         "orientation": "v",
         "showlegend": true,
         "type": "scatter",
         "x": [
          "GradientBoostingClassifier"
         ],
         "xaxis": "x",
         "y": [
          0.7433213740770541
         ],
         "yaxis": "y"
        },
        {
         "hovertemplate": "Hyperparameters={'clf': GradientBoostingClassifier(), 'clf__learning_rate': 0.01, 'clf__max_depth': 4, 'clf__n_estimators': 200}<br>Model=%{x}<br>F1 Score=%{y}<extra></extra>",
         "legendgroup": "{'clf': GradientBoostingClassifier(), 'clf__learning_rate': 0.01, 'clf__max_depth': 4, 'clf__n_estimators': 200}",
         "marker": {
          "color": "#00cc96",
          "size": 12,
          "symbol": "circle"
         },
         "mode": "markers",
         "name": "{'clf': GradientBoostingClassifier(), 'clf__learning_rate': 0.01, 'clf__max_depth': 4, 'clf__n_estimators': 200}",
         "orientation": "v",
         "showlegend": true,
         "type": "scatter",
         "x": [
          "GradientBoostingClassifier"
         ],
         "xaxis": "x",
         "y": [
          0.7622750920805219
         ],
         "yaxis": "y"
        },
        {
         "hovertemplate": "Hyperparameters={'clf': GradientBoostingClassifier(), 'clf__learning_rate': 0.01, 'clf__max_depth': 4, 'clf__n_estimators': 500}<br>Model=%{x}<br>F1 Score=%{y}<extra></extra>",
         "legendgroup": "{'clf': GradientBoostingClassifier(), 'clf__learning_rate': 0.01, 'clf__max_depth': 4, 'clf__n_estimators': 500}",
         "marker": {
          "color": "#ab63fa",
          "size": 12,
          "symbol": "circle"
         },
         "mode": "markers",
         "name": "{'clf': GradientBoostingClassifier(), 'clf__learning_rate': 0.01, 'clf__max_depth': 4, 'clf__n_estimators': 500}",
         "orientation": "v",
         "showlegend": true,
         "type": "scatter",
         "x": [
          "GradientBoostingClassifier"
         ],
         "xaxis": "x",
         "y": [
          0.7696196828697743
         ],
         "yaxis": "y"
        },
        {
         "hovertemplate": "Hyperparameters={'clf': GradientBoostingClassifier(), 'clf__learning_rate': 0.01, 'clf__max_depth': 5, 'clf__n_estimators': 100}<br>Model=%{x}<br>F1 Score=%{y}<extra></extra>",
         "legendgroup": "{'clf': GradientBoostingClassifier(), 'clf__learning_rate': 0.01, 'clf__max_depth': 5, 'clf__n_estimators': 100}",
         "marker": {
          "color": "#FFA15A",
          "size": 12,
          "symbol": "circle"
         },
         "mode": "markers",
         "name": "{'clf': GradientBoostingClassifier(), 'clf__learning_rate': 0.01, 'clf__max_depth': 5, 'clf__n_estimators': 100}",
         "orientation": "v",
         "showlegend": true,
         "type": "scatter",
         "x": [
          "GradientBoostingClassifier"
         ],
         "xaxis": "x",
         "y": [
          0.7472795618777923
         ],
         "yaxis": "y"
        },
        {
         "hovertemplate": "Hyperparameters={'clf': GradientBoostingClassifier(), 'clf__learning_rate': 0.01, 'clf__max_depth': 5, 'clf__n_estimators': 200}<br>Model=%{x}<br>F1 Score=%{y}<extra></extra>",
         "legendgroup": "{'clf': GradientBoostingClassifier(), 'clf__learning_rate': 0.01, 'clf__max_depth': 5, 'clf__n_estimators': 200}",
         "marker": {
          "color": "#19d3f3",
          "size": 12,
          "symbol": "circle"
         },
         "mode": "markers",
         "name": "{'clf': GradientBoostingClassifier(), 'clf__learning_rate': 0.01, 'clf__max_depth': 5, 'clf__n_estimators': 200}",
         "orientation": "v",
         "showlegend": true,
         "type": "scatter",
         "x": [
          "GradientBoostingClassifier"
         ],
         "xaxis": "x",
         "y": [
          0.7581088488291883
         ],
         "yaxis": "y"
        },
        {
         "hovertemplate": "Hyperparameters={'clf': GradientBoostingClassifier(), 'clf__learning_rate': 0.01, 'clf__max_depth': 5, 'clf__n_estimators': 500}<br>Model=%{x}<br>F1 Score=%{y}<extra></extra>",
         "legendgroup": "{'clf': GradientBoostingClassifier(), 'clf__learning_rate': 0.01, 'clf__max_depth': 5, 'clf__n_estimators': 500}",
         "marker": {
          "color": "#FF6692",
          "size": 12,
          "symbol": "circle"
         },
         "mode": "markers",
         "name": "{'clf': GradientBoostingClassifier(), 'clf__learning_rate': 0.01, 'clf__max_depth': 5, 'clf__n_estimators': 500}",
         "orientation": "v",
         "showlegend": true,
         "type": "scatter",
         "x": [
          "GradientBoostingClassifier"
         ],
         "xaxis": "x",
         "y": [
          0.7716125001379822
         ],
         "yaxis": "y"
        },
        {
         "hovertemplate": "Hyperparameters={'clf': MLPClassifier(), 'clf__activation': 'relu', 'clf__hidden_layer_sizes': (32, 32), 'clf__learning_rate': 'constant', 'clf__max_iter': 200}<br>Model=%{x}<br>F1 Score=%{y}<extra></extra>",
         "legendgroup": "{'clf': MLPClassifier(), 'clf__activation': 'relu', 'clf__hidden_layer_sizes': (32, 32), 'clf__learning_rate': 'constant', 'clf__max_iter': 200}",
         "marker": {
          "color": "#B6E880",
          "size": 12,
          "symbol": "circle"
         },
         "mode": "markers",
         "name": "{'clf': MLPClassifier(), 'clf__activation': 'relu', 'clf__hidden_layer_sizes': (32, 32), 'clf__learning_rate': 'constant', 'clf__max_iter': 200}",
         "orientation": "v",
         "showlegend": true,
         "type": "scatter",
         "x": [
          "MLPClassifier"
         ],
         "xaxis": "x",
         "y": [
          0.7677013466027339
         ],
         "yaxis": "y"
        },
        {
         "hovertemplate": "Hyperparameters={'clf': MLPClassifier(), 'clf__activation': 'relu', 'clf__hidden_layer_sizes': (32, 32), 'clf__learning_rate': 'constant', 'clf__max_iter': 300}<br>Model=%{x}<br>F1 Score=%{y}<extra></extra>",
         "legendgroup": "{'clf': MLPClassifier(), 'clf__activation': 'relu', 'clf__hidden_layer_sizes': (32, 32), 'clf__learning_rate': 'constant', 'clf__max_iter': 300}",
         "marker": {
          "color": "#FF97FF",
          "size": 12,
          "symbol": "circle"
         },
         "mode": "markers",
         "name": "{'clf': MLPClassifier(), 'clf__activation': 'relu', 'clf__hidden_layer_sizes': (32, 32), 'clf__learning_rate': 'constant', 'clf__max_iter': 300}",
         "orientation": "v",
         "showlegend": true,
         "type": "scatter",
         "x": [
          "MLPClassifier"
         ],
         "xaxis": "x",
         "y": [
          0.7763125673721548
         ],
         "yaxis": "y"
        },
        {
         "hovertemplate": "Hyperparameters={'clf': MLPClassifier(), 'clf__activation': 'relu', 'clf__hidden_layer_sizes': (32, 32), 'clf__learning_rate': 'constant', 'clf__max_iter': 400}<br>Model=%{x}<br>F1 Score=%{y}<extra></extra>",
         "legendgroup": "{'clf': MLPClassifier(), 'clf__activation': 'relu', 'clf__hidden_layer_sizes': (32, 32), 'clf__learning_rate': 'constant', 'clf__max_iter': 400}",
         "marker": {
          "color": "#FECB52",
          "size": 12,
          "symbol": "circle"
         },
         "mode": "markers",
         "name": "{'clf': MLPClassifier(), 'clf__activation': 'relu', 'clf__hidden_layer_sizes': (32, 32), 'clf__learning_rate': 'constant', 'clf__max_iter': 400}",
         "orientation": "v",
         "showlegend": true,
         "type": "scatter",
         "x": [
          "MLPClassifier"
         ],
         "xaxis": "x",
         "y": [
          0.7701330890417158
         ],
         "yaxis": "y"
        },
        {
         "hovertemplate": "Hyperparameters={'clf': MLPClassifier(), 'clf__activation': 'relu', 'clf__hidden_layer_sizes': (32, 32), 'clf__learning_rate': 'invscaling', 'clf__max_iter': 200}<br>Model=%{x}<br>F1 Score=%{y}<extra></extra>",
         "legendgroup": "{'clf': MLPClassifier(), 'clf__activation': 'relu', 'clf__hidden_layer_sizes': (32, 32), 'clf__learning_rate': 'invscaling', 'clf__max_iter': 200}",
         "marker": {
          "color": "#636efa",
          "size": 12,
          "symbol": "circle"
         },
         "mode": "markers",
         "name": "{'clf': MLPClassifier(), 'clf__activation': 'relu', 'clf__hidden_layer_sizes': (32, 32), 'clf__learning_rate': 'invscaling', 'clf__max_iter': 200}",
         "orientation": "v",
         "showlegend": true,
         "type": "scatter",
         "x": [
          "MLPClassifier"
         ],
         "xaxis": "x",
         "y": [
          0.7735394148326805
         ],
         "yaxis": "y"
        },
        {
         "hovertemplate": "Hyperparameters={'clf': MLPClassifier(), 'clf__activation': 'relu', 'clf__hidden_layer_sizes': (32, 32), 'clf__learning_rate': 'invscaling', 'clf__max_iter': 300}<br>Model=%{x}<br>F1 Score=%{y}<extra></extra>",
         "legendgroup": "{'clf': MLPClassifier(), 'clf__activation': 'relu', 'clf__hidden_layer_sizes': (32, 32), 'clf__learning_rate': 'invscaling', 'clf__max_iter': 300}",
         "marker": {
          "color": "#EF553B",
          "size": 12,
          "symbol": "circle"
         },
         "mode": "markers",
         "name": "{'clf': MLPClassifier(), 'clf__activation': 'relu', 'clf__hidden_layer_sizes': (32, 32), 'clf__learning_rate': 'invscaling', 'clf__max_iter': 300}",
         "orientation": "v",
         "showlegend": true,
         "type": "scatter",
         "x": [
          "MLPClassifier"
         ],
         "xaxis": "x",
         "y": [
          0.7670309173975223
         ],
         "yaxis": "y"
        },
        {
         "hovertemplate": "Hyperparameters={'clf': MLPClassifier(), 'clf__activation': 'relu', 'clf__hidden_layer_sizes': (32, 32), 'clf__learning_rate': 'invscaling', 'clf__max_iter': 400}<br>Model=%{x}<br>F1 Score=%{y}<extra></extra>",
         "legendgroup": "{'clf': MLPClassifier(), 'clf__activation': 'relu', 'clf__hidden_layer_sizes': (32, 32), 'clf__learning_rate': 'invscaling', 'clf__max_iter': 400}",
         "marker": {
          "color": "#00cc96",
          "size": 12,
          "symbol": "circle"
         },
         "mode": "markers",
         "name": "{'clf': MLPClassifier(), 'clf__activation': 'relu', 'clf__hidden_layer_sizes': (32, 32), 'clf__learning_rate': 'invscaling', 'clf__max_iter': 400}",
         "orientation": "v",
         "showlegend": true,
         "type": "scatter",
         "x": [
          "MLPClassifier"
         ],
         "xaxis": "x",
         "y": [
          0.7711713568933158
         ],
         "yaxis": "y"
        },
        {
         "hovertemplate": "Hyperparameters={'clf': MLPClassifier(), 'clf__activation': 'relu', 'clf__hidden_layer_sizes': (32, 32), 'clf__learning_rate': 'adaptive', 'clf__max_iter': 200}<br>Model=%{x}<br>F1 Score=%{y}<extra></extra>",
         "legendgroup": "{'clf': MLPClassifier(), 'clf__activation': 'relu', 'clf__hidden_layer_sizes': (32, 32), 'clf__learning_rate': 'adaptive', 'clf__max_iter': 200}",
         "marker": {
          "color": "#ab63fa",
          "size": 12,
          "symbol": "circle"
         },
         "mode": "markers",
         "name": "{'clf': MLPClassifier(), 'clf__activation': 'relu', 'clf__hidden_layer_sizes': (32, 32), 'clf__learning_rate': 'adaptive', 'clf__max_iter': 200}",
         "orientation": "v",
         "showlegend": true,
         "type": "scatter",
         "x": [
          "MLPClassifier"
         ],
         "xaxis": "x",
         "y": [
          0.7748338981245599
         ],
         "yaxis": "y"
        },
        {
         "hovertemplate": "Hyperparameters={'clf': MLPClassifier(), 'clf__activation': 'relu', 'clf__hidden_layer_sizes': (32, 32), 'clf__learning_rate': 'adaptive', 'clf__max_iter': 300}<br>Model=%{x}<br>F1 Score=%{y}<extra></extra>",
         "legendgroup": "{'clf': MLPClassifier(), 'clf__activation': 'relu', 'clf__hidden_layer_sizes': (32, 32), 'clf__learning_rate': 'adaptive', 'clf__max_iter': 300}",
         "marker": {
          "color": "#FFA15A",
          "size": 12,
          "symbol": "circle"
         },
         "mode": "markers",
         "name": "{'clf': MLPClassifier(), 'clf__activation': 'relu', 'clf__hidden_layer_sizes': (32, 32), 'clf__learning_rate': 'adaptive', 'clf__max_iter': 300}",
         "orientation": "v",
         "showlegend": true,
         "type": "scatter",
         "x": [
          "MLPClassifier"
         ],
         "xaxis": "x",
         "y": [
          0.7735431961333633
         ],
         "yaxis": "y"
        },
        {
         "hovertemplate": "Hyperparameters={'clf': MLPClassifier(), 'clf__activation': 'relu', 'clf__hidden_layer_sizes': (32, 32), 'clf__learning_rate': 'adaptive', 'clf__max_iter': 400}<br>Model=%{x}<br>F1 Score=%{y}<extra></extra>",
         "legendgroup": "{'clf': MLPClassifier(), 'clf__activation': 'relu', 'clf__hidden_layer_sizes': (32, 32), 'clf__learning_rate': 'adaptive', 'clf__max_iter': 400}",
         "marker": {
          "color": "#19d3f3",
          "size": 12,
          "symbol": "circle"
         },
         "mode": "markers",
         "name": "{'clf': MLPClassifier(), 'clf__activation': 'relu', 'clf__hidden_layer_sizes': (32, 32), 'clf__learning_rate': 'adaptive', 'clf__max_iter': 400}",
         "orientation": "v",
         "showlegend": true,
         "type": "scatter",
         "x": [
          "MLPClassifier"
         ],
         "xaxis": "x",
         "y": [
          0.7752502038415756
         ],
         "yaxis": "y"
        },
        {
         "hovertemplate": "Hyperparameters={'clf': MLPClassifier(), 'clf__activation': 'relu', 'clf__hidden_layer_sizes': (64, 64), 'clf__learning_rate': 'constant', 'clf__max_iter': 200}<br>Model=%{x}<br>F1 Score=%{y}<extra></extra>",
         "legendgroup": "{'clf': MLPClassifier(), 'clf__activation': 'relu', 'clf__hidden_layer_sizes': (64, 64), 'clf__learning_rate': 'constant', 'clf__max_iter': 200}",
         "marker": {
          "color": "#FF6692",
          "size": 12,
          "symbol": "circle"
         },
         "mode": "markers",
         "name": "{'clf': MLPClassifier(), 'clf__activation': 'relu', 'clf__hidden_layer_sizes': (64, 64), 'clf__learning_rate': 'constant', 'clf__max_iter': 200}",
         "orientation": "v",
         "showlegend": true,
         "type": "scatter",
         "x": [
          "MLPClassifier"
         ],
         "xaxis": "x",
         "y": [
          0.782412185852144
         ],
         "yaxis": "y"
        },
        {
         "hovertemplate": "Hyperparameters={'clf': MLPClassifier(), 'clf__activation': 'relu', 'clf__hidden_layer_sizes': (64, 64), 'clf__learning_rate': 'constant', 'clf__max_iter': 300}<br>Model=%{x}<br>F1 Score=%{y}<extra></extra>",
         "legendgroup": "{'clf': MLPClassifier(), 'clf__activation': 'relu', 'clf__hidden_layer_sizes': (64, 64), 'clf__learning_rate': 'constant', 'clf__max_iter': 300}",
         "marker": {
          "color": "#B6E880",
          "size": 12,
          "symbol": "circle"
         },
         "mode": "markers",
         "name": "{'clf': MLPClassifier(), 'clf__activation': 'relu', 'clf__hidden_layer_sizes': (64, 64), 'clf__learning_rate': 'constant', 'clf__max_iter': 300}",
         "orientation": "v",
         "showlegend": true,
         "type": "scatter",
         "x": [
          "MLPClassifier"
         ],
         "xaxis": "x",
         "y": [
          0.7789566358852774
         ],
         "yaxis": "y"
        },
        {
         "hovertemplate": "Hyperparameters={'clf': MLPClassifier(), 'clf__activation': 'relu', 'clf__hidden_layer_sizes': (64, 64), 'clf__learning_rate': 'constant', 'clf__max_iter': 400}<br>Model=%{x}<br>F1 Score=%{y}<extra></extra>",
         "legendgroup": "{'clf': MLPClassifier(), 'clf__activation': 'relu', 'clf__hidden_layer_sizes': (64, 64), 'clf__learning_rate': 'constant', 'clf__max_iter': 400}",
         "marker": {
          "color": "#FF97FF",
          "size": 12,
          "symbol": "circle"
         },
         "mode": "markers",
         "name": "{'clf': MLPClassifier(), 'clf__activation': 'relu', 'clf__hidden_layer_sizes': (64, 64), 'clf__learning_rate': 'constant', 'clf__max_iter': 400}",
         "orientation": "v",
         "showlegend": true,
         "type": "scatter",
         "x": [
          "MLPClassifier"
         ],
         "xaxis": "x",
         "y": [
          0.7806355629374012
         ],
         "yaxis": "y"
        },
        {
         "hovertemplate": "Hyperparameters={'clf': MLPClassifier(), 'clf__activation': 'relu', 'clf__hidden_layer_sizes': (64, 64), 'clf__learning_rate': 'invscaling', 'clf__max_iter': 200}<br>Model=%{x}<br>F1 Score=%{y}<extra></extra>",
         "legendgroup": "{'clf': MLPClassifier(), 'clf__activation': 'relu', 'clf__hidden_layer_sizes': (64, 64), 'clf__learning_rate': 'invscaling', 'clf__max_iter': 200}",
         "marker": {
          "color": "#FECB52",
          "size": 12,
          "symbol": "circle"
         },
         "mode": "markers",
         "name": "{'clf': MLPClassifier(), 'clf__activation': 'relu', 'clf__hidden_layer_sizes': (64, 64), 'clf__learning_rate': 'invscaling', 'clf__max_iter': 200}",
         "orientation": "v",
         "showlegend": true,
         "type": "scatter",
         "x": [
          "MLPClassifier"
         ],
         "xaxis": "x",
         "y": [
          0.7800264167147712
         ],
         "yaxis": "y"
        },
        {
         "hovertemplate": "Hyperparameters={'clf': MLPClassifier(), 'clf__activation': 'relu', 'clf__hidden_layer_sizes': (64, 64), 'clf__learning_rate': 'invscaling', 'clf__max_iter': 300}<br>Model=%{x}<br>F1 Score=%{y}<extra></extra>",
         "legendgroup": "{'clf': MLPClassifier(), 'clf__activation': 'relu', 'clf__hidden_layer_sizes': (64, 64), 'clf__learning_rate': 'invscaling', 'clf__max_iter': 300}",
         "marker": {
          "color": "#636efa",
          "size": 12,
          "symbol": "circle"
         },
         "mode": "markers",
         "name": "{'clf': MLPClassifier(), 'clf__activation': 'relu', 'clf__hidden_layer_sizes': (64, 64), 'clf__learning_rate': 'invscaling', 'clf__max_iter': 300}",
         "orientation": "v",
         "showlegend": true,
         "type": "scatter",
         "x": [
          "MLPClassifier"
         ],
         "xaxis": "x",
         "y": [
          0.7776545222928308
         ],
         "yaxis": "y"
        },
        {
         "hovertemplate": "Hyperparameters={'clf': MLPClassifier(), 'clf__activation': 'relu', 'clf__hidden_layer_sizes': (64, 64), 'clf__learning_rate': 'invscaling', 'clf__max_iter': 400}<br>Model=%{x}<br>F1 Score=%{y}<extra></extra>",
         "legendgroup": "{'clf': MLPClassifier(), 'clf__activation': 'relu', 'clf__hidden_layer_sizes': (64, 64), 'clf__learning_rate': 'invscaling', 'clf__max_iter': 400}",
         "marker": {
          "color": "#EF553B",
          "size": 12,
          "symbol": "circle"
         },
         "mode": "markers",
         "name": "{'clf': MLPClassifier(), 'clf__activation': 'relu', 'clf__hidden_layer_sizes': (64, 64), 'clf__learning_rate': 'invscaling', 'clf__max_iter': 400}",
         "orientation": "v",
         "showlegend": true,
         "type": "scatter",
         "x": [
          "MLPClassifier"
         ],
         "xaxis": "x",
         "y": [
          0.7827357050340062
         ],
         "yaxis": "y"
        },
        {
         "hovertemplate": "Hyperparameters={'clf': MLPClassifier(), 'clf__activation': 'relu', 'clf__hidden_layer_sizes': (64, 64), 'clf__learning_rate': 'adaptive', 'clf__max_iter': 200}<br>Model=%{x}<br>F1 Score=%{y}<extra></extra>",
         "legendgroup": "{'clf': MLPClassifier(), 'clf__activation': 'relu', 'clf__hidden_layer_sizes': (64, 64), 'clf__learning_rate': 'adaptive', 'clf__max_iter': 200}",
         "marker": {
          "color": "#00cc96",
          "size": 12,
          "symbol": "circle"
         },
         "mode": "markers",
         "name": "{'clf': MLPClassifier(), 'clf__activation': 'relu', 'clf__hidden_layer_sizes': (64, 64), 'clf__learning_rate': 'adaptive', 'clf__max_iter': 200}",
         "orientation": "v",
         "showlegend": true,
         "type": "scatter",
         "x": [
          "MLPClassifier"
         ],
         "xaxis": "x",
         "y": [
          0.776943594450114
         ],
         "yaxis": "y"
        },
        {
         "hovertemplate": "Hyperparameters={'clf': MLPClassifier(), 'clf__activation': 'relu', 'clf__hidden_layer_sizes': (64, 64), 'clf__learning_rate': 'adaptive', 'clf__max_iter': 300}<br>Model=%{x}<br>F1 Score=%{y}<extra></extra>",
         "legendgroup": "{'clf': MLPClassifier(), 'clf__activation': 'relu', 'clf__hidden_layer_sizes': (64, 64), 'clf__learning_rate': 'adaptive', 'clf__max_iter': 300}",
         "marker": {
          "color": "#ab63fa",
          "size": 12,
          "symbol": "circle"
         },
         "mode": "markers",
         "name": "{'clf': MLPClassifier(), 'clf__activation': 'relu', 'clf__hidden_layer_sizes': (64, 64), 'clf__learning_rate': 'adaptive', 'clf__max_iter': 300}",
         "orientation": "v",
         "showlegend": true,
         "type": "scatter",
         "x": [
          "MLPClassifier"
         ],
         "xaxis": "x",
         "y": [
          0.7745008654422721
         ],
         "yaxis": "y"
        },
        {
         "hovertemplate": "Hyperparameters={'clf': MLPClassifier(), 'clf__activation': 'relu', 'clf__hidden_layer_sizes': (64, 64), 'clf__learning_rate': 'adaptive', 'clf__max_iter': 400}<br>Model=%{x}<br>F1 Score=%{y}<extra></extra>",
         "legendgroup": "{'clf': MLPClassifier(), 'clf__activation': 'relu', 'clf__hidden_layer_sizes': (64, 64), 'clf__learning_rate': 'adaptive', 'clf__max_iter': 400}",
         "marker": {
          "color": "#FFA15A",
          "size": 12,
          "symbol": "circle"
         },
         "mode": "markers",
         "name": "{'clf': MLPClassifier(), 'clf__activation': 'relu', 'clf__hidden_layer_sizes': (64, 64), 'clf__learning_rate': 'adaptive', 'clf__max_iter': 400}",
         "orientation": "v",
         "showlegend": true,
         "type": "scatter",
         "x": [
          "MLPClassifier"
         ],
         "xaxis": "x",
         "y": [
          0.7745857423736457
         ],
         "yaxis": "y"
        },
        {
         "hovertemplate": "Hyperparameters={'clf': MLPClassifier(), 'clf__activation': 'relu', 'clf__hidden_layer_sizes': (128, 128), 'clf__learning_rate': 'constant', 'clf__max_iter': 200}<br>Model=%{x}<br>F1 Score=%{y}<extra></extra>",
         "legendgroup": "{'clf': MLPClassifier(), 'clf__activation': 'relu', 'clf__hidden_layer_sizes': (128, 128), 'clf__learning_rate': 'constant', 'clf__max_iter': 200}",
         "marker": {
          "color": "#19d3f3",
          "size": 12,
          "symbol": "circle"
         },
         "mode": "markers",
         "name": "{'clf': MLPClassifier(), 'clf__activation': 'relu', 'clf__hidden_layer_sizes': (128, 128), 'clf__learning_rate': 'constant', 'clf__max_iter': 200}",
         "orientation": "v",
         "showlegend": true,
         "type": "scatter",
         "x": [
          "MLPClassifier"
         ],
         "xaxis": "x",
         "y": [
          0.785449531687963
         ],
         "yaxis": "y"
        },
        {
         "hovertemplate": "Hyperparameters={'clf': MLPClassifier(), 'clf__activation': 'relu', 'clf__hidden_layer_sizes': (128, 128), 'clf__learning_rate': 'constant', 'clf__max_iter': 300}<br>Model=%{x}<br>F1 Score=%{y}<extra></extra>",
         "legendgroup": "{'clf': MLPClassifier(), 'clf__activation': 'relu', 'clf__hidden_layer_sizes': (128, 128), 'clf__learning_rate': 'constant', 'clf__max_iter': 300}",
         "marker": {
          "color": "#FF6692",
          "size": 12,
          "symbol": "circle"
         },
         "mode": "markers",
         "name": "{'clf': MLPClassifier(), 'clf__activation': 'relu', 'clf__hidden_layer_sizes': (128, 128), 'clf__learning_rate': 'constant', 'clf__max_iter': 300}",
         "orientation": "v",
         "showlegend": true,
         "type": "scatter",
         "x": [
          "MLPClassifier"
         ],
         "xaxis": "x",
         "y": [
          0.7820722072396306
         ],
         "yaxis": "y"
        },
        {
         "hovertemplate": "Hyperparameters={'clf': MLPClassifier(), 'clf__activation': 'relu', 'clf__hidden_layer_sizes': (128, 128), 'clf__learning_rate': 'constant', 'clf__max_iter': 400}<br>Model=%{x}<br>F1 Score=%{y}<extra></extra>",
         "legendgroup": "{'clf': MLPClassifier(), 'clf__activation': 'relu', 'clf__hidden_layer_sizes': (128, 128), 'clf__learning_rate': 'constant', 'clf__max_iter': 400}",
         "marker": {
          "color": "#B6E880",
          "size": 12,
          "symbol": "circle"
         },
         "mode": "markers",
         "name": "{'clf': MLPClassifier(), 'clf__activation': 'relu', 'clf__hidden_layer_sizes': (128, 128), 'clf__learning_rate': 'constant', 'clf__max_iter': 400}",
         "orientation": "v",
         "showlegend": true,
         "type": "scatter",
         "x": [
          "MLPClassifier"
         ],
         "xaxis": "x",
         "y": [
          0.7836806080628349
         ],
         "yaxis": "y"
        },
        {
         "hovertemplate": "Hyperparameters={'clf': MLPClassifier(), 'clf__activation': 'relu', 'clf__hidden_layer_sizes': (128, 128), 'clf__learning_rate': 'invscaling', 'clf__max_iter': 200}<br>Model=%{x}<br>F1 Score=%{y}<extra></extra>",
         "legendgroup": "{'clf': MLPClassifier(), 'clf__activation': 'relu', 'clf__hidden_layer_sizes': (128, 128), 'clf__learning_rate': 'invscaling', 'clf__max_iter': 200}",
         "marker": {
          "color": "#FF97FF",
          "size": 12,
          "symbol": "circle"
         },
         "mode": "markers",
         "name": "{'clf': MLPClassifier(), 'clf__activation': 'relu', 'clf__hidden_layer_sizes': (128, 128), 'clf__learning_rate': 'invscaling', 'clf__max_iter': 200}",
         "orientation": "v",
         "showlegend": true,
         "type": "scatter",
         "x": [
          "MLPClassifier"
         ],
         "xaxis": "x",
         "y": [
          0.7772058194247335
         ],
         "yaxis": "y"
        },
        {
         "hovertemplate": "Hyperparameters={'clf': MLPClassifier(), 'clf__activation': 'relu', 'clf__hidden_layer_sizes': (128, 128), 'clf__learning_rate': 'invscaling', 'clf__max_iter': 300}<br>Model=%{x}<br>F1 Score=%{y}<extra></extra>",
         "legendgroup": "{'clf': MLPClassifier(), 'clf__activation': 'relu', 'clf__hidden_layer_sizes': (128, 128), 'clf__learning_rate': 'invscaling', 'clf__max_iter': 300}",
         "marker": {
          "color": "#FECB52",
          "size": 12,
          "symbol": "circle"
         },
         "mode": "markers",
         "name": "{'clf': MLPClassifier(), 'clf__activation': 'relu', 'clf__hidden_layer_sizes': (128, 128), 'clf__learning_rate': 'invscaling', 'clf__max_iter': 300}",
         "orientation": "v",
         "showlegend": true,
         "type": "scatter",
         "x": [
          "MLPClassifier"
         ],
         "xaxis": "x",
         "y": [
          0.7864572408583264
         ],
         "yaxis": "y"
        },
        {
         "hovertemplate": "Hyperparameters={'clf': MLPClassifier(), 'clf__activation': 'relu', 'clf__hidden_layer_sizes': (128, 128), 'clf__learning_rate': 'invscaling', 'clf__max_iter': 400}<br>Model=%{x}<br>F1 Score=%{y}<extra></extra>",
         "legendgroup": "{'clf': MLPClassifier(), 'clf__activation': 'relu', 'clf__hidden_layer_sizes': (128, 128), 'clf__learning_rate': 'invscaling', 'clf__max_iter': 400}",
         "marker": {
          "color": "#636efa",
          "size": 12,
          "symbol": "circle"
         },
         "mode": "markers",
         "name": "{'clf': MLPClassifier(), 'clf__activation': 'relu', 'clf__hidden_layer_sizes': (128, 128), 'clf__learning_rate': 'invscaling', 'clf__max_iter': 400}",
         "orientation": "v",
         "showlegend": true,
         "type": "scatter",
         "x": [
          "MLPClassifier"
         ],
         "xaxis": "x",
         "y": [
          0.7803585647369129
         ],
         "yaxis": "y"
        },
        {
         "hovertemplate": "Hyperparameters={'clf': MLPClassifier(), 'clf__activation': 'relu', 'clf__hidden_layer_sizes': (128, 128), 'clf__learning_rate': 'adaptive', 'clf__max_iter': 200}<br>Model=%{x}<br>F1 Score=%{y}<extra></extra>",
         "legendgroup": "{'clf': MLPClassifier(), 'clf__activation': 'relu', 'clf__hidden_layer_sizes': (128, 128), 'clf__learning_rate': 'adaptive', 'clf__max_iter': 200}",
         "marker": {
          "color": "#EF553B",
          "size": 12,
          "symbol": "circle"
         },
         "mode": "markers",
         "name": "{'clf': MLPClassifier(), 'clf__activation': 'relu', 'clf__hidden_layer_sizes': (128, 128), 'clf__learning_rate': 'adaptive', 'clf__max_iter': 200}",
         "orientation": "v",
         "showlegend": true,
         "type": "scatter",
         "x": [
          "MLPClassifier"
         ],
         "xaxis": "x",
         "y": [
          0.780628800275154
         ],
         "yaxis": "y"
        },
        {
         "hovertemplate": "Hyperparameters={'clf': MLPClassifier(), 'clf__activation': 'relu', 'clf__hidden_layer_sizes': (128, 128), 'clf__learning_rate': 'adaptive', 'clf__max_iter': 300}<br>Model=%{x}<br>F1 Score=%{y}<extra></extra>",
         "legendgroup": "{'clf': MLPClassifier(), 'clf__activation': 'relu', 'clf__hidden_layer_sizes': (128, 128), 'clf__learning_rate': 'adaptive', 'clf__max_iter': 300}",
         "marker": {
          "color": "#00cc96",
          "size": 12,
          "symbol": "circle"
         },
         "mode": "markers",
         "name": "{'clf': MLPClassifier(), 'clf__activation': 'relu', 'clf__hidden_layer_sizes': (128, 128), 'clf__learning_rate': 'adaptive', 'clf__max_iter': 300}",
         "orientation": "v",
         "showlegend": true,
         "type": "scatter",
         "x": [
          "MLPClassifier"
         ],
         "xaxis": "x",
         "y": [
          0.7779924978033704
         ],
         "yaxis": "y"
        },
        {
         "hovertemplate": "Hyperparameters={'clf': MLPClassifier(), 'clf__activation': 'relu', 'clf__hidden_layer_sizes': (128, 128), 'clf__learning_rate': 'adaptive', 'clf__max_iter': 400}<br>Model=%{x}<br>F1 Score=%{y}<extra></extra>",
         "legendgroup": "{'clf': MLPClassifier(), 'clf__activation': 'relu', 'clf__hidden_layer_sizes': (128, 128), 'clf__learning_rate': 'adaptive', 'clf__max_iter': 400}",
         "marker": {
          "color": "#ab63fa",
          "size": 12,
          "symbol": "circle"
         },
         "mode": "markers",
         "name": "{'clf': MLPClassifier(), 'clf__activation': 'relu', 'clf__hidden_layer_sizes': (128, 128), 'clf__learning_rate': 'adaptive', 'clf__max_iter': 400}",
         "orientation": "v",
         "showlegend": true,
         "type": "scatter",
         "x": [
          "MLPClassifier"
         ],
         "xaxis": "x",
         "y": [
          0.7793746549948708
         ],
         "yaxis": "y"
        },
        {
         "hovertemplate": "Hyperparameters={'clf': MLPClassifier(), 'clf__activation': 'tanh', 'clf__hidden_layer_sizes': (32, 32), 'clf__learning_rate': 'constant', 'clf__max_iter': 200}<br>Model=%{x}<br>F1 Score=%{y}<extra></extra>",
         "legendgroup": "{'clf': MLPClassifier(), 'clf__activation': 'tanh', 'clf__hidden_layer_sizes': (32, 32), 'clf__learning_rate': 'constant', 'clf__max_iter': 200}",
         "marker": {
          "color": "#FFA15A",
          "size": 12,
          "symbol": "circle"
         },
         "mode": "markers",
         "name": "{'clf': MLPClassifier(), 'clf__activation': 'tanh', 'clf__hidden_layer_sizes': (32, 32), 'clf__learning_rate': 'constant', 'clf__max_iter': 200}",
         "orientation": "v",
         "showlegend": true,
         "type": "scatter",
         "x": [
          "MLPClassifier"
         ],
         "xaxis": "x",
         "y": [
          0.7704128595455286
         ],
         "yaxis": "y"
        },
        {
         "hovertemplate": "Hyperparameters={'clf': MLPClassifier(), 'clf__activation': 'tanh', 'clf__hidden_layer_sizes': (32, 32), 'clf__learning_rate': 'constant', 'clf__max_iter': 300}<br>Model=%{x}<br>F1 Score=%{y}<extra></extra>",
         "legendgroup": "{'clf': MLPClassifier(), 'clf__activation': 'tanh', 'clf__hidden_layer_sizes': (32, 32), 'clf__learning_rate': 'constant', 'clf__max_iter': 300}",
         "marker": {
          "color": "#19d3f3",
          "size": 12,
          "symbol": "circle"
         },
         "mode": "markers",
         "name": "{'clf': MLPClassifier(), 'clf__activation': 'tanh', 'clf__hidden_layer_sizes': (32, 32), 'clf__learning_rate': 'constant', 'clf__max_iter': 300}",
         "orientation": "v",
         "showlegend": true,
         "type": "scatter",
         "x": [
          "MLPClassifier"
         ],
         "xaxis": "x",
         "y": [
          0.7709351547282456
         ],
         "yaxis": "y"
        },
        {
         "hovertemplate": "Hyperparameters={'clf': MLPClassifier(), 'clf__activation': 'tanh', 'clf__hidden_layer_sizes': (32, 32), 'clf__learning_rate': 'constant', 'clf__max_iter': 400}<br>Model=%{x}<br>F1 Score=%{y}<extra></extra>",
         "legendgroup": "{'clf': MLPClassifier(), 'clf__activation': 'tanh', 'clf__hidden_layer_sizes': (32, 32), 'clf__learning_rate': 'constant', 'clf__max_iter': 400}",
         "marker": {
          "color": "#FF6692",
          "size": 12,
          "symbol": "circle"
         },
         "mode": "markers",
         "name": "{'clf': MLPClassifier(), 'clf__activation': 'tanh', 'clf__hidden_layer_sizes': (32, 32), 'clf__learning_rate': 'constant', 'clf__max_iter': 400}",
         "orientation": "v",
         "showlegend": true,
         "type": "scatter",
         "x": [
          "MLPClassifier"
         ],
         "xaxis": "x",
         "y": [
          0.7710829077598877
         ],
         "yaxis": "y"
        },
        {
         "hovertemplate": "Hyperparameters={'clf': MLPClassifier(), 'clf__activation': 'tanh', 'clf__hidden_layer_sizes': (32, 32), 'clf__learning_rate': 'invscaling', 'clf__max_iter': 200}<br>Model=%{x}<br>F1 Score=%{y}<extra></extra>",
         "legendgroup": "{'clf': MLPClassifier(), 'clf__activation': 'tanh', 'clf__hidden_layer_sizes': (32, 32), 'clf__learning_rate': 'invscaling', 'clf__max_iter': 200}",
         "marker": {
          "color": "#B6E880",
          "size": 12,
          "symbol": "circle"
         },
         "mode": "markers",
         "name": "{'clf': MLPClassifier(), 'clf__activation': 'tanh', 'clf__hidden_layer_sizes': (32, 32), 'clf__learning_rate': 'invscaling', 'clf__max_iter': 200}",
         "orientation": "v",
         "showlegend": true,
         "type": "scatter",
         "x": [
          "MLPClassifier"
         ],
         "xaxis": "x",
         "y": [
          0.7761983445360677
         ],
         "yaxis": "y"
        },
        {
         "hovertemplate": "Hyperparameters={'clf': MLPClassifier(), 'clf__activation': 'tanh', 'clf__hidden_layer_sizes': (32, 32), 'clf__learning_rate': 'invscaling', 'clf__max_iter': 300}<br>Model=%{x}<br>F1 Score=%{y}<extra></extra>",
         "legendgroup": "{'clf': MLPClassifier(), 'clf__activation': 'tanh', 'clf__hidden_layer_sizes': (32, 32), 'clf__learning_rate': 'invscaling', 'clf__max_iter': 300}",
         "marker": {
          "color": "#FF97FF",
          "size": 12,
          "symbol": "circle"
         },
         "mode": "markers",
         "name": "{'clf': MLPClassifier(), 'clf__activation': 'tanh', 'clf__hidden_layer_sizes': (32, 32), 'clf__learning_rate': 'invscaling', 'clf__max_iter': 300}",
         "orientation": "v",
         "showlegend": true,
         "type": "scatter",
         "x": [
          "MLPClassifier"
         ],
         "xaxis": "x",
         "y": [
          0.7712041562410251
         ],
         "yaxis": "y"
        },
        {
         "hovertemplate": "Hyperparameters={'clf': MLPClassifier(), 'clf__activation': 'tanh', 'clf__hidden_layer_sizes': (32, 32), 'clf__learning_rate': 'invscaling', 'clf__max_iter': 400}<br>Model=%{x}<br>F1 Score=%{y}<extra></extra>",
         "legendgroup": "{'clf': MLPClassifier(), 'clf__activation': 'tanh', 'clf__hidden_layer_sizes': (32, 32), 'clf__learning_rate': 'invscaling', 'clf__max_iter': 400}",
         "marker": {
          "color": "#FECB52",
          "size": 12,
          "symbol": "circle"
         },
         "mode": "markers",
         "name": "{'clf': MLPClassifier(), 'clf__activation': 'tanh', 'clf__hidden_layer_sizes': (32, 32), 'clf__learning_rate': 'invscaling', 'clf__max_iter': 400}",
         "orientation": "v",
         "showlegend": true,
         "type": "scatter",
         "x": [
          "MLPClassifier"
         ],
         "xaxis": "x",
         "y": [
          0.7727061100296891
         ],
         "yaxis": "y"
        },
        {
         "hovertemplate": "Hyperparameters={'clf': MLPClassifier(), 'clf__activation': 'tanh', 'clf__hidden_layer_sizes': (32, 32), 'clf__learning_rate': 'adaptive', 'clf__max_iter': 200}<br>Model=%{x}<br>F1 Score=%{y}<extra></extra>",
         "legendgroup": "{'clf': MLPClassifier(), 'clf__activation': 'tanh', 'clf__hidden_layer_sizes': (32, 32), 'clf__learning_rate': 'adaptive', 'clf__max_iter': 200}",
         "marker": {
          "color": "#636efa",
          "size": 12,
          "symbol": "circle"
         },
         "mode": "markers",
         "name": "{'clf': MLPClassifier(), 'clf__activation': 'tanh', 'clf__hidden_layer_sizes': (32, 32), 'clf__learning_rate': 'adaptive', 'clf__max_iter': 200}",
         "orientation": "v",
         "showlegend": true,
         "type": "scatter",
         "x": [
          "MLPClassifier"
         ],
         "xaxis": "x",
         "y": [
          0.7671970975452594
         ],
         "yaxis": "y"
        },
        {
         "hovertemplate": "Hyperparameters={'clf': MLPClassifier(), 'clf__activation': 'tanh', 'clf__hidden_layer_sizes': (32, 32), 'clf__learning_rate': 'adaptive', 'clf__max_iter': 300}<br>Model=%{x}<br>F1 Score=%{y}<extra></extra>",
         "legendgroup": "{'clf': MLPClassifier(), 'clf__activation': 'tanh', 'clf__hidden_layer_sizes': (32, 32), 'clf__learning_rate': 'adaptive', 'clf__max_iter': 300}",
         "marker": {
          "color": "#EF553B",
          "size": 12,
          "symbol": "circle"
         },
         "mode": "markers",
         "name": "{'clf': MLPClassifier(), 'clf__activation': 'tanh', 'clf__hidden_layer_sizes': (32, 32), 'clf__learning_rate': 'adaptive', 'clf__max_iter': 300}",
         "orientation": "v",
         "showlegend": true,
         "type": "scatter",
         "x": [
          "MLPClassifier"
         ],
         "xaxis": "x",
         "y": [
          0.7736777329220278
         ],
         "yaxis": "y"
        },
        {
         "hovertemplate": "Hyperparameters={'clf': MLPClassifier(), 'clf__activation': 'tanh', 'clf__hidden_layer_sizes': (32, 32), 'clf__learning_rate': 'adaptive', 'clf__max_iter': 400}<br>Model=%{x}<br>F1 Score=%{y}<extra></extra>",
         "legendgroup": "{'clf': MLPClassifier(), 'clf__activation': 'tanh', 'clf__hidden_layer_sizes': (32, 32), 'clf__learning_rate': 'adaptive', 'clf__max_iter': 400}",
         "marker": {
          "color": "#00cc96",
          "size": 12,
          "symbol": "circle"
         },
         "mode": "markers",
         "name": "{'clf': MLPClassifier(), 'clf__activation': 'tanh', 'clf__hidden_layer_sizes': (32, 32), 'clf__learning_rate': 'adaptive', 'clf__max_iter': 400}",
         "orientation": "v",
         "showlegend": true,
         "type": "scatter",
         "x": [
          "MLPClassifier"
         ],
         "xaxis": "x",
         "y": [
          0.7721413714349733
         ],
         "yaxis": "y"
        },
        {
         "hovertemplate": "Hyperparameters={'clf': MLPClassifier(), 'clf__activation': 'tanh', 'clf__hidden_layer_sizes': (64, 64), 'clf__learning_rate': 'constant', 'clf__max_iter': 200}<br>Model=%{x}<br>F1 Score=%{y}<extra></extra>",
         "legendgroup": "{'clf': MLPClassifier(), 'clf__activation': 'tanh', 'clf__hidden_layer_sizes': (64, 64), 'clf__learning_rate': 'constant', 'clf__max_iter': 200}",
         "marker": {
          "color": "#ab63fa",
          "size": 12,
          "symbol": "circle"
         },
         "mode": "markers",
         "name": "{'clf': MLPClassifier(), 'clf__activation': 'tanh', 'clf__hidden_layer_sizes': (64, 64), 'clf__learning_rate': 'constant', 'clf__max_iter': 200}",
         "orientation": "v",
         "showlegend": true,
         "type": "scatter",
         "x": [
          "MLPClassifier"
         ],
         "xaxis": "x",
         "y": [
          0.7715702342903008
         ],
         "yaxis": "y"
        },
        {
         "hovertemplate": "Hyperparameters={'clf': MLPClassifier(), 'clf__activation': 'tanh', 'clf__hidden_layer_sizes': (64, 64), 'clf__learning_rate': 'constant', 'clf__max_iter': 300}<br>Model=%{x}<br>F1 Score=%{y}<extra></extra>",
         "legendgroup": "{'clf': MLPClassifier(), 'clf__activation': 'tanh', 'clf__hidden_layer_sizes': (64, 64), 'clf__learning_rate': 'constant', 'clf__max_iter': 300}",
         "marker": {
          "color": "#FFA15A",
          "size": 12,
          "symbol": "circle"
         },
         "mode": "markers",
         "name": "{'clf': MLPClassifier(), 'clf__activation': 'tanh', 'clf__hidden_layer_sizes': (64, 64), 'clf__learning_rate': 'constant', 'clf__max_iter': 300}",
         "orientation": "v",
         "showlegend": true,
         "type": "scatter",
         "x": [
          "MLPClassifier"
         ],
         "xaxis": "x",
         "y": [
          0.7734278328952019
         ],
         "yaxis": "y"
        },
        {
         "hovertemplate": "Hyperparameters={'clf': MLPClassifier(), 'clf__activation': 'tanh', 'clf__hidden_layer_sizes': (64, 64), 'clf__learning_rate': 'constant', 'clf__max_iter': 400}<br>Model=%{x}<br>F1 Score=%{y}<extra></extra>",
         "legendgroup": "{'clf': MLPClassifier(), 'clf__activation': 'tanh', 'clf__hidden_layer_sizes': (64, 64), 'clf__learning_rate': 'constant', 'clf__max_iter': 400}",
         "marker": {
          "color": "#19d3f3",
          "size": 12,
          "symbol": "circle"
         },
         "mode": "markers",
         "name": "{'clf': MLPClassifier(), 'clf__activation': 'tanh', 'clf__hidden_layer_sizes': (64, 64), 'clf__learning_rate': 'constant', 'clf__max_iter': 400}",
         "orientation": "v",
         "showlegend": true,
         "type": "scatter",
         "x": [
          "MLPClassifier"
         ],
         "xaxis": "x",
         "y": [
          0.7755869383628986
         ],
         "yaxis": "y"
        },
        {
         "hovertemplate": "Hyperparameters={'clf': MLPClassifier(), 'clf__activation': 'tanh', 'clf__hidden_layer_sizes': (64, 64), 'clf__learning_rate': 'invscaling', 'clf__max_iter': 200}<br>Model=%{x}<br>F1 Score=%{y}<extra></extra>",
         "legendgroup": "{'clf': MLPClassifier(), 'clf__activation': 'tanh', 'clf__hidden_layer_sizes': (64, 64), 'clf__learning_rate': 'invscaling', 'clf__max_iter': 200}",
         "marker": {
          "color": "#FF6692",
          "size": 12,
          "symbol": "circle"
         },
         "mode": "markers",
         "name": "{'clf': MLPClassifier(), 'clf__activation': 'tanh', 'clf__hidden_layer_sizes': (64, 64), 'clf__learning_rate': 'invscaling', 'clf__max_iter': 200}",
         "orientation": "v",
         "showlegend": true,
         "type": "scatter",
         "x": [
          "MLPClassifier"
         ],
         "xaxis": "x",
         "y": [
          0.7749196825065549
         ],
         "yaxis": "y"
        },
        {
         "hovertemplate": "Hyperparameters={'clf': MLPClassifier(), 'clf__activation': 'tanh', 'clf__hidden_layer_sizes': (64, 64), 'clf__learning_rate': 'invscaling', 'clf__max_iter': 300}<br>Model=%{x}<br>F1 Score=%{y}<extra></extra>",
         "legendgroup": "{'clf': MLPClassifier(), 'clf__activation': 'tanh', 'clf__hidden_layer_sizes': (64, 64), 'clf__learning_rate': 'invscaling', 'clf__max_iter': 300}",
         "marker": {
          "color": "#B6E880",
          "size": 12,
          "symbol": "circle"
         },
         "mode": "markers",
         "name": "{'clf': MLPClassifier(), 'clf__activation': 'tanh', 'clf__hidden_layer_sizes': (64, 64), 'clf__learning_rate': 'invscaling', 'clf__max_iter': 300}",
         "orientation": "v",
         "showlegend": true,
         "type": "scatter",
         "x": [
          "MLPClassifier"
         ],
         "xaxis": "x",
         "y": [
          0.776515569738282
         ],
         "yaxis": "y"
        },
        {
         "hovertemplate": "Hyperparameters={'clf': MLPClassifier(), 'clf__activation': 'tanh', 'clf__hidden_layer_sizes': (64, 64), 'clf__learning_rate': 'invscaling', 'clf__max_iter': 400}<br>Model=%{x}<br>F1 Score=%{y}<extra></extra>",
         "legendgroup": "{'clf': MLPClassifier(), 'clf__activation': 'tanh', 'clf__hidden_layer_sizes': (64, 64), 'clf__learning_rate': 'invscaling', 'clf__max_iter': 400}",
         "marker": {
          "color": "#FF97FF",
          "size": 12,
          "symbol": "circle"
         },
         "mode": "markers",
         "name": "{'clf': MLPClassifier(), 'clf__activation': 'tanh', 'clf__hidden_layer_sizes': (64, 64), 'clf__learning_rate': 'invscaling', 'clf__max_iter': 400}",
         "orientation": "v",
         "showlegend": true,
         "type": "scatter",
         "x": [
          "MLPClassifier"
         ],
         "xaxis": "x",
         "y": [
          0.7772026928294773
         ],
         "yaxis": "y"
        },
        {
         "hovertemplate": "Hyperparameters={'clf': MLPClassifier(), 'clf__activation': 'tanh', 'clf__hidden_layer_sizes': (64, 64), 'clf__learning_rate': 'adaptive', 'clf__max_iter': 200}<br>Model=%{x}<br>F1 Score=%{y}<extra></extra>",
         "legendgroup": "{'clf': MLPClassifier(), 'clf__activation': 'tanh', 'clf__hidden_layer_sizes': (64, 64), 'clf__learning_rate': 'adaptive', 'clf__max_iter': 200}",
         "marker": {
          "color": "#FECB52",
          "size": 12,
          "symbol": "circle"
         },
         "mode": "markers",
         "name": "{'clf': MLPClassifier(), 'clf__activation': 'tanh', 'clf__hidden_layer_sizes': (64, 64), 'clf__learning_rate': 'adaptive', 'clf__max_iter': 200}",
         "orientation": "v",
         "showlegend": true,
         "type": "scatter",
         "x": [
          "MLPClassifier"
         ],
         "xaxis": "x",
         "y": [
          0.7776062441841534
         ],
         "yaxis": "y"
        },
        {
         "hovertemplate": "Hyperparameters={'clf': MLPClassifier(), 'clf__activation': 'tanh', 'clf__hidden_layer_sizes': (64, 64), 'clf__learning_rate': 'adaptive', 'clf__max_iter': 300}<br>Model=%{x}<br>F1 Score=%{y}<extra></extra>",
         "legendgroup": "{'clf': MLPClassifier(), 'clf__activation': 'tanh', 'clf__hidden_layer_sizes': (64, 64), 'clf__learning_rate': 'adaptive', 'clf__max_iter': 300}",
         "marker": {
          "color": "#636efa",
          "size": 12,
          "symbol": "circle"
         },
         "mode": "markers",
         "name": "{'clf': MLPClassifier(), 'clf__activation': 'tanh', 'clf__hidden_layer_sizes': (64, 64), 'clf__learning_rate': 'adaptive', 'clf__max_iter': 300}",
         "orientation": "v",
         "showlegend": true,
         "type": "scatter",
         "x": [
          "MLPClassifier"
         ],
         "xaxis": "x",
         "y": [
          0.7759316280691102
         ],
         "yaxis": "y"
        },
        {
         "hovertemplate": "Hyperparameters={'clf': MLPClassifier(), 'clf__activation': 'tanh', 'clf__hidden_layer_sizes': (64, 64), 'clf__learning_rate': 'adaptive', 'clf__max_iter': 400}<br>Model=%{x}<br>F1 Score=%{y}<extra></extra>",
         "legendgroup": "{'clf': MLPClassifier(), 'clf__activation': 'tanh', 'clf__hidden_layer_sizes': (64, 64), 'clf__learning_rate': 'adaptive', 'clf__max_iter': 400}",
         "marker": {
          "color": "#EF553B",
          "size": 12,
          "symbol": "circle"
         },
         "mode": "markers",
         "name": "{'clf': MLPClassifier(), 'clf__activation': 'tanh', 'clf__hidden_layer_sizes': (64, 64), 'clf__learning_rate': 'adaptive', 'clf__max_iter': 400}",
         "orientation": "v",
         "showlegend": true,
         "type": "scatter",
         "x": [
          "MLPClassifier"
         ],
         "xaxis": "x",
         "y": [
          0.7750377332176825
         ],
         "yaxis": "y"
        },
        {
         "hovertemplate": "Hyperparameters={'clf': MLPClassifier(), 'clf__activation': 'tanh', 'clf__hidden_layer_sizes': (128, 128), 'clf__learning_rate': 'constant', 'clf__max_iter': 200}<br>Model=%{x}<br>F1 Score=%{y}<extra></extra>",
         "legendgroup": "{'clf': MLPClassifier(), 'clf__activation': 'tanh', 'clf__hidden_layer_sizes': (128, 128), 'clf__learning_rate': 'constant', 'clf__max_iter': 200}",
         "marker": {
          "color": "#00cc96",
          "size": 12,
          "symbol": "circle"
         },
         "mode": "markers",
         "name": "{'clf': MLPClassifier(), 'clf__activation': 'tanh', 'clf__hidden_layer_sizes': (128, 128), 'clf__learning_rate': 'constant', 'clf__max_iter': 200}",
         "orientation": "v",
         "showlegend": true,
         "type": "scatter",
         "x": [
          "MLPClassifier"
         ],
         "xaxis": "x",
         "y": [
          0.7760176332439059
         ],
         "yaxis": "y"
        },
        {
         "hovertemplate": "Hyperparameters={'clf': MLPClassifier(), 'clf__activation': 'tanh', 'clf__hidden_layer_sizes': (128, 128), 'clf__learning_rate': 'constant', 'clf__max_iter': 300}<br>Model=%{x}<br>F1 Score=%{y}<extra></extra>",
         "legendgroup": "{'clf': MLPClassifier(), 'clf__activation': 'tanh', 'clf__hidden_layer_sizes': (128, 128), 'clf__learning_rate': 'constant', 'clf__max_iter': 300}",
         "marker": {
          "color": "#ab63fa",
          "size": 12,
          "symbol": "circle"
         },
         "mode": "markers",
         "name": "{'clf': MLPClassifier(), 'clf__activation': 'tanh', 'clf__hidden_layer_sizes': (128, 128), 'clf__learning_rate': 'constant', 'clf__max_iter': 300}",
         "orientation": "v",
         "showlegend": true,
         "type": "scatter",
         "x": [
          "MLPClassifier"
         ],
         "xaxis": "x",
         "y": [
          0.7772694744597111
         ],
         "yaxis": "y"
        },
        {
         "hovertemplate": "Hyperparameters={'clf': MLPClassifier(), 'clf__activation': 'tanh', 'clf__hidden_layer_sizes': (128, 128), 'clf__learning_rate': 'constant', 'clf__max_iter': 400}<br>Model=%{x}<br>F1 Score=%{y}<extra></extra>",
         "legendgroup": "{'clf': MLPClassifier(), 'clf__activation': 'tanh', 'clf__hidden_layer_sizes': (128, 128), 'clf__learning_rate': 'constant', 'clf__max_iter': 400}",
         "marker": {
          "color": "#FFA15A",
          "size": 12,
          "symbol": "circle"
         },
         "mode": "markers",
         "name": "{'clf': MLPClassifier(), 'clf__activation': 'tanh', 'clf__hidden_layer_sizes': (128, 128), 'clf__learning_rate': 'constant', 'clf__max_iter': 400}",
         "orientation": "v",
         "showlegend": true,
         "type": "scatter",
         "x": [
          "MLPClassifier"
         ],
         "xaxis": "x",
         "y": [
          0.7778074609569804
         ],
         "yaxis": "y"
        },
        {
         "hovertemplate": "Hyperparameters={'clf': MLPClassifier(), 'clf__activation': 'tanh', 'clf__hidden_layer_sizes': (128, 128), 'clf__learning_rate': 'invscaling', 'clf__max_iter': 200}<br>Model=%{x}<br>F1 Score=%{y}<extra></extra>",
         "legendgroup": "{'clf': MLPClassifier(), 'clf__activation': 'tanh', 'clf__hidden_layer_sizes': (128, 128), 'clf__learning_rate': 'invscaling', 'clf__max_iter': 200}",
         "marker": {
          "color": "#19d3f3",
          "size": 12,
          "symbol": "circle"
         },
         "mode": "markers",
         "name": "{'clf': MLPClassifier(), 'clf__activation': 'tanh', 'clf__hidden_layer_sizes': (128, 128), 'clf__learning_rate': 'invscaling', 'clf__max_iter': 200}",
         "orientation": "v",
         "showlegend": true,
         "type": "scatter",
         "x": [
          "MLPClassifier"
         ],
         "xaxis": "x",
         "y": [
          0.7820027673802972
         ],
         "yaxis": "y"
        },
        {
         "hovertemplate": "Hyperparameters={'clf': MLPClassifier(), 'clf__activation': 'tanh', 'clf__hidden_layer_sizes': (128, 128), 'clf__learning_rate': 'invscaling', 'clf__max_iter': 300}<br>Model=%{x}<br>F1 Score=%{y}<extra></extra>",
         "legendgroup": "{'clf': MLPClassifier(), 'clf__activation': 'tanh', 'clf__hidden_layer_sizes': (128, 128), 'clf__learning_rate': 'invscaling', 'clf__max_iter': 300}",
         "marker": {
          "color": "#FF6692",
          "size": 12,
          "symbol": "circle"
         },
         "mode": "markers",
         "name": "{'clf': MLPClassifier(), 'clf__activation': 'tanh', 'clf__hidden_layer_sizes': (128, 128), 'clf__learning_rate': 'invscaling', 'clf__max_iter': 300}",
         "orientation": "v",
         "showlegend": true,
         "type": "scatter",
         "x": [
          "MLPClassifier"
         ],
         "xaxis": "x",
         "y": [
          0.77780020851683
         ],
         "yaxis": "y"
        },
        {
         "hovertemplate": "Hyperparameters={'clf': MLPClassifier(), 'clf__activation': 'tanh', 'clf__hidden_layer_sizes': (128, 128), 'clf__learning_rate': 'invscaling', 'clf__max_iter': 400}<br>Model=%{x}<br>F1 Score=%{y}<extra></extra>",
         "legendgroup": "{'clf': MLPClassifier(), 'clf__activation': 'tanh', 'clf__hidden_layer_sizes': (128, 128), 'clf__learning_rate': 'invscaling', 'clf__max_iter': 400}",
         "marker": {
          "color": "#B6E880",
          "size": 12,
          "symbol": "circle"
         },
         "mode": "markers",
         "name": "{'clf': MLPClassifier(), 'clf__activation': 'tanh', 'clf__hidden_layer_sizes': (128, 128), 'clf__learning_rate': 'invscaling', 'clf__max_iter': 400}",
         "orientation": "v",
         "showlegend": true,
         "type": "scatter",
         "x": [
          "MLPClassifier"
         ],
         "xaxis": "x",
         "y": [
          0.7844781956577072
         ],
         "yaxis": "y"
        },
        {
         "hovertemplate": "Hyperparameters={'clf': MLPClassifier(), 'clf__activation': 'tanh', 'clf__hidden_layer_sizes': (128, 128), 'clf__learning_rate': 'adaptive', 'clf__max_iter': 200}<br>Model=%{x}<br>F1 Score=%{y}<extra></extra>",
         "legendgroup": "{'clf': MLPClassifier(), 'clf__activation': 'tanh', 'clf__hidden_layer_sizes': (128, 128), 'clf__learning_rate': 'adaptive', 'clf__max_iter': 200}",
         "marker": {
          "color": "#FF97FF",
          "size": 12,
          "symbol": "circle"
         },
         "mode": "markers",
         "name": "{'clf': MLPClassifier(), 'clf__activation': 'tanh', 'clf__hidden_layer_sizes': (128, 128), 'clf__learning_rate': 'adaptive', 'clf__max_iter': 200}",
         "orientation": "v",
         "showlegend": true,
         "type": "scatter",
         "x": [
          "MLPClassifier"
         ],
         "xaxis": "x",
         "y": [
          0.7782579104694078
         ],
         "yaxis": "y"
        },
        {
         "hovertemplate": "Hyperparameters={'clf': MLPClassifier(), 'clf__activation': 'tanh', 'clf__hidden_layer_sizes': (128, 128), 'clf__learning_rate': 'adaptive', 'clf__max_iter': 300}<br>Model=%{x}<br>F1 Score=%{y}<extra></extra>",
         "legendgroup": "{'clf': MLPClassifier(), 'clf__activation': 'tanh', 'clf__hidden_layer_sizes': (128, 128), 'clf__learning_rate': 'adaptive', 'clf__max_iter': 300}",
         "marker": {
          "color": "#FECB52",
          "size": 12,
          "symbol": "circle"
         },
         "mode": "markers",
         "name": "{'clf': MLPClassifier(), 'clf__activation': 'tanh', 'clf__hidden_layer_sizes': (128, 128), 'clf__learning_rate': 'adaptive', 'clf__max_iter': 300}",
         "orientation": "v",
         "showlegend": true,
         "type": "scatter",
         "x": [
          "MLPClassifier"
         ],
         "xaxis": "x",
         "y": [
          0.7810542980074947
         ],
         "yaxis": "y"
        },
        {
         "hovertemplate": "Hyperparameters={'clf': MLPClassifier(), 'clf__activation': 'tanh', 'clf__hidden_layer_sizes': (128, 128), 'clf__learning_rate': 'adaptive', 'clf__max_iter': 400}<br>Model=%{x}<br>F1 Score=%{y}<extra></extra>",
         "legendgroup": "{'clf': MLPClassifier(), 'clf__activation': 'tanh', 'clf__hidden_layer_sizes': (128, 128), 'clf__learning_rate': 'adaptive', 'clf__max_iter': 400}",
         "marker": {
          "color": "#636efa",
          "size": 12,
          "symbol": "circle"
         },
         "mode": "markers",
         "name": "{'clf': MLPClassifier(), 'clf__activation': 'tanh', 'clf__hidden_layer_sizes': (128, 128), 'clf__learning_rate': 'adaptive', 'clf__max_iter': 400}",
         "orientation": "v",
         "showlegend": true,
         "type": "scatter",
         "x": [
          "MLPClassifier"
         ],
         "xaxis": "x",
         "y": [
          0.7825269458788858
         ],
         "yaxis": "y"
        }
       ],
       "layout": {
        "legend": {
         "title": {
          "text": "Hyperparameters"
         },
         "tracegroupgap": 0
        },
        "margin": {
         "t": 60
        },
        "showlegend": false,
        "template": {
         "data": {
          "bar": [
           {
            "error_x": {
             "color": "#2a3f5f"
            },
            "error_y": {
             "color": "#2a3f5f"
            },
            "marker": {
             "line": {
              "color": "#E5ECF6",
              "width": 0.5
             },
             "pattern": {
              "fillmode": "overlay",
              "size": 10,
              "solidity": 0.2
             }
            },
            "type": "bar"
           }
          ],
          "barpolar": [
           {
            "marker": {
             "line": {
              "color": "#E5ECF6",
              "width": 0.5
             },
             "pattern": {
              "fillmode": "overlay",
              "size": 10,
              "solidity": 0.2
             }
            },
            "type": "barpolar"
           }
          ],
          "carpet": [
           {
            "aaxis": {
             "endlinecolor": "#2a3f5f",
             "gridcolor": "white",
             "linecolor": "white",
             "minorgridcolor": "white",
             "startlinecolor": "#2a3f5f"
            },
            "baxis": {
             "endlinecolor": "#2a3f5f",
             "gridcolor": "white",
             "linecolor": "white",
             "minorgridcolor": "white",
             "startlinecolor": "#2a3f5f"
            },
            "type": "carpet"
           }
          ],
          "choropleth": [
           {
            "colorbar": {
             "outlinewidth": 0,
             "ticks": ""
            },
            "type": "choropleth"
           }
          ],
          "contour": [
           {
            "colorbar": {
             "outlinewidth": 0,
             "ticks": ""
            },
            "colorscale": [
             [
              0,
              "#0d0887"
             ],
             [
              0.1111111111111111,
              "#46039f"
             ],
             [
              0.2222222222222222,
              "#7201a8"
             ],
             [
              0.3333333333333333,
              "#9c179e"
             ],
             [
              0.4444444444444444,
              "#bd3786"
             ],
             [
              0.5555555555555556,
              "#d8576b"
             ],
             [
              0.6666666666666666,
              "#ed7953"
             ],
             [
              0.7777777777777778,
              "#fb9f3a"
             ],
             [
              0.8888888888888888,
              "#fdca26"
             ],
             [
              1,
              "#f0f921"
             ]
            ],
            "type": "contour"
           }
          ],
          "contourcarpet": [
           {
            "colorbar": {
             "outlinewidth": 0,
             "ticks": ""
            },
            "type": "contourcarpet"
           }
          ],
          "heatmap": [
           {
            "colorbar": {
             "outlinewidth": 0,
             "ticks": ""
            },
            "colorscale": [
             [
              0,
              "#0d0887"
             ],
             [
              0.1111111111111111,
              "#46039f"
             ],
             [
              0.2222222222222222,
              "#7201a8"
             ],
             [
              0.3333333333333333,
              "#9c179e"
             ],
             [
              0.4444444444444444,
              "#bd3786"
             ],
             [
              0.5555555555555556,
              "#d8576b"
             ],
             [
              0.6666666666666666,
              "#ed7953"
             ],
             [
              0.7777777777777778,
              "#fb9f3a"
             ],
             [
              0.8888888888888888,
              "#fdca26"
             ],
             [
              1,
              "#f0f921"
             ]
            ],
            "type": "heatmap"
           }
          ],
          "heatmapgl": [
           {
            "colorbar": {
             "outlinewidth": 0,
             "ticks": ""
            },
            "colorscale": [
             [
              0,
              "#0d0887"
             ],
             [
              0.1111111111111111,
              "#46039f"
             ],
             [
              0.2222222222222222,
              "#7201a8"
             ],
             [
              0.3333333333333333,
              "#9c179e"
             ],
             [
              0.4444444444444444,
              "#bd3786"
             ],
             [
              0.5555555555555556,
              "#d8576b"
             ],
             [
              0.6666666666666666,
              "#ed7953"
             ],
             [
              0.7777777777777778,
              "#fb9f3a"
             ],
             [
              0.8888888888888888,
              "#fdca26"
             ],
             [
              1,
              "#f0f921"
             ]
            ],
            "type": "heatmapgl"
           }
          ],
          "histogram": [
           {
            "marker": {
             "pattern": {
              "fillmode": "overlay",
              "size": 10,
              "solidity": 0.2
             }
            },
            "type": "histogram"
           }
          ],
          "histogram2d": [
           {
            "colorbar": {
             "outlinewidth": 0,
             "ticks": ""
            },
            "colorscale": [
             [
              0,
              "#0d0887"
             ],
             [
              0.1111111111111111,
              "#46039f"
             ],
             [
              0.2222222222222222,
              "#7201a8"
             ],
             [
              0.3333333333333333,
              "#9c179e"
             ],
             [
              0.4444444444444444,
              "#bd3786"
             ],
             [
              0.5555555555555556,
              "#d8576b"
             ],
             [
              0.6666666666666666,
              "#ed7953"
             ],
             [
              0.7777777777777778,
              "#fb9f3a"
             ],
             [
              0.8888888888888888,
              "#fdca26"
             ],
             [
              1,
              "#f0f921"
             ]
            ],
            "type": "histogram2d"
           }
          ],
          "histogram2dcontour": [
           {
            "colorbar": {
             "outlinewidth": 0,
             "ticks": ""
            },
            "colorscale": [
             [
              0,
              "#0d0887"
             ],
             [
              0.1111111111111111,
              "#46039f"
             ],
             [
              0.2222222222222222,
              "#7201a8"
             ],
             [
              0.3333333333333333,
              "#9c179e"
             ],
             [
              0.4444444444444444,
              "#bd3786"
             ],
             [
              0.5555555555555556,
              "#d8576b"
             ],
             [
              0.6666666666666666,
              "#ed7953"
             ],
             [
              0.7777777777777778,
              "#fb9f3a"
             ],
             [
              0.8888888888888888,
              "#fdca26"
             ],
             [
              1,
              "#f0f921"
             ]
            ],
            "type": "histogram2dcontour"
           }
          ],
          "mesh3d": [
           {
            "colorbar": {
             "outlinewidth": 0,
             "ticks": ""
            },
            "type": "mesh3d"
           }
          ],
          "parcoords": [
           {
            "line": {
             "colorbar": {
              "outlinewidth": 0,
              "ticks": ""
             }
            },
            "type": "parcoords"
           }
          ],
          "pie": [
           {
            "automargin": true,
            "type": "pie"
           }
          ],
          "scatter": [
           {
            "fillpattern": {
             "fillmode": "overlay",
             "size": 10,
             "solidity": 0.2
            },
            "type": "scatter"
           }
          ],
          "scatter3d": [
           {
            "line": {
             "colorbar": {
              "outlinewidth": 0,
              "ticks": ""
             }
            },
            "marker": {
             "colorbar": {
              "outlinewidth": 0,
              "ticks": ""
             }
            },
            "type": "scatter3d"
           }
          ],
          "scattercarpet": [
           {
            "marker": {
             "colorbar": {
              "outlinewidth": 0,
              "ticks": ""
             }
            },
            "type": "scattercarpet"
           }
          ],
          "scattergeo": [
           {
            "marker": {
             "colorbar": {
              "outlinewidth": 0,
              "ticks": ""
             }
            },
            "type": "scattergeo"
           }
          ],
          "scattergl": [
           {
            "marker": {
             "colorbar": {
              "outlinewidth": 0,
              "ticks": ""
             }
            },
            "type": "scattergl"
           }
          ],
          "scattermapbox": [
           {
            "marker": {
             "colorbar": {
              "outlinewidth": 0,
              "ticks": ""
             }
            },
            "type": "scattermapbox"
           }
          ],
          "scatterpolar": [
           {
            "marker": {
             "colorbar": {
              "outlinewidth": 0,
              "ticks": ""
             }
            },
            "type": "scatterpolar"
           }
          ],
          "scatterpolargl": [
           {
            "marker": {
             "colorbar": {
              "outlinewidth": 0,
              "ticks": ""
             }
            },
            "type": "scatterpolargl"
           }
          ],
          "scatterternary": [
           {
            "marker": {
             "colorbar": {
              "outlinewidth": 0,
              "ticks": ""
             }
            },
            "type": "scatterternary"
           }
          ],
          "surface": [
           {
            "colorbar": {
             "outlinewidth": 0,
             "ticks": ""
            },
            "colorscale": [
             [
              0,
              "#0d0887"
             ],
             [
              0.1111111111111111,
              "#46039f"
             ],
             [
              0.2222222222222222,
              "#7201a8"
             ],
             [
              0.3333333333333333,
              "#9c179e"
             ],
             [
              0.4444444444444444,
              "#bd3786"
             ],
             [
              0.5555555555555556,
              "#d8576b"
             ],
             [
              0.6666666666666666,
              "#ed7953"
             ],
             [
              0.7777777777777778,
              "#fb9f3a"
             ],
             [
              0.8888888888888888,
              "#fdca26"
             ],
             [
              1,
              "#f0f921"
             ]
            ],
            "type": "surface"
           }
          ],
          "table": [
           {
            "cells": {
             "fill": {
              "color": "#EBF0F8"
             },
             "line": {
              "color": "white"
             }
            },
            "header": {
             "fill": {
              "color": "#C8D4E3"
             },
             "line": {
              "color": "white"
             }
            },
            "type": "table"
           }
          ]
         },
         "layout": {
          "annotationdefaults": {
           "arrowcolor": "#2a3f5f",
           "arrowhead": 0,
           "arrowwidth": 1
          },
          "autotypenumbers": "strict",
          "coloraxis": {
           "colorbar": {
            "outlinewidth": 0,
            "ticks": ""
           }
          },
          "colorscale": {
           "diverging": [
            [
             0,
             "#8e0152"
            ],
            [
             0.1,
             "#c51b7d"
            ],
            [
             0.2,
             "#de77ae"
            ],
            [
             0.3,
             "#f1b6da"
            ],
            [
             0.4,
             "#fde0ef"
            ],
            [
             0.5,
             "#f7f7f7"
            ],
            [
             0.6,
             "#e6f5d0"
            ],
            [
             0.7,
             "#b8e186"
            ],
            [
             0.8,
             "#7fbc41"
            ],
            [
             0.9,
             "#4d9221"
            ],
            [
             1,
             "#276419"
            ]
           ],
           "sequential": [
            [
             0,
             "#0d0887"
            ],
            [
             0.1111111111111111,
             "#46039f"
            ],
            [
             0.2222222222222222,
             "#7201a8"
            ],
            [
             0.3333333333333333,
             "#9c179e"
            ],
            [
             0.4444444444444444,
             "#bd3786"
            ],
            [
             0.5555555555555556,
             "#d8576b"
            ],
            [
             0.6666666666666666,
             "#ed7953"
            ],
            [
             0.7777777777777778,
             "#fb9f3a"
            ],
            [
             0.8888888888888888,
             "#fdca26"
            ],
            [
             1,
             "#f0f921"
            ]
           ],
           "sequentialminus": [
            [
             0,
             "#0d0887"
            ],
            [
             0.1111111111111111,
             "#46039f"
            ],
            [
             0.2222222222222222,
             "#7201a8"
            ],
            [
             0.3333333333333333,
             "#9c179e"
            ],
            [
             0.4444444444444444,
             "#bd3786"
            ],
            [
             0.5555555555555556,
             "#d8576b"
            ],
            [
             0.6666666666666666,
             "#ed7953"
            ],
            [
             0.7777777777777778,
             "#fb9f3a"
            ],
            [
             0.8888888888888888,
             "#fdca26"
            ],
            [
             1,
             "#f0f921"
            ]
           ]
          },
          "colorway": [
           "#636efa",
           "#EF553B",
           "#00cc96",
           "#ab63fa",
           "#FFA15A",
           "#19d3f3",
           "#FF6692",
           "#B6E880",
           "#FF97FF",
           "#FECB52"
          ],
          "font": {
           "color": "#2a3f5f"
          },
          "geo": {
           "bgcolor": "white",
           "lakecolor": "white",
           "landcolor": "#E5ECF6",
           "showlakes": true,
           "showland": true,
           "subunitcolor": "white"
          },
          "hoverlabel": {
           "align": "left"
          },
          "hovermode": "closest",
          "mapbox": {
           "style": "light"
          },
          "paper_bgcolor": "white",
          "plot_bgcolor": "#E5ECF6",
          "polar": {
           "angularaxis": {
            "gridcolor": "white",
            "linecolor": "white",
            "ticks": ""
           },
           "bgcolor": "#E5ECF6",
           "radialaxis": {
            "gridcolor": "white",
            "linecolor": "white",
            "ticks": ""
           }
          },
          "scene": {
           "xaxis": {
            "backgroundcolor": "#E5ECF6",
            "gridcolor": "white",
            "gridwidth": 2,
            "linecolor": "white",
            "showbackground": true,
            "ticks": "",
            "zerolinecolor": "white"
           },
           "yaxis": {
            "backgroundcolor": "#E5ECF6",
            "gridcolor": "white",
            "gridwidth": 2,
            "linecolor": "white",
            "showbackground": true,
            "ticks": "",
            "zerolinecolor": "white"
           },
           "zaxis": {
            "backgroundcolor": "#E5ECF6",
            "gridcolor": "white",
            "gridwidth": 2,
            "linecolor": "white",
            "showbackground": true,
            "ticks": "",
            "zerolinecolor": "white"
           }
          },
          "shapedefaults": {
           "line": {
            "color": "#2a3f5f"
           }
          },
          "ternary": {
           "aaxis": {
            "gridcolor": "white",
            "linecolor": "white",
            "ticks": ""
           },
           "baxis": {
            "gridcolor": "white",
            "linecolor": "white",
            "ticks": ""
           },
           "bgcolor": "#E5ECF6",
           "caxis": {
            "gridcolor": "white",
            "linecolor": "white",
            "ticks": ""
           }
          },
          "title": {
           "x": 0.05
          },
          "xaxis": {
           "automargin": true,
           "gridcolor": "white",
           "linecolor": "white",
           "ticks": "",
           "title": {
            "standoff": 15
           },
           "zerolinecolor": "white",
           "zerolinewidth": 2
          },
          "yaxis": {
           "automargin": true,
           "gridcolor": "white",
           "linecolor": "white",
           "ticks": "",
           "title": {
            "standoff": 15
           },
           "zerolinecolor": "white",
           "zerolinewidth": 2
          }
         }
        },
        "xaxis": {
         "anchor": "y",
         "domain": [
          0,
          1
         ],
         "title": {
          "text": "Model"
         }
        },
        "yaxis": {
         "anchor": "x",
         "domain": [
          0,
          1
         ],
         "title": {
          "text": "F1 Score"
         }
        }
       }
      }
     },
     "metadata": {},
     "output_type": "display_data"
    }
   ],
   "source": [
    "fig = px.scatter(df_scores, x='Model', y='F1 Score', color='Hyperparameters')\n",
    "fig.update_traces(marker_size=12)\n",
    "fig.update_layout(showlegend=False)"
   ]
  },
  {
   "cell_type": "markdown",
   "metadata": {},
   "source": [
    "From the graph above we can see that the RF and MLP classifiers perform the best in general, regardless of hyperparameter values, but the best performance with hyperparameter tuning is achieved with the Logistic Regression model with C=0.0001. Since the range of initial values for C was pretty broad (0.0001, 0.1, 10000), let's run one more grid search CV on the Logistic Regression model with more granular sampling around that region."
   ]
  },
  {
   "cell_type": "code",
   "execution_count": 221,
   "metadata": {},
   "outputs": [],
   "source": [
    "pipeline_steps_lr = [\n",
    "    {\n",
    "        'clf': [LogisticRegression()],\n",
    "        'clf__penalty': ['l2'],\n",
    "        'clf__C': np.logspace(-5, -3, 10),\n",
    "    }, \n",
    "]"
   ]
  },
  {
   "cell_type": "code",
   "execution_count": 222,
   "metadata": {},
   "outputs": [],
   "source": [
    "pipe_lr = Pipeline([\n",
    "    ('preprocessing', StandardScaler()), \n",
    "    ('clf', None)  # Will be filled in by GridSearchCV\n",
    "])\n",
    "\n",
    "grid_search_lr = GridSearchCV(estimator=pipe_lr, param_grid=pipeline_steps_lr, scoring='f1_weighted', n_jobs=-1, cv=5, verbose=1)"
   ]
  },
  {
   "cell_type": "code",
   "execution_count": 223,
   "metadata": {},
   "outputs": [
    {
     "name": "stdout",
     "output_type": "stream",
     "text": [
      "Fitting 5 folds for each of 10 candidates, totalling 50 fits\n"
     ]
    },
    {
     "data": {
      "text/html": [
       "<style>#sk-container-id-7 {color: black;background-color: white;}#sk-container-id-7 pre{padding: 0;}#sk-container-id-7 div.sk-toggleable {background-color: white;}#sk-container-id-7 label.sk-toggleable__label {cursor: pointer;display: block;width: 100%;margin-bottom: 0;padding: 0.3em;box-sizing: border-box;text-align: center;}#sk-container-id-7 label.sk-toggleable__label-arrow:before {content: \"▸\";float: left;margin-right: 0.25em;color: #696969;}#sk-container-id-7 label.sk-toggleable__label-arrow:hover:before {color: black;}#sk-container-id-7 div.sk-estimator:hover label.sk-toggleable__label-arrow:before {color: black;}#sk-container-id-7 div.sk-toggleable__content {max-height: 0;max-width: 0;overflow: hidden;text-align: left;background-color: #f0f8ff;}#sk-container-id-7 div.sk-toggleable__content pre {margin: 0.2em;color: black;border-radius: 0.25em;background-color: #f0f8ff;}#sk-container-id-7 input.sk-toggleable__control:checked~div.sk-toggleable__content {max-height: 200px;max-width: 100%;overflow: auto;}#sk-container-id-7 input.sk-toggleable__control:checked~label.sk-toggleable__label-arrow:before {content: \"▾\";}#sk-container-id-7 div.sk-estimator input.sk-toggleable__control:checked~label.sk-toggleable__label {background-color: #d4ebff;}#sk-container-id-7 div.sk-label input.sk-toggleable__control:checked~label.sk-toggleable__label {background-color: #d4ebff;}#sk-container-id-7 input.sk-hidden--visually {border: 0;clip: rect(1px 1px 1px 1px);clip: rect(1px, 1px, 1px, 1px);height: 1px;margin: -1px;overflow: hidden;padding: 0;position: absolute;width: 1px;}#sk-container-id-7 div.sk-estimator {font-family: monospace;background-color: #f0f8ff;border: 1px dotted black;border-radius: 0.25em;box-sizing: border-box;margin-bottom: 0.5em;}#sk-container-id-7 div.sk-estimator:hover {background-color: #d4ebff;}#sk-container-id-7 div.sk-parallel-item::after {content: \"\";width: 100%;border-bottom: 1px solid gray;flex-grow: 1;}#sk-container-id-7 div.sk-label:hover label.sk-toggleable__label {background-color: #d4ebff;}#sk-container-id-7 div.sk-serial::before {content: \"\";position: absolute;border-left: 1px solid gray;box-sizing: border-box;top: 0;bottom: 0;left: 50%;z-index: 0;}#sk-container-id-7 div.sk-serial {display: flex;flex-direction: column;align-items: center;background-color: white;padding-right: 0.2em;padding-left: 0.2em;position: relative;}#sk-container-id-7 div.sk-item {position: relative;z-index: 1;}#sk-container-id-7 div.sk-parallel {display: flex;align-items: stretch;justify-content: center;background-color: white;position: relative;}#sk-container-id-7 div.sk-item::before, #sk-container-id-7 div.sk-parallel-item::before {content: \"\";position: absolute;border-left: 1px solid gray;box-sizing: border-box;top: 0;bottom: 0;left: 50%;z-index: -1;}#sk-container-id-7 div.sk-parallel-item {display: flex;flex-direction: column;z-index: 1;position: relative;background-color: white;}#sk-container-id-7 div.sk-parallel-item:first-child::after {align-self: flex-end;width: 50%;}#sk-container-id-7 div.sk-parallel-item:last-child::after {align-self: flex-start;width: 50%;}#sk-container-id-7 div.sk-parallel-item:only-child::after {width: 0;}#sk-container-id-7 div.sk-dashed-wrapped {border: 1px dashed gray;margin: 0 0.4em 0.5em 0.4em;box-sizing: border-box;padding-bottom: 0.4em;background-color: white;}#sk-container-id-7 div.sk-label label {font-family: monospace;font-weight: bold;display: inline-block;line-height: 1.2em;}#sk-container-id-7 div.sk-label-container {text-align: center;}#sk-container-id-7 div.sk-container {/* jupyter's `normalize.less` sets `[hidden] { display: none; }` but bootstrap.min.css set `[hidden] { display: none !important; }` so we also need the `!important` here to be able to override the default hidden behavior on the sphinx rendered scikit-learn.org. See: https://github.com/scikit-learn/scikit-learn/issues/21755 */display: inline-block !important;position: relative;}#sk-container-id-7 div.sk-text-repr-fallback {display: none;}</style><div id=\"sk-container-id-7\" class=\"sk-top-container\"><div class=\"sk-text-repr-fallback\"><pre>GridSearchCV(cv=5,\n",
       "             estimator=Pipeline(steps=[(&#x27;preprocessing&#x27;, StandardScaler()),\n",
       "                                       (&#x27;clf&#x27;, None)]),\n",
       "             n_jobs=-1,\n",
       "             param_grid=[{&#x27;clf&#x27;: [LogisticRegression(C=0.00021544346900318823)],\n",
       "                          &#x27;clf__C&#x27;: array([1.00000000e-05, 1.66810054e-05, 2.78255940e-05, 4.64158883e-05,\n",
       "       7.74263683e-05, 1.29154967e-04, 2.15443469e-04, 3.59381366e-04,\n",
       "       5.99484250e-04, 1.00000000e-03]),\n",
       "                          &#x27;clf__penalty&#x27;: [&#x27;l2&#x27;]}],\n",
       "             scoring=&#x27;f1_weighted&#x27;, verbose=1)</pre><b>In a Jupyter environment, please rerun this cell to show the HTML representation or trust the notebook. <br />On GitHub, the HTML representation is unable to render, please try loading this page with nbviewer.org.</b></div><div class=\"sk-container\" hidden><div class=\"sk-item sk-dashed-wrapped\"><div class=\"sk-label-container\"><div class=\"sk-label sk-toggleable\"><input class=\"sk-toggleable__control sk-hidden--visually\" id=\"sk-estimator-id-26\" type=\"checkbox\" ><label for=\"sk-estimator-id-26\" class=\"sk-toggleable__label sk-toggleable__label-arrow\">GridSearchCV</label><div class=\"sk-toggleable__content\"><pre>GridSearchCV(cv=5,\n",
       "             estimator=Pipeline(steps=[(&#x27;preprocessing&#x27;, StandardScaler()),\n",
       "                                       (&#x27;clf&#x27;, None)]),\n",
       "             n_jobs=-1,\n",
       "             param_grid=[{&#x27;clf&#x27;: [LogisticRegression(C=0.00021544346900318823)],\n",
       "                          &#x27;clf__C&#x27;: array([1.00000000e-05, 1.66810054e-05, 2.78255940e-05, 4.64158883e-05,\n",
       "       7.74263683e-05, 1.29154967e-04, 2.15443469e-04, 3.59381366e-04,\n",
       "       5.99484250e-04, 1.00000000e-03]),\n",
       "                          &#x27;clf__penalty&#x27;: [&#x27;l2&#x27;]}],\n",
       "             scoring=&#x27;f1_weighted&#x27;, verbose=1)</pre></div></div></div><div class=\"sk-parallel\"><div class=\"sk-parallel-item\"><div class=\"sk-item\"><div class=\"sk-label-container\"><div class=\"sk-label sk-toggleable\"><input class=\"sk-toggleable__control sk-hidden--visually\" id=\"sk-estimator-id-27\" type=\"checkbox\" ><label for=\"sk-estimator-id-27\" class=\"sk-toggleable__label sk-toggleable__label-arrow\">estimator: Pipeline</label><div class=\"sk-toggleable__content\"><pre>Pipeline(steps=[(&#x27;preprocessing&#x27;, StandardScaler()), (&#x27;clf&#x27;, None)])</pre></div></div></div><div class=\"sk-serial\"><div class=\"sk-item\"><div class=\"sk-serial\"><div class=\"sk-item\"><div class=\"sk-estimator sk-toggleable\"><input class=\"sk-toggleable__control sk-hidden--visually\" id=\"sk-estimator-id-28\" type=\"checkbox\" ><label for=\"sk-estimator-id-28\" class=\"sk-toggleable__label sk-toggleable__label-arrow\">StandardScaler</label><div class=\"sk-toggleable__content\"><pre>StandardScaler()</pre></div></div></div><div class=\"sk-item\"><div class=\"sk-estimator sk-toggleable\"><input class=\"sk-toggleable__control sk-hidden--visually\" id=\"sk-estimator-id-29\" type=\"checkbox\" ><label for=\"sk-estimator-id-29\" class=\"sk-toggleable__label sk-toggleable__label-arrow\">None</label><div class=\"sk-toggleable__content\"><pre>None</pre></div></div></div></div></div></div></div></div></div></div></div></div>"
      ],
      "text/plain": [
       "GridSearchCV(cv=5,\n",
       "             estimator=Pipeline(steps=[('preprocessing', StandardScaler()),\n",
       "                                       ('clf', None)]),\n",
       "             n_jobs=-1,\n",
       "             param_grid=[{'clf': [LogisticRegression(C=0.00021544346900318823)],\n",
       "                          'clf__C': array([1.00000000e-05, 1.66810054e-05, 2.78255940e-05, 4.64158883e-05,\n",
       "       7.74263683e-05, 1.29154967e-04, 2.15443469e-04, 3.59381366e-04,\n",
       "       5.99484250e-04, 1.00000000e-03]),\n",
       "                          'clf__penalty': ['l2']}],\n",
       "             scoring='f1_weighted', verbose=1)"
      ]
     },
     "execution_count": 223,
     "metadata": {},
     "output_type": "execute_result"
    }
   ],
   "source": [
    "grid_search_lr.fit(X_train, y_train)"
   ]
  },
  {
   "cell_type": "code",
   "execution_count": 224,
   "metadata": {},
   "outputs": [
    {
     "name": "stdout",
     "output_type": "stream",
     "text": [
      "Best model: Pipeline(steps=[('preprocessing', StandardScaler()),\n",
      "                ('clf', LogisticRegression(C=0.00021544346900318823))])\n",
      "F1 score: 0.7859999289348094\n"
     ]
    }
   ],
   "source": [
    "# Evaluate the best model\n",
    "y_pred_lr = grid_search_lr.predict(X_test)\n",
    "f1_lr = f1_score(y_test.values, y_pred_lr, average=\"weighted\", labels=['Biased', 'Non-biased'])\n",
    "print(f\"Best model: {grid_search_lr.best_estimator_}\")\n",
    "print(f\"F1 score: {f1_lr}\")"
   ]
  },
  {
   "cell_type": "code",
   "execution_count": 225,
   "metadata": {},
   "outputs": [],
   "source": [
    "mean_test_scores_lr = grid_search_lr.cv_results_['mean_test_score']\n",
    "params_lr = grid_search_lr.cv_results_['params']\n"
   ]
  },
  {
   "cell_type": "code",
   "execution_count": 226,
   "metadata": {},
   "outputs": [
    {
     "name": "stdout",
     "output_type": "stream",
     "text": [
      "1e-05 0.7674638090120058\n",
      "1.6681005372000593e-05 0.7712024239353245\n",
      "2.782559402207126e-05 0.7779868347254455\n",
      "4.641588833612782e-05 0.7830800757762802\n",
      "7.742636826811278e-05 0.7884911848714405\n",
      "0.0001291549665014884 0.7925188493998757\n",
      "0.00021544346900318823 0.7962541814202512\n",
      "0.00035938136638046257 0.7952292086969466\n",
      "0.0005994842503189409 0.79423793259285\n",
      "0.001 0.7962426184479425\n"
     ]
    }
   ],
   "source": [
    "for param,score in zip(params_lr, mean_test_scores_lr):\n",
    "    print(param['clf__C'], score)"
   ]
  },
  {
   "cell_type": "markdown",
   "metadata": {},
   "source": [
    "With the second GridSearch we land on a model with C=0.0002 so that's the one we'll use in the pipeline. Of note here is that we haven't managed to improve on the published version with the headline-pre-trained embeddings, but we're not too far off, so using ADA embeddings seems like a good substitute when short on resources to pre-train your own embedding!"
   ]
  },
  {
   "cell_type": "markdown",
   "metadata": {},
   "source": [
    "## Political bias\n",
    "\n",
    "Now that we have a model that determines whether a sentence is biased or not, can we push it even further to evaluate whether the bias is left or right leaning in terms of politics based on the outlet bias it comes from?"
   ]
  },
  {
   "cell_type": "code",
   "execution_count": 229,
   "metadata": {},
   "outputs": [
    {
     "data": {
      "text/plain": [
       "array(['Fox News', 'Alternet', 'MSNBC', 'Breitbart', 'Federalist',\n",
       "       'Reuters', 'USA Today', 'Daily Beast', 'HuffPost', 'Daily Stormer',\n",
       "       'New York Times'], dtype=object)"
      ]
     },
     "execution_count": 229,
     "metadata": {},
     "output_type": "execute_result"
    }
   ],
   "source": [
    "df['outlet'].unique()"
   ]
  },
  {
   "cell_type": "code",
   "execution_count": 238,
   "metadata": {},
   "outputs": [],
   "source": [
    "media_bias_map = {\n",
    "'HuffPost': 'left',\n",
    "'Federalist': 'right',\n",
    "'Daily Beast': 'left',\n",
    "'Alternet': 'left',\n",
    "'Breitbart': 'right',\n",
    "'New Yorker': 'left',\n",
    "'American Greatness': 'right', # from https://mediabiasfactcheck.com/american-greatness/\n",
    "'Daily Caller': 'right',\n",
    "'Daily Wire': 'right',\n",
    "'Slate': 'left',\n",
    "'Reuters': 'center',\n",
    "'Hill': 'center', # from https://mediabiasfactcheck.com/the-hill/\n",
    "'USA Today': 'left',\n",
    "'CNBC': 'left',\n",
    "'Yahoo News - Latest News & Headlines': 'left',\n",
    "'AP': 'left',\n",
    "'Bloomberg': 'left',\n",
    "'Fox News': 'right',\n",
    "'MSNBC': 'left',\n",
    "'Daily Stormer': 'right', # from https://mediabiasfactcheck.com/the-hill/\n",
    "'New York Times': 'left'\n",
    "}"
   ]
  },
  {
   "cell_type": "code",
   "execution_count": 239,
   "metadata": {},
   "outputs": [],
   "source": [
    "df['outlet_bias'] = df['outlet'].map(media_bias_map)"
   ]
  },
  {
   "cell_type": "code",
   "execution_count": 241,
   "metadata": {},
   "outputs": [
    {
     "data": {
      "text/plain": [
       "outlet_bias\n",
       "right     1508\n",
       "left      1405\n",
       "center     761\n",
       "Name: count, dtype: int64"
      ]
     },
     "execution_count": 241,
     "metadata": {},
     "output_type": "execute_result"
    }
   ],
   "source": [
    "df['outlet_bias'].value_counts()"
   ]
  },
  {
   "cell_type": "markdown",
   "metadata": {},
   "source": [
    "Let's try a similar comparison of standalone vs sequential classification approaches. In the sequential classification, we'll first use the bias classifier to determine if a post is biased, and then use a political bias classifier trained only on the left and right posts to determine its political bias."
   ]
  },
  {
   "cell_type": "code",
   "execution_count": 256,
   "metadata": {},
   "outputs": [],
   "source": [
    "class SequentialClassifier(BaseEstimator, ClassifierMixin):\n",
    "\n",
    "    def __init__(self, clf_bias, \n",
    "                 clf_politics, \n",
    "                ):\n",
    "        '''\n",
    "        Initialized a sequential classifier with different models for classifying the overall bias and political bias.\n",
    "\n",
    "        Parameters\n",
    "        ----------\n",
    "        clf_bias: sklearn.Classifier instance\n",
    "            The classifier model to use for bias.\n",
    "        clf_politics: sklearn.Classifier instance\n",
    "            The classifier model to use for political bias.\n",
    "        '''\n",
    "        # Initialize each classifier with their provided kwargs\n",
    "        self.clf_bias = clf_bias\n",
    "        self.clf_politics = clf_politics\n",
    "\n",
    "    def fit(self, X, Y):\n",
    "        '''Fits the data by first training a bias classifier and separate politics bias classifier on biased sentences only'''\n",
    "\n",
    "        Y_bias = Y['label_bias']\n",
    "        self.clf_bias.fit(X, Y_bias)\n",
    "\n",
    "        politics_mask = Y['outlet_bias'] != 'center'\n",
    "        self.clf_politics.fit(X[politics_mask], Y[politics_mask]['outlet_bias'])\n",
    "        \n",
    "        return self\n",
    "    \n",
    "    def predict(self, X):\n",
    "        '''Predicts the overall and political bias.'''\n",
    "        \n",
    "        y_predict = pd.DataFrame(np.zeros((X.shape[0], 2)), dtype='string',\n",
    "                                 columns= ['label_bias', 'outlet_bias'])\n",
    "        \n",
    "        y_predict['label_bias'] = self.clf_bias.predict(X)\n",
    "        biased_mask = y_predict['label_bias'] == 'Biased'\n",
    "        y_politics = self.clf_politics.predict(X[biased_mask])\n",
    "        y_predict.loc[biased_mask, 'outlet_bias'] = y_politics\n",
    "        y_predict[y_predict['outlet_bias']=='0.0'] = 'center'\n",
    "                    \n",
    "        return y_predict.values"
   ]
  },
  {
   "cell_type": "code",
   "execution_count": 302,
   "metadata": {},
   "outputs": [],
   "source": [
    "sequential_clf = SequentialClassifier(clf_bias = LogisticRegression(C=0.0002, penalty='l2', max_iter=1000),\n",
    "                                      clf_politics = LogisticRegression(C=10, penalty='l2', max_iter=1000)\n",
    "                                        )"
   ]
  },
  {
   "cell_type": "code",
   "execution_count": 303,
   "metadata": {},
   "outputs": [
    {
     "data": {
      "text/html": [
       "<style>#sk-container-id-18 {color: black;background-color: white;}#sk-container-id-18 pre{padding: 0;}#sk-container-id-18 div.sk-toggleable {background-color: white;}#sk-container-id-18 label.sk-toggleable__label {cursor: pointer;display: block;width: 100%;margin-bottom: 0;padding: 0.3em;box-sizing: border-box;text-align: center;}#sk-container-id-18 label.sk-toggleable__label-arrow:before {content: \"▸\";float: left;margin-right: 0.25em;color: #696969;}#sk-container-id-18 label.sk-toggleable__label-arrow:hover:before {color: black;}#sk-container-id-18 div.sk-estimator:hover label.sk-toggleable__label-arrow:before {color: black;}#sk-container-id-18 div.sk-toggleable__content {max-height: 0;max-width: 0;overflow: hidden;text-align: left;background-color: #f0f8ff;}#sk-container-id-18 div.sk-toggleable__content pre {margin: 0.2em;color: black;border-radius: 0.25em;background-color: #f0f8ff;}#sk-container-id-18 input.sk-toggleable__control:checked~div.sk-toggleable__content {max-height: 200px;max-width: 100%;overflow: auto;}#sk-container-id-18 input.sk-toggleable__control:checked~label.sk-toggleable__label-arrow:before {content: \"▾\";}#sk-container-id-18 div.sk-estimator input.sk-toggleable__control:checked~label.sk-toggleable__label {background-color: #d4ebff;}#sk-container-id-18 div.sk-label input.sk-toggleable__control:checked~label.sk-toggleable__label {background-color: #d4ebff;}#sk-container-id-18 input.sk-hidden--visually {border: 0;clip: rect(1px 1px 1px 1px);clip: rect(1px, 1px, 1px, 1px);height: 1px;margin: -1px;overflow: hidden;padding: 0;position: absolute;width: 1px;}#sk-container-id-18 div.sk-estimator {font-family: monospace;background-color: #f0f8ff;border: 1px dotted black;border-radius: 0.25em;box-sizing: border-box;margin-bottom: 0.5em;}#sk-container-id-18 div.sk-estimator:hover {background-color: #d4ebff;}#sk-container-id-18 div.sk-parallel-item::after {content: \"\";width: 100%;border-bottom: 1px solid gray;flex-grow: 1;}#sk-container-id-18 div.sk-label:hover label.sk-toggleable__label {background-color: #d4ebff;}#sk-container-id-18 div.sk-serial::before {content: \"\";position: absolute;border-left: 1px solid gray;box-sizing: border-box;top: 0;bottom: 0;left: 50%;z-index: 0;}#sk-container-id-18 div.sk-serial {display: flex;flex-direction: column;align-items: center;background-color: white;padding-right: 0.2em;padding-left: 0.2em;position: relative;}#sk-container-id-18 div.sk-item {position: relative;z-index: 1;}#sk-container-id-18 div.sk-parallel {display: flex;align-items: stretch;justify-content: center;background-color: white;position: relative;}#sk-container-id-18 div.sk-item::before, #sk-container-id-18 div.sk-parallel-item::before {content: \"\";position: absolute;border-left: 1px solid gray;box-sizing: border-box;top: 0;bottom: 0;left: 50%;z-index: -1;}#sk-container-id-18 div.sk-parallel-item {display: flex;flex-direction: column;z-index: 1;position: relative;background-color: white;}#sk-container-id-18 div.sk-parallel-item:first-child::after {align-self: flex-end;width: 50%;}#sk-container-id-18 div.sk-parallel-item:last-child::after {align-self: flex-start;width: 50%;}#sk-container-id-18 div.sk-parallel-item:only-child::after {width: 0;}#sk-container-id-18 div.sk-dashed-wrapped {border: 1px dashed gray;margin: 0 0.4em 0.5em 0.4em;box-sizing: border-box;padding-bottom: 0.4em;background-color: white;}#sk-container-id-18 div.sk-label label {font-family: monospace;font-weight: bold;display: inline-block;line-height: 1.2em;}#sk-container-id-18 div.sk-label-container {text-align: center;}#sk-container-id-18 div.sk-container {/* jupyter's `normalize.less` sets `[hidden] { display: none; }` but bootstrap.min.css set `[hidden] { display: none !important; }` so we also need the `!important` here to be able to override the default hidden behavior on the sphinx rendered scikit-learn.org. See: https://github.com/scikit-learn/scikit-learn/issues/21755 */display: inline-block !important;position: relative;}#sk-container-id-18 div.sk-text-repr-fallback {display: none;}</style><div id=\"sk-container-id-18\" class=\"sk-top-container\"><div class=\"sk-text-repr-fallback\"><pre>SequentialClassifier(clf_bias=LogisticRegression(C=0.0002, max_iter=1000),\n",
       "                     clf_politics=LogisticRegression(C=10, max_iter=1000))</pre><b>In a Jupyter environment, please rerun this cell to show the HTML representation or trust the notebook. <br />On GitHub, the HTML representation is unable to render, please try loading this page with nbviewer.org.</b></div><div class=\"sk-container\" hidden><div class=\"sk-item sk-dashed-wrapped\"><div class=\"sk-label-container\"><div class=\"sk-label sk-toggleable\"><input class=\"sk-toggleable__control sk-hidden--visually\" id=\"sk-estimator-id-80\" type=\"checkbox\" ><label for=\"sk-estimator-id-80\" class=\"sk-toggleable__label sk-toggleable__label-arrow\">SequentialClassifier</label><div class=\"sk-toggleable__content\"><pre>SequentialClassifier(clf_bias=LogisticRegression(C=0.0002, max_iter=1000),\n",
       "                     clf_politics=LogisticRegression(C=10, max_iter=1000))</pre></div></div></div><div class=\"sk-parallel\"><div class=\"sk-parallel-item\"><div class=\"sk-item\"><div class=\"sk-label-container\"><div class=\"sk-label sk-toggleable\"><input class=\"sk-toggleable__control sk-hidden--visually\" id=\"sk-estimator-id-81\" type=\"checkbox\" ><label for=\"sk-estimator-id-81\" class=\"sk-toggleable__label sk-toggleable__label-arrow\">clf_bias: LogisticRegression</label><div class=\"sk-toggleable__content\"><pre>LogisticRegression(C=0.0002, max_iter=1000)</pre></div></div></div><div class=\"sk-serial\"><div class=\"sk-item\"><div class=\"sk-estimator sk-toggleable\"><input class=\"sk-toggleable__control sk-hidden--visually\" id=\"sk-estimator-id-82\" type=\"checkbox\" ><label for=\"sk-estimator-id-82\" class=\"sk-toggleable__label sk-toggleable__label-arrow\">LogisticRegression</label><div class=\"sk-toggleable__content\"><pre>LogisticRegression(C=0.0002, max_iter=1000)</pre></div></div></div></div></div></div><div class=\"sk-parallel-item\"><div class=\"sk-item\"><div class=\"sk-label-container\"><div class=\"sk-label sk-toggleable\"><input class=\"sk-toggleable__control sk-hidden--visually\" id=\"sk-estimator-id-83\" type=\"checkbox\" ><label for=\"sk-estimator-id-83\" class=\"sk-toggleable__label sk-toggleable__label-arrow\">clf_politics: LogisticRegression</label><div class=\"sk-toggleable__content\"><pre>LogisticRegression(C=10, max_iter=1000)</pre></div></div></div><div class=\"sk-serial\"><div class=\"sk-item\"><div class=\"sk-estimator sk-toggleable\"><input class=\"sk-toggleable__control sk-hidden--visually\" id=\"sk-estimator-id-84\" type=\"checkbox\" ><label for=\"sk-estimator-id-84\" class=\"sk-toggleable__label sk-toggleable__label-arrow\">LogisticRegression</label><div class=\"sk-toggleable__content\"><pre>LogisticRegression(C=10, max_iter=1000)</pre></div></div></div></div></div></div></div></div></div></div>"
      ],
      "text/plain": [
       "SequentialClassifier(clf_bias=LogisticRegression(C=0.0002, max_iter=1000),\n",
       "                     clf_politics=LogisticRegression(C=10, max_iter=1000))"
      ]
     },
     "execution_count": 303,
     "metadata": {},
     "output_type": "execute_result"
    }
   ],
   "source": [
    "X_train, X_test, y_train, y_test = train_test_split(list(df.embedding.values), df[['label_bias', 'outlet_bias']], test_size=0.3, random_state=42)\n",
    "sequential_clf.fit(np.vstack(X_train),y_train)"
   ]
  },
  {
   "cell_type": "code",
   "execution_count": 304,
   "metadata": {},
   "outputs": [],
   "source": [
    "y_pred = sequential_clf.predict(np.vstack(X_test))"
   ]
  },
  {
   "cell_type": "code",
   "execution_count": 305,
   "metadata": {},
   "outputs": [
    {
     "name": "stdout",
     "output_type": "stream",
     "text": [
      "Sequential classification report\n",
      "              precision    recall  f1-score   support\n",
      "\n",
      "      center       0.45      0.57      0.51       234\n",
      "        left       0.66      0.63      0.64       426\n",
      "       right       0.71      0.64      0.67       443\n",
      "\n",
      "    accuracy                           0.62      1103\n",
      "   macro avg       0.61      0.61      0.61      1103\n",
      "weighted avg       0.64      0.62      0.63      1103\n",
      "\n"
     ]
    }
   ],
   "source": [
    "report = classification_report(y_test.values[:,1], y_pred[:,1])\n",
    "print('Sequential classification report')\n",
    "print(report)"
   ]
  },
  {
   "cell_type": "code",
   "execution_count": 306,
   "metadata": {},
   "outputs": [
    {
     "name": "stdout",
     "output_type": "stream",
     "text": [
      "LR classification report\n",
      "              precision    recall  f1-score   support\n",
      "\n",
      "      center       0.71      0.67      0.69       234\n",
      "        left       0.69      0.69      0.69       426\n",
      "       right       0.71      0.74      0.72       443\n",
      "\n",
      "    accuracy                           0.70      1103\n",
      "   macro avg       0.70      0.70      0.70      1103\n",
      "weighted avg       0.70      0.70      0.70      1103\n",
      "\n"
     ]
    }
   ],
   "source": [
    "clf = LogisticRegression(C=20, penalty='l2', max_iter=1000)\n",
    "clf.fit(X_train, y_train['outlet_bias'])\n",
    "preds = clf.predict(X_test)\n",
    "probas = clf.predict_proba(X_test)\n",
    "\n",
    "report = classification_report(y_test['outlet_bias'].values, preds)\n",
    "print('LR classification report')\n",
    "print(report)"
   ]
  },
  {
   "cell_type": "markdown",
   "metadata": {},
   "source": [
    "In this case it also seems that a standalone classifier is better than the sequential one, so let's do a grid search to determine which one to pick."
   ]
  },
  {
   "cell_type": "code",
   "execution_count": 311,
   "metadata": {},
   "outputs": [],
   "source": [
    "pipeline_steps = [\n",
    "    {\n",
    "        'clf': [LogisticRegression()],\n",
    "        'clf__penalty': ['l2'],\n",
    "        'clf__C': np.logspace(-2, 2, 6),\n",
    "        'clf__max_iter': [1000]\n",
    "    }, \n",
    "\n",
    "    {\n",
    "        'clf': [RandomForestClassifier()],\n",
    "        'clf__n_estimators': [100, 200, 500],\n",
    "        'clf__max_depth': [None, 10, 20, 30],\n",
    "    }, \n",
    "    {\n",
    "        'clf': [MLPClassifier()],\n",
    "        'clf__hidden_layer_sizes': [(32, 32), (64, 64), (128, 128)],\n",
    "        'clf__activation': ['relu', 'tanh'],\n",
    "        'clf__learning_rate': ['constant', 'invscaling', 'adaptive'],\n",
    "        'clf__max_iter': [200, 300, 400],\n",
    "    }\n",
    "]"
   ]
  },
  {
   "cell_type": "code",
   "execution_count": 312,
   "metadata": {},
   "outputs": [],
   "source": [
    "pipe = Pipeline([\n",
    "    ('preprocessing', StandardScaler()), \n",
    "    ('clf', None)  # Will be filled in by GridSearchCV\n",
    "])\n",
    "\n",
    "grid_search = GridSearchCV(estimator=pipe, param_grid=pipeline_steps, scoring='f1_weighted', n_jobs=-1, cv=5, verbose=2)"
   ]
  },
  {
   "cell_type": "code",
   "execution_count": 313,
   "metadata": {},
   "outputs": [],
   "source": [
    "X_train, X_test, y_train, y_test = train_test_split(\n",
    "    list(df.embedding.values), df.outlet_bias, test_size=0.2, random_state=42\n",
    ")"
   ]
  },
  {
   "cell_type": "code",
   "execution_count": 314,
   "metadata": {},
   "outputs": [
    {
     "name": "stdout",
     "output_type": "stream",
     "text": [
      "Fitting 5 folds for each of 72 candidates, totalling 360 fits\n",
      "[CV] END clf=LogisticRegression(), clf__C=0.01, clf__max_iter=1000, clf__penalty=l2; total time=   1.2s\n",
      "[CV] END clf=LogisticRegression(), clf__C=0.01, clf__max_iter=1000, clf__penalty=l2; total time=   1.2s\n",
      "[CV] END clf=LogisticRegression(), clf__C=0.01, clf__max_iter=1000, clf__penalty=l2; total time=   1.3s\n",
      "[CV] END clf=LogisticRegression(), clf__C=0.01, clf__max_iter=1000, clf__penalty=l2; total time=   1.3s\n",
      "[CV] END clf=LogisticRegression(), clf__C=0.01, clf__max_iter=1000, clf__penalty=l2; total time=   1.4s\n",
      "[CV] END clf=LogisticRegression(), clf__C=0.06309573444801933, clf__max_iter=1000, clf__penalty=l2; total time=   2.3s\n",
      "[CV] END clf=LogisticRegression(), clf__C=0.06309573444801933, clf__max_iter=1000, clf__penalty=l2; total time=   2.3s\n",
      "[CV] END clf=LogisticRegression(), clf__C=0.06309573444801933, clf__max_iter=1000, clf__penalty=l2; total time=   2.4s\n",
      "[CV] END clf=LogisticRegression(), clf__C=0.06309573444801933, clf__max_iter=1000, clf__penalty=l2; total time=   2.5s\n",
      "[CV] END clf=LogisticRegression(), clf__C=0.06309573444801933, clf__max_iter=1000, clf__penalty=l2; total time=   2.6s\n",
      "[CV] END clf=LogisticRegression(), clf__C=0.3981071705534973, clf__max_iter=1000, clf__penalty=l2; total time=   3.3s\n",
      "[CV] END clf=LogisticRegression(), clf__C=0.3981071705534973, clf__max_iter=1000, clf__penalty=l2; total time=   3.7s\n",
      "[CV] END clf=LogisticRegression(), clf__C=0.3981071705534973, clf__max_iter=1000, clf__penalty=l2; total time=   3.5s\n",
      "[CV] END clf=LogisticRegression(), clf__C=0.3981071705534973, clf__max_iter=1000, clf__penalty=l2; total time=   3.7s\n",
      "[CV] END clf=LogisticRegression(), clf__C=0.3981071705534973, clf__max_iter=1000, clf__penalty=l2; total time=   3.7s\n",
      "[CV] END clf=LogisticRegression(), clf__C=2.5118864315095824, clf__max_iter=1000, clf__penalty=l2; total time=   4.4s\n",
      "[CV] END clf=LogisticRegression(), clf__C=2.5118864315095824, clf__max_iter=1000, clf__penalty=l2; total time=   4.4s\n",
      "[CV] END clf=LogisticRegression(), clf__C=2.5118864315095824, clf__max_iter=1000, clf__penalty=l2; total time=   4.7s\n",
      "[CV] END clf=LogisticRegression(), clf__C=2.5118864315095824, clf__max_iter=1000, clf__penalty=l2; total time=   4.5s\n",
      "[CV] END clf=LogisticRegression(), clf__C=2.5118864315095824, clf__max_iter=1000, clf__penalty=l2; total time=   4.6s\n",
      "[CV] END clf=LogisticRegression(), clf__C=15.848931924611142, clf__max_iter=1000, clf__penalty=l2; total time=   4.9s\n",
      "[CV] END clf=LogisticRegression(), clf__C=15.848931924611142, clf__max_iter=1000, clf__penalty=l2; total time=   4.4s\n",
      "[CV] END clf=LogisticRegression(), clf__C=15.848931924611142, clf__max_iter=1000, clf__penalty=l2; total time=   4.7s\n",
      "[CV] END clf=LogisticRegression(), clf__C=15.848931924611142, clf__max_iter=1000, clf__penalty=l2; total time=   4.8s\n",
      "[CV] END clf=LogisticRegression(), clf__C=15.848931924611142, clf__max_iter=1000, clf__penalty=l2; total time=   4.8s\n",
      "[CV] END clf=LogisticRegression(), clf__C=100.0, clf__max_iter=1000, clf__penalty=l2; total time=   4.4s\n",
      "[CV] END clf=LogisticRegression(), clf__C=100.0, clf__max_iter=1000, clf__penalty=l2; total time=   3.7s\n",
      "[CV] END clf=LogisticRegression(), clf__C=100.0, clf__max_iter=1000, clf__penalty=l2; total time=   4.2s\n",
      "[CV] END clf=LogisticRegression(), clf__C=100.0, clf__max_iter=1000, clf__penalty=l2; total time=   3.7s\n",
      "[CV] END clf=LogisticRegression(), clf__C=100.0, clf__max_iter=1000, clf__penalty=l2; total time=   4.9s\n",
      "[CV] END clf=RandomForestClassifier(), clf__max_depth=None, clf__n_estimators=100; total time=   6.0s\n",
      "[CV] END clf=RandomForestClassifier(), clf__max_depth=None, clf__n_estimators=100; total time=   6.4s\n",
      "[CV] END clf=RandomForestClassifier(), clf__max_depth=None, clf__n_estimators=100; total time=   6.1s\n",
      "[CV] END clf=RandomForestClassifier(), clf__max_depth=None, clf__n_estimators=100; total time=   6.1s\n",
      "[CV] END clf=RandomForestClassifier(), clf__max_depth=None, clf__n_estimators=100; total time=   6.1s\n",
      "[CV] END clf=RandomForestClassifier(), clf__max_depth=None, clf__n_estimators=200; total time=  12.4s\n",
      "[CV] END clf=RandomForestClassifier(), clf__max_depth=None, clf__n_estimators=200; total time=  12.2s\n",
      "[CV] END clf=RandomForestClassifier(), clf__max_depth=None, clf__n_estimators=200; total time=  12.5s\n",
      "[CV] END clf=RandomForestClassifier(), clf__max_depth=None, clf__n_estimators=200; total time=  12.3s\n",
      "[CV] END clf=RandomForestClassifier(), clf__max_depth=None, clf__n_estimators=200; total time=  12.3s\n",
      "[CV] END clf=RandomForestClassifier(), clf__max_depth=10, clf__n_estimators=100; total time=   5.7s\n",
      "[CV] END clf=RandomForestClassifier(), clf__max_depth=10, clf__n_estimators=100; total time=   5.7s\n",
      "[CV] END clf=RandomForestClassifier(), clf__max_depth=10, clf__n_estimators=100; total time=   5.6s\n",
      "[CV] END clf=RandomForestClassifier(), clf__max_depth=10, clf__n_estimators=100; total time=   5.6s\n",
      "[CV] END clf=RandomForestClassifier(), clf__max_depth=10, clf__n_estimators=100; total time=   5.6s\n",
      "[CV] END clf=RandomForestClassifier(), clf__max_depth=10, clf__n_estimators=200; total time=   9.9s\n",
      "[CV] END clf=RandomForestClassifier(), clf__max_depth=10, clf__n_estimators=200; total time=   9.9s\n",
      "[CV] END clf=RandomForestClassifier(), clf__max_depth=10, clf__n_estimators=200; total time=   9.9s\n",
      "[CV] END clf=RandomForestClassifier(), clf__max_depth=10, clf__n_estimators=200; total time=   9.8s\n",
      "[CV] END clf=RandomForestClassifier(), clf__max_depth=10, clf__n_estimators=200; total time=   9.9s\n",
      "[CV] END clf=RandomForestClassifier(), clf__max_depth=None, clf__n_estimators=500; total time=  29.7s\n",
      "[CV] END clf=RandomForestClassifier(), clf__max_depth=None, clf__n_estimators=500; total time=  30.3s\n",
      "[CV] END clf=RandomForestClassifier(), clf__max_depth=None, clf__n_estimators=500; total time=  30.1s\n",
      "[CV] END clf=RandomForestClassifier(), clf__max_depth=None, clf__n_estimators=500; total time=  30.0s\n",
      "[CV] END clf=RandomForestClassifier(), clf__max_depth=None, clf__n_estimators=500; total time=  30.4s\n",
      "[CV] END clf=RandomForestClassifier(), clf__max_depth=20, clf__n_estimators=100; total time=   5.9s\n",
      "[CV] END clf=RandomForestClassifier(), clf__max_depth=20, clf__n_estimators=100; total time=   5.8s\n",
      "[CV] END clf=RandomForestClassifier(), clf__max_depth=20, clf__n_estimators=100; total time=   5.9s\n",
      "[CV] END clf=RandomForestClassifier(), clf__max_depth=20, clf__n_estimators=100; total time=   6.0s\n",
      "[CV] END clf=RandomForestClassifier(), clf__max_depth=20, clf__n_estimators=100; total time=   6.2s\n",
      "[CV] END clf=RandomForestClassifier(), clf__max_depth=20, clf__n_estimators=200; total time=  11.5s\n",
      "[CV] END clf=RandomForestClassifier(), clf__max_depth=20, clf__n_estimators=200; total time=  11.4s\n",
      "[CV] END clf=RandomForestClassifier(), clf__max_depth=20, clf__n_estimators=200; total time=  11.4s\n",
      "[CV] END clf=RandomForestClassifier(), clf__max_depth=20, clf__n_estimators=200; total time=  11.2s\n",
      "[CV] END clf=RandomForestClassifier(), clf__max_depth=10, clf__n_estimators=500; total time=  24.6s\n",
      "[CV] END clf=RandomForestClassifier(), clf__max_depth=20, clf__n_estimators=200; total time=  11.3s\n",
      "[CV] END clf=RandomForestClassifier(), clf__max_depth=10, clf__n_estimators=500; total time=  24.7s\n",
      "[CV] END clf=RandomForestClassifier(), clf__max_depth=10, clf__n_estimators=500; total time=  24.6s\n",
      "[CV] END clf=RandomForestClassifier(), clf__max_depth=10, clf__n_estimators=500; total time=  24.5s\n",
      "[CV] END clf=RandomForestClassifier(), clf__max_depth=10, clf__n_estimators=500; total time=  24.8s\n",
      "[CV] END clf=RandomForestClassifier(), clf__max_depth=30, clf__n_estimators=100; total time=   6.5s\n",
      "[CV] END clf=RandomForestClassifier(), clf__max_depth=30, clf__n_estimators=100; total time=   6.5s\n",
      "[CV] END clf=RandomForestClassifier(), clf__max_depth=30, clf__n_estimators=100; total time=   6.6s\n",
      "[CV] END clf=RandomForestClassifier(), clf__max_depth=30, clf__n_estimators=100; total time=   6.5s\n",
      "[CV] END clf=RandomForestClassifier(), clf__max_depth=30, clf__n_estimators=100; total time=   6.7s\n",
      "[CV] END clf=RandomForestClassifier(), clf__max_depth=30, clf__n_estimators=200; total time=  11.5s\n",
      "[CV] END clf=RandomForestClassifier(), clf__max_depth=30, clf__n_estimators=200; total time=  11.6s\n",
      "[CV] END clf=RandomForestClassifier(), clf__max_depth=30, clf__n_estimators=200; total time=  11.4s\n",
      "[CV] END clf=RandomForestClassifier(), clf__max_depth=30, clf__n_estimators=200; total time=  11.5s\n",
      "[CV] END clf=RandomForestClassifier(), clf__max_depth=30, clf__n_estimators=200; total time=  11.2s\n",
      "[CV] END clf=RandomForestClassifier(), clf__max_depth=20, clf__n_estimators=500; total time=  28.3s\n",
      "[CV] END clf=RandomForestClassifier(), clf__max_depth=20, clf__n_estimators=500; total time=  28.8s\n",
      "[CV] END clf=RandomForestClassifier(), clf__max_depth=20, clf__n_estimators=500; total time=  28.6s\n",
      "[CV] END clf=RandomForestClassifier(), clf__max_depth=20, clf__n_estimators=500; total time=  28.8s\n",
      "[CV] END clf=RandomForestClassifier(), clf__max_depth=20, clf__n_estimators=500; total time=  28.6s\n",
      "[CV] END clf=MLPClassifier(), clf__activation=relu, clf__hidden_layer_sizes=(32, 32), clf__learning_rate=constant, clf__max_iter=200; total time=   2.4s\n",
      "[CV] END clf=MLPClassifier(), clf__activation=relu, clf__hidden_layer_sizes=(32, 32), clf__learning_rate=constant, clf__max_iter=200; total time=   2.1s\n",
      "[CV] END clf=MLPClassifier(), clf__activation=relu, clf__hidden_layer_sizes=(32, 32), clf__learning_rate=constant, clf__max_iter=200; total time=   2.3s\n",
      "[CV] END clf=MLPClassifier(), clf__activation=relu, clf__hidden_layer_sizes=(32, 32), clf__learning_rate=constant, clf__max_iter=200; total time=   2.3s\n",
      "[CV] END clf=MLPClassifier(), clf__activation=relu, clf__hidden_layer_sizes=(32, 32), clf__learning_rate=constant, clf__max_iter=200; total time=   2.4s\n",
      "[CV] END clf=MLPClassifier(), clf__activation=relu, clf__hidden_layer_sizes=(32, 32), clf__learning_rate=constant, clf__max_iter=300; total time=   2.4s\n",
      "[CV] END clf=MLPClassifier(), clf__activation=relu, clf__hidden_layer_sizes=(32, 32), clf__learning_rate=constant, clf__max_iter=300; total time=   2.3s\n",
      "[CV] END clf=MLPClassifier(), clf__activation=relu, clf__hidden_layer_sizes=(32, 32), clf__learning_rate=constant, clf__max_iter=300; total time=   2.2s\n",
      "[CV] END clf=MLPClassifier(), clf__activation=relu, clf__hidden_layer_sizes=(32, 32), clf__learning_rate=constant, clf__max_iter=300; total time=   2.2s\n",
      "[CV] END clf=MLPClassifier(), clf__activation=relu, clf__hidden_layer_sizes=(32, 32), clf__learning_rate=constant, clf__max_iter=300; total time=   2.2s\n",
      "[CV] END clf=MLPClassifier(), clf__activation=relu, clf__hidden_layer_sizes=(32, 32), clf__learning_rate=constant, clf__max_iter=400; total time=   2.2s\n",
      "[CV] END clf=MLPClassifier(), clf__activation=relu, clf__hidden_layer_sizes=(32, 32), clf__learning_rate=constant, clf__max_iter=400; total time=   2.3s\n",
      "[CV] END clf=MLPClassifier(), clf__activation=relu, clf__hidden_layer_sizes=(32, 32), clf__learning_rate=constant, clf__max_iter=400; total time=   2.3s\n",
      "[CV] END clf=MLPClassifier(), clf__activation=relu, clf__hidden_layer_sizes=(32, 32), clf__learning_rate=constant, clf__max_iter=400; total time=   2.4s\n",
      "[CV] END clf=MLPClassifier(), clf__activation=relu, clf__hidden_layer_sizes=(32, 32), clf__learning_rate=constant, clf__max_iter=400; total time=   2.4s\n",
      "[CV] END clf=MLPClassifier(), clf__activation=relu, clf__hidden_layer_sizes=(32, 32), clf__learning_rate=invscaling, clf__max_iter=200; total time=   2.3s\n",
      "[CV] END clf=MLPClassifier(), clf__activation=relu, clf__hidden_layer_sizes=(32, 32), clf__learning_rate=invscaling, clf__max_iter=200; total time=   2.4s\n",
      "[CV] END clf=MLPClassifier(), clf__activation=relu, clf__hidden_layer_sizes=(32, 32), clf__learning_rate=invscaling, clf__max_iter=200; total time=   2.3s\n",
      "[CV] END clf=MLPClassifier(), clf__activation=relu, clf__hidden_layer_sizes=(32, 32), clf__learning_rate=invscaling, clf__max_iter=200; total time=   2.4s\n",
      "[CV] END clf=MLPClassifier(), clf__activation=relu, clf__hidden_layer_sizes=(32, 32), clf__learning_rate=invscaling, clf__max_iter=200; total time=   2.4s\n",
      "[CV] END clf=MLPClassifier(), clf__activation=relu, clf__hidden_layer_sizes=(32, 32), clf__learning_rate=invscaling, clf__max_iter=300; total time=   2.3s\n",
      "[CV] END clf=MLPClassifier(), clf__activation=relu, clf__hidden_layer_sizes=(32, 32), clf__learning_rate=invscaling, clf__max_iter=300; total time=   2.2s\n",
      "[CV] END clf=MLPClassifier(), clf__activation=relu, clf__hidden_layer_sizes=(32, 32), clf__learning_rate=invscaling, clf__max_iter=300; total time=   2.6s\n",
      "[CV] END clf=MLPClassifier(), clf__activation=relu, clf__hidden_layer_sizes=(32, 32), clf__learning_rate=invscaling, clf__max_iter=300; total time=   2.6s\n",
      "[CV] END clf=MLPClassifier(), clf__activation=relu, clf__hidden_layer_sizes=(32, 32), clf__learning_rate=invscaling, clf__max_iter=300; total time=   2.4s\n",
      "[CV] END clf=MLPClassifier(), clf__activation=relu, clf__hidden_layer_sizes=(32, 32), clf__learning_rate=invscaling, clf__max_iter=400; total time=   2.2s\n",
      "[CV] END clf=MLPClassifier(), clf__activation=relu, clf__hidden_layer_sizes=(32, 32), clf__learning_rate=invscaling, clf__max_iter=400; total time=   2.3s\n",
      "[CV] END clf=MLPClassifier(), clf__activation=relu, clf__hidden_layer_sizes=(32, 32), clf__learning_rate=invscaling, clf__max_iter=400; total time=   2.4s\n",
      "[CV] END clf=MLPClassifier(), clf__activation=relu, clf__hidden_layer_sizes=(32, 32), clf__learning_rate=invscaling, clf__max_iter=400; total time=   2.3s\n",
      "[CV] END clf=MLPClassifier(), clf__activation=relu, clf__hidden_layer_sizes=(32, 32), clf__learning_rate=invscaling, clf__max_iter=400; total time=   2.3s\n",
      "[CV] END clf=MLPClassifier(), clf__activation=relu, clf__hidden_layer_sizes=(32, 32), clf__learning_rate=adaptive, clf__max_iter=200; total time=   2.2s\n",
      "[CV] END clf=MLPClassifier(), clf__activation=relu, clf__hidden_layer_sizes=(32, 32), clf__learning_rate=adaptive, clf__max_iter=200; total time=   2.3s\n",
      "[CV] END clf=MLPClassifier(), clf__activation=relu, clf__hidden_layer_sizes=(32, 32), clf__learning_rate=adaptive, clf__max_iter=200; total time=   2.6s\n",
      "[CV] END clf=MLPClassifier(), clf__activation=relu, clf__hidden_layer_sizes=(32, 32), clf__learning_rate=adaptive, clf__max_iter=200; total time=   2.3s\n",
      "[CV] END clf=MLPClassifier(), clf__activation=relu, clf__hidden_layer_sizes=(32, 32), clf__learning_rate=adaptive, clf__max_iter=200; total time=   2.3s\n",
      "[CV] END clf=MLPClassifier(), clf__activation=relu, clf__hidden_layer_sizes=(32, 32), clf__learning_rate=adaptive, clf__max_iter=300; total time=   2.5s\n",
      "[CV] END clf=MLPClassifier(), clf__activation=relu, clf__hidden_layer_sizes=(32, 32), clf__learning_rate=adaptive, clf__max_iter=300; total time=   2.5s\n",
      "[CV] END clf=MLPClassifier(), clf__activation=relu, clf__hidden_layer_sizes=(32, 32), clf__learning_rate=adaptive, clf__max_iter=300; total time=   2.4s\n",
      "[CV] END clf=MLPClassifier(), clf__activation=relu, clf__hidden_layer_sizes=(32, 32), clf__learning_rate=adaptive, clf__max_iter=300; total time=   2.3s\n",
      "[CV] END clf=RandomForestClassifier(), clf__max_depth=30, clf__n_estimators=500; total time=  29.7s\n",
      "[CV] END clf=MLPClassifier(), clf__activation=relu, clf__hidden_layer_sizes=(32, 32), clf__learning_rate=adaptive, clf__max_iter=300; total time=   2.3s\n",
      "[CV] END clf=RandomForestClassifier(), clf__max_depth=30, clf__n_estimators=500; total time=  29.1s\n",
      "[CV] END clf=RandomForestClassifier(), clf__max_depth=30, clf__n_estimators=500; total time=  29.7s\n",
      "[CV] END clf=MLPClassifier(), clf__activation=relu, clf__hidden_layer_sizes=(32, 32), clf__learning_rate=adaptive, clf__max_iter=400; total time=   2.4s\n",
      "[CV] END clf=RandomForestClassifier(), clf__max_depth=30, clf__n_estimators=500; total time=  30.1s\n",
      "[CV] END clf=RandomForestClassifier(), clf__max_depth=30, clf__n_estimators=500; total time=  29.8s\n",
      "[CV] END clf=MLPClassifier(), clf__activation=relu, clf__hidden_layer_sizes=(32, 32), clf__learning_rate=adaptive, clf__max_iter=400; total time=   2.5s\n",
      "[CV] END clf=MLPClassifier(), clf__activation=relu, clf__hidden_layer_sizes=(32, 32), clf__learning_rate=adaptive, clf__max_iter=400; total time=   2.5s\n",
      "[CV] END clf=MLPClassifier(), clf__activation=relu, clf__hidden_layer_sizes=(32, 32), clf__learning_rate=adaptive, clf__max_iter=400; total time=   2.7s\n",
      "[CV] END clf=MLPClassifier(), clf__activation=relu, clf__hidden_layer_sizes=(32, 32), clf__learning_rate=adaptive, clf__max_iter=400; total time=   2.7s\n",
      "[CV] END clf=MLPClassifier(), clf__activation=relu, clf__hidden_layer_sizes=(64, 64), clf__learning_rate=constant, clf__max_iter=200; total time=   3.6s\n",
      "[CV] END clf=MLPClassifier(), clf__activation=relu, clf__hidden_layer_sizes=(64, 64), clf__learning_rate=constant, clf__max_iter=200; total time=   3.4s\n",
      "[CV] END clf=MLPClassifier(), clf__activation=relu, clf__hidden_layer_sizes=(64, 64), clf__learning_rate=constant, clf__max_iter=200; total time=   3.7s\n",
      "[CV] END clf=MLPClassifier(), clf__activation=relu, clf__hidden_layer_sizes=(64, 64), clf__learning_rate=constant, clf__max_iter=200; total time=   3.9s\n",
      "[CV] END clf=MLPClassifier(), clf__activation=relu, clf__hidden_layer_sizes=(64, 64), clf__learning_rate=constant, clf__max_iter=200; total time=   3.6s\n",
      "[CV] END clf=MLPClassifier(), clf__activation=relu, clf__hidden_layer_sizes=(64, 64), clf__learning_rate=constant, clf__max_iter=300; total time=   3.6s\n",
      "[CV] END clf=MLPClassifier(), clf__activation=relu, clf__hidden_layer_sizes=(64, 64), clf__learning_rate=constant, clf__max_iter=300; total time=   3.7s\n",
      "[CV] END clf=MLPClassifier(), clf__activation=relu, clf__hidden_layer_sizes=(64, 64), clf__learning_rate=constant, clf__max_iter=300; total time=   3.6s\n",
      "[CV] END clf=MLPClassifier(), clf__activation=relu, clf__hidden_layer_sizes=(64, 64), clf__learning_rate=constant, clf__max_iter=300; total time=   3.8s\n",
      "[CV] END clf=MLPClassifier(), clf__activation=relu, clf__hidden_layer_sizes=(64, 64), clf__learning_rate=constant, clf__max_iter=300; total time=   3.9s\n",
      "[CV] END clf=MLPClassifier(), clf__activation=relu, clf__hidden_layer_sizes=(64, 64), clf__learning_rate=constant, clf__max_iter=400; total time=   3.7s\n",
      "[CV] END clf=MLPClassifier(), clf__activation=relu, clf__hidden_layer_sizes=(64, 64), clf__learning_rate=constant, clf__max_iter=400; total time=   3.8s\n",
      "[CV] END clf=MLPClassifier(), clf__activation=relu, clf__hidden_layer_sizes=(64, 64), clf__learning_rate=constant, clf__max_iter=400; total time=   3.5s\n",
      "[CV] END clf=MLPClassifier(), clf__activation=relu, clf__hidden_layer_sizes=(64, 64), clf__learning_rate=constant, clf__max_iter=400; total time=   3.8s\n",
      "[CV] END clf=MLPClassifier(), clf__activation=relu, clf__hidden_layer_sizes=(64, 64), clf__learning_rate=constant, clf__max_iter=400; total time=   3.7s\n",
      "[CV] END clf=MLPClassifier(), clf__activation=relu, clf__hidden_layer_sizes=(64, 64), clf__learning_rate=invscaling, clf__max_iter=200; total time=   3.6s\n",
      "[CV] END clf=MLPClassifier(), clf__activation=relu, clf__hidden_layer_sizes=(64, 64), clf__learning_rate=invscaling, clf__max_iter=200; total time=   3.8s\n",
      "[CV] END clf=MLPClassifier(), clf__activation=relu, clf__hidden_layer_sizes=(64, 64), clf__learning_rate=invscaling, clf__max_iter=200; total time=   4.1s\n",
      "[CV] END clf=MLPClassifier(), clf__activation=relu, clf__hidden_layer_sizes=(64, 64), clf__learning_rate=invscaling, clf__max_iter=200; total time=   3.6s\n",
      "[CV] END clf=MLPClassifier(), clf__activation=relu, clf__hidden_layer_sizes=(64, 64), clf__learning_rate=invscaling, clf__max_iter=200; total time=   3.9s\n",
      "[CV] END clf=MLPClassifier(), clf__activation=relu, clf__hidden_layer_sizes=(64, 64), clf__learning_rate=invscaling, clf__max_iter=300; total time=   4.0s\n",
      "[CV] END clf=MLPClassifier(), clf__activation=relu, clf__hidden_layer_sizes=(64, 64), clf__learning_rate=invscaling, clf__max_iter=300; total time=   4.0s\n",
      "[CV] END clf=MLPClassifier(), clf__activation=relu, clf__hidden_layer_sizes=(64, 64), clf__learning_rate=invscaling, clf__max_iter=300; total time=   3.8s\n",
      "[CV] END clf=MLPClassifier(), clf__activation=relu, clf__hidden_layer_sizes=(64, 64), clf__learning_rate=invscaling, clf__max_iter=300; total time=   3.9s\n",
      "[CV] END clf=MLPClassifier(), clf__activation=relu, clf__hidden_layer_sizes=(64, 64), clf__learning_rate=invscaling, clf__max_iter=300; total time=   3.8s\n",
      "[CV] END clf=MLPClassifier(), clf__activation=relu, clf__hidden_layer_sizes=(64, 64), clf__learning_rate=invscaling, clf__max_iter=400; total time=   4.0s\n",
      "[CV] END clf=MLPClassifier(), clf__activation=relu, clf__hidden_layer_sizes=(64, 64), clf__learning_rate=invscaling, clf__max_iter=400; total time=   4.1s\n",
      "[CV] END clf=MLPClassifier(), clf__activation=relu, clf__hidden_layer_sizes=(64, 64), clf__learning_rate=invscaling, clf__max_iter=400; total time=   3.7s\n",
      "[CV] END clf=MLPClassifier(), clf__activation=relu, clf__hidden_layer_sizes=(64, 64), clf__learning_rate=invscaling, clf__max_iter=400; total time=   4.3s\n",
      "[CV] END clf=MLPClassifier(), clf__activation=relu, clf__hidden_layer_sizes=(64, 64), clf__learning_rate=invscaling, clf__max_iter=400; total time=   4.3s\n",
      "[CV] END clf=MLPClassifier(), clf__activation=relu, clf__hidden_layer_sizes=(64, 64), clf__learning_rate=adaptive, clf__max_iter=200; total time=   3.9s\n",
      "[CV] END clf=MLPClassifier(), clf__activation=relu, clf__hidden_layer_sizes=(64, 64), clf__learning_rate=adaptive, clf__max_iter=200; total time=   3.7s\n",
      "[CV] END clf=MLPClassifier(), clf__activation=relu, clf__hidden_layer_sizes=(64, 64), clf__learning_rate=adaptive, clf__max_iter=200; total time=   3.8s\n",
      "[CV] END clf=MLPClassifier(), clf__activation=relu, clf__hidden_layer_sizes=(64, 64), clf__learning_rate=adaptive, clf__max_iter=200; total time=   3.7s\n",
      "[CV] END clf=MLPClassifier(), clf__activation=relu, clf__hidden_layer_sizes=(64, 64), clf__learning_rate=adaptive, clf__max_iter=200; total time=   4.0s\n",
      "[CV] END clf=MLPClassifier(), clf__activation=relu, clf__hidden_layer_sizes=(64, 64), clf__learning_rate=adaptive, clf__max_iter=300; total time=   3.8s\n",
      "[CV] END clf=MLPClassifier(), clf__activation=relu, clf__hidden_layer_sizes=(64, 64), clf__learning_rate=adaptive, clf__max_iter=300; total time=   4.1s\n",
      "[CV] END clf=MLPClassifier(), clf__activation=relu, clf__hidden_layer_sizes=(64, 64), clf__learning_rate=adaptive, clf__max_iter=300; total time=   3.7s\n",
      "[CV] END clf=MLPClassifier(), clf__activation=relu, clf__hidden_layer_sizes=(64, 64), clf__learning_rate=adaptive, clf__max_iter=300; total time=   4.0s\n",
      "[CV] END clf=MLPClassifier(), clf__activation=relu, clf__hidden_layer_sizes=(64, 64), clf__learning_rate=adaptive, clf__max_iter=300; total time=   4.0s\n",
      "[CV] END clf=MLPClassifier(), clf__activation=relu, clf__hidden_layer_sizes=(64, 64), clf__learning_rate=adaptive, clf__max_iter=400; total time=   3.7s\n",
      "[CV] END clf=MLPClassifier(), clf__activation=relu, clf__hidden_layer_sizes=(64, 64), clf__learning_rate=adaptive, clf__max_iter=400; total time=   4.0s\n",
      "[CV] END clf=MLPClassifier(), clf__activation=relu, clf__hidden_layer_sizes=(64, 64), clf__learning_rate=adaptive, clf__max_iter=400; total time=   3.8s\n",
      "[CV] END clf=MLPClassifier(), clf__activation=relu, clf__hidden_layer_sizes=(64, 64), clf__learning_rate=adaptive, clf__max_iter=400; total time=   3.9s\n",
      "[CV] END clf=MLPClassifier(), clf__activation=relu, clf__hidden_layer_sizes=(64, 64), clf__learning_rate=adaptive, clf__max_iter=400; total time=   3.8s\n",
      "[CV] END clf=MLPClassifier(), clf__activation=relu, clf__hidden_layer_sizes=(128, 128), clf__learning_rate=constant, clf__max_iter=200; total time=   6.3s\n",
      "[CV] END clf=MLPClassifier(), clf__activation=relu, clf__hidden_layer_sizes=(128, 128), clf__learning_rate=constant, clf__max_iter=200; total time=   6.2s\n",
      "[CV] END clf=MLPClassifier(), clf__activation=relu, clf__hidden_layer_sizes=(128, 128), clf__learning_rate=constant, clf__max_iter=200; total time=   6.3s\n",
      "[CV] END clf=MLPClassifier(), clf__activation=relu, clf__hidden_layer_sizes=(128, 128), clf__learning_rate=constant, clf__max_iter=200; total time=   6.2s\n",
      "[CV] END clf=MLPClassifier(), clf__activation=relu, clf__hidden_layer_sizes=(128, 128), clf__learning_rate=constant, clf__max_iter=200; total time=   6.7s\n",
      "[CV] END clf=MLPClassifier(), clf__activation=relu, clf__hidden_layer_sizes=(128, 128), clf__learning_rate=constant, clf__max_iter=300; total time=   6.5s\n",
      "[CV] END clf=MLPClassifier(), clf__activation=relu, clf__hidden_layer_sizes=(128, 128), clf__learning_rate=constant, clf__max_iter=300; total time=   6.5s\n",
      "[CV] END clf=MLPClassifier(), clf__activation=relu, clf__hidden_layer_sizes=(128, 128), clf__learning_rate=constant, clf__max_iter=300; total time=   6.1s\n",
      "[CV] END clf=MLPClassifier(), clf__activation=relu, clf__hidden_layer_sizes=(128, 128), clf__learning_rate=constant, clf__max_iter=300; total time=   6.4s\n",
      "[CV] END clf=MLPClassifier(), clf__activation=relu, clf__hidden_layer_sizes=(128, 128), clf__learning_rate=constant, clf__max_iter=300; total time=   6.3s\n",
      "[CV] END clf=MLPClassifier(), clf__activation=relu, clf__hidden_layer_sizes=(128, 128), clf__learning_rate=constant, clf__max_iter=400; total time=   6.2s\n",
      "[CV] END clf=MLPClassifier(), clf__activation=relu, clf__hidden_layer_sizes=(128, 128), clf__learning_rate=constant, clf__max_iter=400; total time=   6.3s\n",
      "[CV] END clf=MLPClassifier(), clf__activation=relu, clf__hidden_layer_sizes=(128, 128), clf__learning_rate=constant, clf__max_iter=400; total time=   6.3s\n",
      "[CV] END clf=MLPClassifier(), clf__activation=relu, clf__hidden_layer_sizes=(128, 128), clf__learning_rate=constant, clf__max_iter=400; total time=   6.1s\n",
      "[CV] END clf=MLPClassifier(), clf__activation=relu, clf__hidden_layer_sizes=(128, 128), clf__learning_rate=constant, clf__max_iter=400; total time=   6.2s\n",
      "[CV] END clf=MLPClassifier(), clf__activation=relu, clf__hidden_layer_sizes=(128, 128), clf__learning_rate=invscaling, clf__max_iter=200; total time=   6.3s\n",
      "[CV] END clf=MLPClassifier(), clf__activation=relu, clf__hidden_layer_sizes=(128, 128), clf__learning_rate=invscaling, clf__max_iter=200; total time=   6.5s\n",
      "[CV] END clf=MLPClassifier(), clf__activation=relu, clf__hidden_layer_sizes=(128, 128), clf__learning_rate=invscaling, clf__max_iter=200; total time=   6.4s\n",
      "[CV] END clf=MLPClassifier(), clf__activation=relu, clf__hidden_layer_sizes=(128, 128), clf__learning_rate=invscaling, clf__max_iter=200; total time=   5.9s\n",
      "[CV] END clf=MLPClassifier(), clf__activation=relu, clf__hidden_layer_sizes=(128, 128), clf__learning_rate=invscaling, clf__max_iter=200; total time=   6.3s\n",
      "[CV] END clf=MLPClassifier(), clf__activation=relu, clf__hidden_layer_sizes=(128, 128), clf__learning_rate=invscaling, clf__max_iter=300; total time=   6.0s\n",
      "[CV] END clf=MLPClassifier(), clf__activation=relu, clf__hidden_layer_sizes=(128, 128), clf__learning_rate=invscaling, clf__max_iter=300; total time=   6.2s\n",
      "[CV] END clf=MLPClassifier(), clf__activation=relu, clf__hidden_layer_sizes=(128, 128), clf__learning_rate=invscaling, clf__max_iter=300; total time=   6.3s\n",
      "[CV] END clf=MLPClassifier(), clf__activation=relu, clf__hidden_layer_sizes=(128, 128), clf__learning_rate=invscaling, clf__max_iter=300; total time=   6.7s\n",
      "[CV] END clf=MLPClassifier(), clf__activation=relu, clf__hidden_layer_sizes=(128, 128), clf__learning_rate=invscaling, clf__max_iter=400; total time=   6.2s\n",
      "[CV] END clf=MLPClassifier(), clf__activation=relu, clf__hidden_layer_sizes=(128, 128), clf__learning_rate=invscaling, clf__max_iter=300; total time=   6.3s\n",
      "[CV] END clf=MLPClassifier(), clf__activation=relu, clf__hidden_layer_sizes=(128, 128), clf__learning_rate=invscaling, clf__max_iter=400; total time=   6.3s\n",
      "[CV] END clf=MLPClassifier(), clf__activation=relu, clf__hidden_layer_sizes=(128, 128), clf__learning_rate=invscaling, clf__max_iter=400; total time=   6.1s\n",
      "[CV] END clf=MLPClassifier(), clf__activation=relu, clf__hidden_layer_sizes=(128, 128), clf__learning_rate=invscaling, clf__max_iter=400; total time=   6.2s\n",
      "[CV] END clf=MLPClassifier(), clf__activation=relu, clf__hidden_layer_sizes=(128, 128), clf__learning_rate=invscaling, clf__max_iter=400; total time=   6.4s\n",
      "[CV] END clf=MLPClassifier(), clf__activation=relu, clf__hidden_layer_sizes=(128, 128), clf__learning_rate=adaptive, clf__max_iter=200; total time=   6.6s\n",
      "[CV] END clf=MLPClassifier(), clf__activation=relu, clf__hidden_layer_sizes=(128, 128), clf__learning_rate=adaptive, clf__max_iter=200; total time=   6.8s\n",
      "[CV] END clf=MLPClassifier(), clf__activation=relu, clf__hidden_layer_sizes=(128, 128), clf__learning_rate=adaptive, clf__max_iter=200; total time=   6.6s\n",
      "[CV] END clf=MLPClassifier(), clf__activation=relu, clf__hidden_layer_sizes=(128, 128), clf__learning_rate=adaptive, clf__max_iter=200; total time=   6.6s\n",
      "[CV] END clf=MLPClassifier(), clf__activation=relu, clf__hidden_layer_sizes=(128, 128), clf__learning_rate=adaptive, clf__max_iter=300; total time=   6.2s\n",
      "[CV] END clf=MLPClassifier(), clf__activation=relu, clf__hidden_layer_sizes=(128, 128), clf__learning_rate=adaptive, clf__max_iter=300; total time=   6.2s\n",
      "[CV] END clf=MLPClassifier(), clf__activation=relu, clf__hidden_layer_sizes=(128, 128), clf__learning_rate=adaptive, clf__max_iter=200; total time=   6.7s\n",
      "[CV] END clf=MLPClassifier(), clf__activation=relu, clf__hidden_layer_sizes=(128, 128), clf__learning_rate=adaptive, clf__max_iter=300; total time=   6.2s\n",
      "[CV] END clf=MLPClassifier(), clf__activation=relu, clf__hidden_layer_sizes=(128, 128), clf__learning_rate=adaptive, clf__max_iter=300; total time=   6.5s\n",
      "[CV] END clf=MLPClassifier(), clf__activation=relu, clf__hidden_layer_sizes=(128, 128), clf__learning_rate=adaptive, clf__max_iter=300; total time=   6.5s\n",
      "[CV] END clf=MLPClassifier(), clf__activation=tanh, clf__hidden_layer_sizes=(32, 32), clf__learning_rate=constant, clf__max_iter=200; total time=   3.3s\n",
      "[CV] END clf=MLPClassifier(), clf__activation=tanh, clf__hidden_layer_sizes=(32, 32), clf__learning_rate=constant, clf__max_iter=200; total time=   3.2s\n",
      "[CV] END clf=MLPClassifier(), clf__activation=tanh, clf__hidden_layer_sizes=(32, 32), clf__learning_rate=constant, clf__max_iter=200; total time=   3.1s\n",
      "[CV] END clf=MLPClassifier(), clf__activation=relu, clf__hidden_layer_sizes=(128, 128), clf__learning_rate=adaptive, clf__max_iter=400; total time=   6.4s\n",
      "[CV] END clf=MLPClassifier(), clf__activation=tanh, clf__hidden_layer_sizes=(32, 32), clf__learning_rate=constant, clf__max_iter=200; total time=   3.1s\n",
      "[CV] END clf=MLPClassifier(), clf__activation=tanh, clf__hidden_layer_sizes=(32, 32), clf__learning_rate=constant, clf__max_iter=200; total time=   3.1s\n",
      "[CV] END clf=MLPClassifier(), clf__activation=relu, clf__hidden_layer_sizes=(128, 128), clf__learning_rate=adaptive, clf__max_iter=400; total time=   6.5s\n",
      "[CV] END clf=MLPClassifier(), clf__activation=relu, clf__hidden_layer_sizes=(128, 128), clf__learning_rate=adaptive, clf__max_iter=400; total time=   6.5s\n",
      "[CV] END clf=MLPClassifier(), clf__activation=relu, clf__hidden_layer_sizes=(128, 128), clf__learning_rate=adaptive, clf__max_iter=400; total time=   6.6s\n",
      "[CV] END clf=MLPClassifier(), clf__activation=tanh, clf__hidden_layer_sizes=(32, 32), clf__learning_rate=constant, clf__max_iter=300; total time=   2.9s\n",
      "[CV] END clf=MLPClassifier(), clf__activation=relu, clf__hidden_layer_sizes=(128, 128), clf__learning_rate=adaptive, clf__max_iter=400; total time=   6.7s\n",
      "[CV] END clf=MLPClassifier(), clf__activation=tanh, clf__hidden_layer_sizes=(32, 32), clf__learning_rate=constant, clf__max_iter=300; total time=   3.0s\n",
      "[CV] END clf=MLPClassifier(), clf__activation=tanh, clf__hidden_layer_sizes=(32, 32), clf__learning_rate=constant, clf__max_iter=300; total time=   3.0s\n",
      "[CV] END clf=MLPClassifier(), clf__activation=tanh, clf__hidden_layer_sizes=(32, 32), clf__learning_rate=constant, clf__max_iter=300; total time=   3.2s\n",
      "[CV] END clf=MLPClassifier(), clf__activation=tanh, clf__hidden_layer_sizes=(32, 32), clf__learning_rate=constant, clf__max_iter=300; total time=   3.1s\n",
      "[CV] END clf=MLPClassifier(), clf__activation=tanh, clf__hidden_layer_sizes=(32, 32), clf__learning_rate=constant, clf__max_iter=400; total time=   3.1s\n",
      "[CV] END clf=MLPClassifier(), clf__activation=tanh, clf__hidden_layer_sizes=(32, 32), clf__learning_rate=constant, clf__max_iter=400; total time=   3.0s\n",
      "[CV] END clf=MLPClassifier(), clf__activation=tanh, clf__hidden_layer_sizes=(32, 32), clf__learning_rate=constant, clf__max_iter=400; total time=   3.1s\n",
      "[CV] END clf=MLPClassifier(), clf__activation=tanh, clf__hidden_layer_sizes=(32, 32), clf__learning_rate=constant, clf__max_iter=400; total time=   3.3s\n",
      "[CV] END clf=MLPClassifier(), clf__activation=tanh, clf__hidden_layer_sizes=(32, 32), clf__learning_rate=invscaling, clf__max_iter=200; total time=   2.8s\n",
      "[CV] END clf=MLPClassifier(), clf__activation=tanh, clf__hidden_layer_sizes=(32, 32), clf__learning_rate=constant, clf__max_iter=400; total time=   3.1s\n",
      "[CV] END clf=MLPClassifier(), clf__activation=tanh, clf__hidden_layer_sizes=(32, 32), clf__learning_rate=invscaling, clf__max_iter=200; total time=   3.1s\n",
      "[CV] END clf=MLPClassifier(), clf__activation=tanh, clf__hidden_layer_sizes=(32, 32), clf__learning_rate=invscaling, clf__max_iter=200; total time=   3.0s\n",
      "[CV] END clf=MLPClassifier(), clf__activation=tanh, clf__hidden_layer_sizes=(32, 32), clf__learning_rate=invscaling, clf__max_iter=200; total time=   3.1s\n",
      "[CV] END clf=MLPClassifier(), clf__activation=tanh, clf__hidden_layer_sizes=(32, 32), clf__learning_rate=invscaling, clf__max_iter=200; total time=   3.1s\n",
      "[CV] END clf=MLPClassifier(), clf__activation=tanh, clf__hidden_layer_sizes=(32, 32), clf__learning_rate=invscaling, clf__max_iter=300; total time=   3.1s\n",
      "[CV] END clf=MLPClassifier(), clf__activation=tanh, clf__hidden_layer_sizes=(32, 32), clf__learning_rate=invscaling, clf__max_iter=300; total time=   3.0s\n",
      "[CV] END clf=MLPClassifier(), clf__activation=tanh, clf__hidden_layer_sizes=(32, 32), clf__learning_rate=invscaling, clf__max_iter=300; total time=   3.1s\n",
      "[CV] END clf=MLPClassifier(), clf__activation=tanh, clf__hidden_layer_sizes=(32, 32), clf__learning_rate=invscaling, clf__max_iter=300; total time=   3.2s\n",
      "[CV] END clf=MLPClassifier(), clf__activation=tanh, clf__hidden_layer_sizes=(32, 32), clf__learning_rate=invscaling, clf__max_iter=300; total time=   3.3s\n",
      "[CV] END clf=MLPClassifier(), clf__activation=tanh, clf__hidden_layer_sizes=(32, 32), clf__learning_rate=invscaling, clf__max_iter=400; total time=   3.2s\n",
      "[CV] END clf=MLPClassifier(), clf__activation=tanh, clf__hidden_layer_sizes=(32, 32), clf__learning_rate=invscaling, clf__max_iter=400; total time=   3.3s\n",
      "[CV] END clf=MLPClassifier(), clf__activation=tanh, clf__hidden_layer_sizes=(32, 32), clf__learning_rate=invscaling, clf__max_iter=400; total time=   3.3s\n",
      "[CV] END clf=MLPClassifier(), clf__activation=tanh, clf__hidden_layer_sizes=(32, 32), clf__learning_rate=invscaling, clf__max_iter=400; total time=   3.5s\n",
      "[CV] END clf=MLPClassifier(), clf__activation=tanh, clf__hidden_layer_sizes=(32, 32), clf__learning_rate=adaptive, clf__max_iter=200; total time=   3.2s\n",
      "[CV] END clf=MLPClassifier(), clf__activation=tanh, clf__hidden_layer_sizes=(32, 32), clf__learning_rate=invscaling, clf__max_iter=400; total time=   3.4s\n",
      "[CV] END clf=MLPClassifier(), clf__activation=tanh, clf__hidden_layer_sizes=(32, 32), clf__learning_rate=adaptive, clf__max_iter=200; total time=   3.1s\n",
      "[CV] END clf=MLPClassifier(), clf__activation=tanh, clf__hidden_layer_sizes=(32, 32), clf__learning_rate=adaptive, clf__max_iter=200; total time=   3.4s\n",
      "[CV] END clf=MLPClassifier(), clf__activation=tanh, clf__hidden_layer_sizes=(32, 32), clf__learning_rate=adaptive, clf__max_iter=200; total time=   3.2s\n",
      "[CV] END clf=MLPClassifier(), clf__activation=tanh, clf__hidden_layer_sizes=(32, 32), clf__learning_rate=adaptive, clf__max_iter=200; total time=   3.1s\n",
      "[CV] END clf=MLPClassifier(), clf__activation=tanh, clf__hidden_layer_sizes=(32, 32), clf__learning_rate=adaptive, clf__max_iter=300; total time=   3.2s\n",
      "[CV] END clf=MLPClassifier(), clf__activation=tanh, clf__hidden_layer_sizes=(32, 32), clf__learning_rate=adaptive, clf__max_iter=300; total time=   3.1s\n",
      "[CV] END clf=MLPClassifier(), clf__activation=tanh, clf__hidden_layer_sizes=(32, 32), clf__learning_rate=adaptive, clf__max_iter=300; total time=   3.3s\n",
      "[CV] END clf=MLPClassifier(), clf__activation=tanh, clf__hidden_layer_sizes=(32, 32), clf__learning_rate=adaptive, clf__max_iter=400; total time=   3.1s\n",
      "[CV] END clf=MLPClassifier(), clf__activation=tanh, clf__hidden_layer_sizes=(32, 32), clf__learning_rate=adaptive, clf__max_iter=300; total time=   3.2s\n",
      "[CV] END clf=MLPClassifier(), clf__activation=tanh, clf__hidden_layer_sizes=(32, 32), clf__learning_rate=adaptive, clf__max_iter=300; total time=   3.4s\n",
      "[CV] END clf=MLPClassifier(), clf__activation=tanh, clf__hidden_layer_sizes=(32, 32), clf__learning_rate=adaptive, clf__max_iter=400; total time=   3.1s\n",
      "[CV] END clf=MLPClassifier(), clf__activation=tanh, clf__hidden_layer_sizes=(32, 32), clf__learning_rate=adaptive, clf__max_iter=400; total time=   3.2s\n",
      "[CV] END clf=MLPClassifier(), clf__activation=tanh, clf__hidden_layer_sizes=(32, 32), clf__learning_rate=adaptive, clf__max_iter=400; total time=   3.7s\n",
      "[CV] END clf=MLPClassifier(), clf__activation=tanh, clf__hidden_layer_sizes=(32, 32), clf__learning_rate=adaptive, clf__max_iter=400; total time=   3.1s\n",
      "[CV] END clf=MLPClassifier(), clf__activation=tanh, clf__hidden_layer_sizes=(64, 64), clf__learning_rate=constant, clf__max_iter=200; total time=   4.2s\n",
      "[CV] END clf=MLPClassifier(), clf__activation=tanh, clf__hidden_layer_sizes=(64, 64), clf__learning_rate=constant, clf__max_iter=200; total time=   4.2s\n",
      "[CV] END clf=MLPClassifier(), clf__activation=tanh, clf__hidden_layer_sizes=(64, 64), clf__learning_rate=constant, clf__max_iter=200; total time=   4.3s\n",
      "[CV] END clf=MLPClassifier(), clf__activation=tanh, clf__hidden_layer_sizes=(64, 64), clf__learning_rate=constant, clf__max_iter=200; total time=   4.1s\n",
      "[CV] END clf=MLPClassifier(), clf__activation=tanh, clf__hidden_layer_sizes=(64, 64), clf__learning_rate=constant, clf__max_iter=300; total time=   4.0s\n",
      "[CV] END clf=MLPClassifier(), clf__activation=tanh, clf__hidden_layer_sizes=(64, 64), clf__learning_rate=constant, clf__max_iter=200; total time=   4.3s\n",
      "[CV] END clf=MLPClassifier(), clf__activation=tanh, clf__hidden_layer_sizes=(64, 64), clf__learning_rate=constant, clf__max_iter=300; total time=   4.1s\n",
      "[CV] END clf=MLPClassifier(), clf__activation=tanh, clf__hidden_layer_sizes=(64, 64), clf__learning_rate=constant, clf__max_iter=300; total time=   4.1s\n",
      "[CV] END clf=MLPClassifier(), clf__activation=tanh, clf__hidden_layer_sizes=(64, 64), clf__learning_rate=constant, clf__max_iter=300; total time=   4.1s\n",
      "[CV] END clf=MLPClassifier(), clf__activation=tanh, clf__hidden_layer_sizes=(64, 64), clf__learning_rate=constant, clf__max_iter=300; total time=   4.2s\n",
      "[CV] END clf=MLPClassifier(), clf__activation=tanh, clf__hidden_layer_sizes=(64, 64), clf__learning_rate=constant, clf__max_iter=400; total time=   4.0s\n",
      "[CV] END clf=MLPClassifier(), clf__activation=tanh, clf__hidden_layer_sizes=(64, 64), clf__learning_rate=constant, clf__max_iter=400; total time=   4.3s\n",
      "[CV] END clf=MLPClassifier(), clf__activation=tanh, clf__hidden_layer_sizes=(64, 64), clf__learning_rate=constant, clf__max_iter=400; total time=   4.1s\n",
      "[CV] END clf=MLPClassifier(), clf__activation=tanh, clf__hidden_layer_sizes=(64, 64), clf__learning_rate=constant, clf__max_iter=400; total time=   4.2s\n",
      "[CV] END clf=MLPClassifier(), clf__activation=tanh, clf__hidden_layer_sizes=(64, 64), clf__learning_rate=constant, clf__max_iter=400; total time=   4.1s\n",
      "[CV] END clf=MLPClassifier(), clf__activation=tanh, clf__hidden_layer_sizes=(64, 64), clf__learning_rate=invscaling, clf__max_iter=200; total time=   4.1s\n",
      "[CV] END clf=MLPClassifier(), clf__activation=tanh, clf__hidden_layer_sizes=(64, 64), clf__learning_rate=invscaling, clf__max_iter=200; total time=   4.3s\n",
      "[CV] END clf=MLPClassifier(), clf__activation=tanh, clf__hidden_layer_sizes=(64, 64), clf__learning_rate=invscaling, clf__max_iter=200; total time=   4.2s\n",
      "[CV] END clf=MLPClassifier(), clf__activation=tanh, clf__hidden_layer_sizes=(64, 64), clf__learning_rate=invscaling, clf__max_iter=200; total time=   4.2s\n",
      "[CV] END clf=MLPClassifier(), clf__activation=tanh, clf__hidden_layer_sizes=(64, 64), clf__learning_rate=invscaling, clf__max_iter=200; total time=   4.2s\n",
      "[CV] END clf=MLPClassifier(), clf__activation=tanh, clf__hidden_layer_sizes=(64, 64), clf__learning_rate=invscaling, clf__max_iter=300; total time=   4.3s\n",
      "[CV] END clf=MLPClassifier(), clf__activation=tanh, clf__hidden_layer_sizes=(64, 64), clf__learning_rate=invscaling, clf__max_iter=300; total time=   4.2s\n",
      "[CV] END clf=MLPClassifier(), clf__activation=tanh, clf__hidden_layer_sizes=(64, 64), clf__learning_rate=invscaling, clf__max_iter=300; total time=   4.5s\n",
      "[CV] END clf=MLPClassifier(), clf__activation=tanh, clf__hidden_layer_sizes=(64, 64), clf__learning_rate=invscaling, clf__max_iter=300; total time=   4.3s\n",
      "[CV] END clf=MLPClassifier(), clf__activation=tanh, clf__hidden_layer_sizes=(64, 64), clf__learning_rate=invscaling, clf__max_iter=300; total time=   4.2s\n",
      "[CV] END clf=MLPClassifier(), clf__activation=tanh, clf__hidden_layer_sizes=(64, 64), clf__learning_rate=invscaling, clf__max_iter=400; total time=   4.2s\n",
      "[CV] END clf=MLPClassifier(), clf__activation=tanh, clf__hidden_layer_sizes=(64, 64), clf__learning_rate=invscaling, clf__max_iter=400; total time=   4.3s\n",
      "[CV] END clf=MLPClassifier(), clf__activation=tanh, clf__hidden_layer_sizes=(64, 64), clf__learning_rate=invscaling, clf__max_iter=400; total time=   4.3s\n",
      "[CV] END clf=MLPClassifier(), clf__activation=tanh, clf__hidden_layer_sizes=(64, 64), clf__learning_rate=invscaling, clf__max_iter=400; total time=   4.2s\n",
      "[CV] END clf=MLPClassifier(), clf__activation=tanh, clf__hidden_layer_sizes=(64, 64), clf__learning_rate=invscaling, clf__max_iter=400; total time=   4.4s\n",
      "[CV] END clf=MLPClassifier(), clf__activation=tanh, clf__hidden_layer_sizes=(64, 64), clf__learning_rate=adaptive, clf__max_iter=200; total time=   4.4s\n",
      "[CV] END clf=MLPClassifier(), clf__activation=tanh, clf__hidden_layer_sizes=(64, 64), clf__learning_rate=adaptive, clf__max_iter=200; total time=   4.3s\n",
      "[CV] END clf=MLPClassifier(), clf__activation=tanh, clf__hidden_layer_sizes=(64, 64), clf__learning_rate=adaptive, clf__max_iter=200; total time=   4.5s\n",
      "[CV] END clf=MLPClassifier(), clf__activation=tanh, clf__hidden_layer_sizes=(64, 64), clf__learning_rate=adaptive, clf__max_iter=200; total time=   4.3s\n",
      "[CV] END clf=MLPClassifier(), clf__activation=tanh, clf__hidden_layer_sizes=(64, 64), clf__learning_rate=adaptive, clf__max_iter=200; total time=   4.4s\n",
      "[CV] END clf=MLPClassifier(), clf__activation=tanh, clf__hidden_layer_sizes=(64, 64), clf__learning_rate=adaptive, clf__max_iter=300; total time=   4.4s\n",
      "[CV] END clf=MLPClassifier(), clf__activation=tanh, clf__hidden_layer_sizes=(64, 64), clf__learning_rate=adaptive, clf__max_iter=300; total time=   4.3s\n",
      "[CV] END clf=MLPClassifier(), clf__activation=tanh, clf__hidden_layer_sizes=(64, 64), clf__learning_rate=adaptive, clf__max_iter=300; total time=   4.3s\n",
      "[CV] END clf=MLPClassifier(), clf__activation=tanh, clf__hidden_layer_sizes=(64, 64), clf__learning_rate=adaptive, clf__max_iter=300; total time=   4.5s\n",
      "[CV] END clf=MLPClassifier(), clf__activation=tanh, clf__hidden_layer_sizes=(64, 64), clf__learning_rate=adaptive, clf__max_iter=300; total time=   4.4s\n",
      "[CV] END clf=MLPClassifier(), clf__activation=tanh, clf__hidden_layer_sizes=(64, 64), clf__learning_rate=adaptive, clf__max_iter=400; total time=   4.2s\n",
      "[CV] END clf=MLPClassifier(), clf__activation=tanh, clf__hidden_layer_sizes=(64, 64), clf__learning_rate=adaptive, clf__max_iter=400; total time=   4.1s\n",
      "[CV] END clf=MLPClassifier(), clf__activation=tanh, clf__hidden_layer_sizes=(64, 64), clf__learning_rate=adaptive, clf__max_iter=400; total time=   4.3s\n",
      "[CV] END clf=MLPClassifier(), clf__activation=tanh, clf__hidden_layer_sizes=(64, 64), clf__learning_rate=adaptive, clf__max_iter=400; total time=   4.2s\n",
      "[CV] END clf=MLPClassifier(), clf__activation=tanh, clf__hidden_layer_sizes=(64, 64), clf__learning_rate=adaptive, clf__max_iter=400; total time=   4.2s\n",
      "[CV] END clf=MLPClassifier(), clf__activation=tanh, clf__hidden_layer_sizes=(128, 128), clf__learning_rate=constant, clf__max_iter=200; total time=   6.7s\n",
      "[CV] END clf=MLPClassifier(), clf__activation=tanh, clf__hidden_layer_sizes=(128, 128), clf__learning_rate=constant, clf__max_iter=200; total time=   6.8s\n",
      "[CV] END clf=MLPClassifier(), clf__activation=tanh, clf__hidden_layer_sizes=(128, 128), clf__learning_rate=constant, clf__max_iter=200; total time=   6.8s\n",
      "[CV] END clf=MLPClassifier(), clf__activation=tanh, clf__hidden_layer_sizes=(128, 128), clf__learning_rate=constant, clf__max_iter=200; total time=   6.6s\n",
      "[CV] END clf=MLPClassifier(), clf__activation=tanh, clf__hidden_layer_sizes=(128, 128), clf__learning_rate=constant, clf__max_iter=200; total time=   6.7s\n",
      "[CV] END clf=MLPClassifier(), clf__activation=tanh, clf__hidden_layer_sizes=(128, 128), clf__learning_rate=constant, clf__max_iter=300; total time=   6.8s\n",
      "[CV] END clf=MLPClassifier(), clf__activation=tanh, clf__hidden_layer_sizes=(128, 128), clf__learning_rate=constant, clf__max_iter=300; total time=   6.8s\n",
      "[CV] END clf=MLPClassifier(), clf__activation=tanh, clf__hidden_layer_sizes=(128, 128), clf__learning_rate=constant, clf__max_iter=300; total time=   6.6s\n",
      "[CV] END clf=MLPClassifier(), clf__activation=tanh, clf__hidden_layer_sizes=(128, 128), clf__learning_rate=constant, clf__max_iter=300; total time=   6.8s\n",
      "[CV] END clf=MLPClassifier(), clf__activation=tanh, clf__hidden_layer_sizes=(128, 128), clf__learning_rate=constant, clf__max_iter=300; total time=   6.9s\n",
      "[CV] END clf=MLPClassifier(), clf__activation=tanh, clf__hidden_layer_sizes=(128, 128), clf__learning_rate=constant, clf__max_iter=400; total time=   6.7s\n",
      "[CV] END clf=MLPClassifier(), clf__activation=tanh, clf__hidden_layer_sizes=(128, 128), clf__learning_rate=constant, clf__max_iter=400; total time=   6.7s\n",
      "[CV] END clf=MLPClassifier(), clf__activation=tanh, clf__hidden_layer_sizes=(128, 128), clf__learning_rate=constant, clf__max_iter=400; total time=   6.8s\n",
      "[CV] END clf=MLPClassifier(), clf__activation=tanh, clf__hidden_layer_sizes=(128, 128), clf__learning_rate=constant, clf__max_iter=400; total time=   6.7s\n",
      "[CV] END clf=MLPClassifier(), clf__activation=tanh, clf__hidden_layer_sizes=(128, 128), clf__learning_rate=constant, clf__max_iter=400; total time=   6.9s\n",
      "[CV] END clf=MLPClassifier(), clf__activation=tanh, clf__hidden_layer_sizes=(128, 128), clf__learning_rate=invscaling, clf__max_iter=200; total time=   6.7s\n",
      "[CV] END clf=MLPClassifier(), clf__activation=tanh, clf__hidden_layer_sizes=(128, 128), clf__learning_rate=invscaling, clf__max_iter=200; total time=   6.8s\n",
      "[CV] END clf=MLPClassifier(), clf__activation=tanh, clf__hidden_layer_sizes=(128, 128), clf__learning_rate=invscaling, clf__max_iter=200; total time=   6.7s\n",
      "[CV] END clf=MLPClassifier(), clf__activation=tanh, clf__hidden_layer_sizes=(128, 128), clf__learning_rate=invscaling, clf__max_iter=200; total time=   6.7s\n",
      "[CV] END clf=MLPClassifier(), clf__activation=tanh, clf__hidden_layer_sizes=(128, 128), clf__learning_rate=invscaling, clf__max_iter=200; total time=   6.7s\n",
      "[CV] END clf=MLPClassifier(), clf__activation=tanh, clf__hidden_layer_sizes=(128, 128), clf__learning_rate=invscaling, clf__max_iter=300; total time=   6.7s\n",
      "[CV] END clf=MLPClassifier(), clf__activation=tanh, clf__hidden_layer_sizes=(128, 128), clf__learning_rate=invscaling, clf__max_iter=300; total time=   6.7s\n",
      "[CV] END clf=MLPClassifier(), clf__activation=tanh, clf__hidden_layer_sizes=(128, 128), clf__learning_rate=invscaling, clf__max_iter=300; total time=   6.9s\n",
      "[CV] END clf=MLPClassifier(), clf__activation=tanh, clf__hidden_layer_sizes=(128, 128), clf__learning_rate=invscaling, clf__max_iter=300; total time=   6.8s\n",
      "[CV] END clf=MLPClassifier(), clf__activation=tanh, clf__hidden_layer_sizes=(128, 128), clf__learning_rate=invscaling, clf__max_iter=300; total time=   6.9s\n",
      "[CV] END clf=MLPClassifier(), clf__activation=tanh, clf__hidden_layer_sizes=(128, 128), clf__learning_rate=invscaling, clf__max_iter=400; total time=   6.9s\n",
      "[CV] END clf=MLPClassifier(), clf__activation=tanh, clf__hidden_layer_sizes=(128, 128), clf__learning_rate=invscaling, clf__max_iter=400; total time=   6.9s\n",
      "[CV] END clf=MLPClassifier(), clf__activation=tanh, clf__hidden_layer_sizes=(128, 128), clf__learning_rate=invscaling, clf__max_iter=400; total time=   6.9s\n",
      "[CV] END clf=MLPClassifier(), clf__activation=tanh, clf__hidden_layer_sizes=(128, 128), clf__learning_rate=invscaling, clf__max_iter=400; total time=   7.1s\n",
      "[CV] END clf=MLPClassifier(), clf__activation=tanh, clf__hidden_layer_sizes=(128, 128), clf__learning_rate=invscaling, clf__max_iter=400; total time=   6.8s\n",
      "[CV] END clf=MLPClassifier(), clf__activation=tanh, clf__hidden_layer_sizes=(128, 128), clf__learning_rate=adaptive, clf__max_iter=200; total time=   6.8s\n",
      "[CV] END clf=MLPClassifier(), clf__activation=tanh, clf__hidden_layer_sizes=(128, 128), clf__learning_rate=adaptive, clf__max_iter=200; total time=   6.8s\n",
      "[CV] END clf=MLPClassifier(), clf__activation=tanh, clf__hidden_layer_sizes=(128, 128), clf__learning_rate=adaptive, clf__max_iter=200; total time=   7.1s\n",
      "[CV] END clf=MLPClassifier(), clf__activation=tanh, clf__hidden_layer_sizes=(128, 128), clf__learning_rate=adaptive, clf__max_iter=200; total time=   6.7s\n",
      "[CV] END clf=MLPClassifier(), clf__activation=tanh, clf__hidden_layer_sizes=(128, 128), clf__learning_rate=adaptive, clf__max_iter=200; total time=   7.0s\n",
      "[CV] END clf=MLPClassifier(), clf__activation=tanh, clf__hidden_layer_sizes=(128, 128), clf__learning_rate=adaptive, clf__max_iter=300; total time=   6.8s\n",
      "[CV] END clf=MLPClassifier(), clf__activation=tanh, clf__hidden_layer_sizes=(128, 128), clf__learning_rate=adaptive, clf__max_iter=300; total time=   6.9s\n",
      "[CV] END clf=MLPClassifier(), clf__activation=tanh, clf__hidden_layer_sizes=(128, 128), clf__learning_rate=adaptive, clf__max_iter=300; total time=   6.7s\n",
      "[CV] END clf=MLPClassifier(), clf__activation=tanh, clf__hidden_layer_sizes=(128, 128), clf__learning_rate=adaptive, clf__max_iter=300; total time=   6.7s\n",
      "[CV] END clf=MLPClassifier(), clf__activation=tanh, clf__hidden_layer_sizes=(128, 128), clf__learning_rate=adaptive, clf__max_iter=300; total time=   6.8s\n",
      "[CV] END clf=MLPClassifier(), clf__activation=tanh, clf__hidden_layer_sizes=(128, 128), clf__learning_rate=adaptive, clf__max_iter=400; total time=   6.2s\n",
      "[CV] END clf=MLPClassifier(), clf__activation=tanh, clf__hidden_layer_sizes=(128, 128), clf__learning_rate=adaptive, clf__max_iter=400; total time=   6.0s\n",
      "[CV] END clf=MLPClassifier(), clf__activation=tanh, clf__hidden_layer_sizes=(128, 128), clf__learning_rate=adaptive, clf__max_iter=400; total time=   5.8s\n",
      "[CV] END clf=MLPClassifier(), clf__activation=tanh, clf__hidden_layer_sizes=(128, 128), clf__learning_rate=adaptive, clf__max_iter=400; total time=   5.9s\n",
      "[CV] END clf=MLPClassifier(), clf__activation=tanh, clf__hidden_layer_sizes=(128, 128), clf__learning_rate=adaptive, clf__max_iter=400; total time=   5.5s\n"
     ]
    },
    {
     "data": {
      "text/html": [
       "<style>#sk-container-id-19 {color: black;background-color: white;}#sk-container-id-19 pre{padding: 0;}#sk-container-id-19 div.sk-toggleable {background-color: white;}#sk-container-id-19 label.sk-toggleable__label {cursor: pointer;display: block;width: 100%;margin-bottom: 0;padding: 0.3em;box-sizing: border-box;text-align: center;}#sk-container-id-19 label.sk-toggleable__label-arrow:before {content: \"▸\";float: left;margin-right: 0.25em;color: #696969;}#sk-container-id-19 label.sk-toggleable__label-arrow:hover:before {color: black;}#sk-container-id-19 div.sk-estimator:hover label.sk-toggleable__label-arrow:before {color: black;}#sk-container-id-19 div.sk-toggleable__content {max-height: 0;max-width: 0;overflow: hidden;text-align: left;background-color: #f0f8ff;}#sk-container-id-19 div.sk-toggleable__content pre {margin: 0.2em;color: black;border-radius: 0.25em;background-color: #f0f8ff;}#sk-container-id-19 input.sk-toggleable__control:checked~div.sk-toggleable__content {max-height: 200px;max-width: 100%;overflow: auto;}#sk-container-id-19 input.sk-toggleable__control:checked~label.sk-toggleable__label-arrow:before {content: \"▾\";}#sk-container-id-19 div.sk-estimator input.sk-toggleable__control:checked~label.sk-toggleable__label {background-color: #d4ebff;}#sk-container-id-19 div.sk-label input.sk-toggleable__control:checked~label.sk-toggleable__label {background-color: #d4ebff;}#sk-container-id-19 input.sk-hidden--visually {border: 0;clip: rect(1px 1px 1px 1px);clip: rect(1px, 1px, 1px, 1px);height: 1px;margin: -1px;overflow: hidden;padding: 0;position: absolute;width: 1px;}#sk-container-id-19 div.sk-estimator {font-family: monospace;background-color: #f0f8ff;border: 1px dotted black;border-radius: 0.25em;box-sizing: border-box;margin-bottom: 0.5em;}#sk-container-id-19 div.sk-estimator:hover {background-color: #d4ebff;}#sk-container-id-19 div.sk-parallel-item::after {content: \"\";width: 100%;border-bottom: 1px solid gray;flex-grow: 1;}#sk-container-id-19 div.sk-label:hover label.sk-toggleable__label {background-color: #d4ebff;}#sk-container-id-19 div.sk-serial::before {content: \"\";position: absolute;border-left: 1px solid gray;box-sizing: border-box;top: 0;bottom: 0;left: 50%;z-index: 0;}#sk-container-id-19 div.sk-serial {display: flex;flex-direction: column;align-items: center;background-color: white;padding-right: 0.2em;padding-left: 0.2em;position: relative;}#sk-container-id-19 div.sk-item {position: relative;z-index: 1;}#sk-container-id-19 div.sk-parallel {display: flex;align-items: stretch;justify-content: center;background-color: white;position: relative;}#sk-container-id-19 div.sk-item::before, #sk-container-id-19 div.sk-parallel-item::before {content: \"\";position: absolute;border-left: 1px solid gray;box-sizing: border-box;top: 0;bottom: 0;left: 50%;z-index: -1;}#sk-container-id-19 div.sk-parallel-item {display: flex;flex-direction: column;z-index: 1;position: relative;background-color: white;}#sk-container-id-19 div.sk-parallel-item:first-child::after {align-self: flex-end;width: 50%;}#sk-container-id-19 div.sk-parallel-item:last-child::after {align-self: flex-start;width: 50%;}#sk-container-id-19 div.sk-parallel-item:only-child::after {width: 0;}#sk-container-id-19 div.sk-dashed-wrapped {border: 1px dashed gray;margin: 0 0.4em 0.5em 0.4em;box-sizing: border-box;padding-bottom: 0.4em;background-color: white;}#sk-container-id-19 div.sk-label label {font-family: monospace;font-weight: bold;display: inline-block;line-height: 1.2em;}#sk-container-id-19 div.sk-label-container {text-align: center;}#sk-container-id-19 div.sk-container {/* jupyter's `normalize.less` sets `[hidden] { display: none; }` but bootstrap.min.css set `[hidden] { display: none !important; }` so we also need the `!important` here to be able to override the default hidden behavior on the sphinx rendered scikit-learn.org. See: https://github.com/scikit-learn/scikit-learn/issues/21755 */display: inline-block !important;position: relative;}#sk-container-id-19 div.sk-text-repr-fallback {display: none;}</style><div id=\"sk-container-id-19\" class=\"sk-top-container\"><div class=\"sk-text-repr-fallback\"><pre>GridSearchCV(cv=5,\n",
       "             estimator=Pipeline(steps=[(&#x27;preprocessing&#x27;, StandardScaler()),\n",
       "                                       (&#x27;clf&#x27;, None)]),\n",
       "             n_jobs=-1,\n",
       "             param_grid=[{&#x27;clf&#x27;: [LogisticRegression()],\n",
       "                          &#x27;clf__C&#x27;: array([1.00000000e-02, 6.30957344e-02, 3.98107171e-01, 2.51188643e+00,\n",
       "       1.58489319e+01, 1.00000000e+02]),\n",
       "                          &#x27;clf__max_iter&#x27;: [1000], &#x27;clf__penalty&#x27;: [&#x27;l2&#x27;]},\n",
       "                         {&#x27;clf&#x27;: [RandomForestClassifier()],\n",
       "                          &#x27;clf__max_depth&#x27;: [None, 10, 20, 30],\n",
       "                          &#x27;clf__n_estimators&#x27;: [100, 200, 500]},\n",
       "                         {&#x27;clf&#x27;: [MLPClassifier(hidden_layer_sizes=(128, 128),\n",
       "                                                max_iter=300)],\n",
       "                          &#x27;clf__activation&#x27;: [&#x27;relu&#x27;, &#x27;tanh&#x27;],\n",
       "                          &#x27;clf__hidden_layer_sizes&#x27;: [(32, 32), (64, 64),\n",
       "                                                      (128, 128)],\n",
       "                          &#x27;clf__learning_rate&#x27;: [&#x27;constant&#x27;, &#x27;invscaling&#x27;,\n",
       "                                                 &#x27;adaptive&#x27;],\n",
       "                          &#x27;clf__max_iter&#x27;: [200, 300, 400]}],\n",
       "             scoring=&#x27;f1_weighted&#x27;, verbose=2)</pre><b>In a Jupyter environment, please rerun this cell to show the HTML representation or trust the notebook. <br />On GitHub, the HTML representation is unable to render, please try loading this page with nbviewer.org.</b></div><div class=\"sk-container\" hidden><div class=\"sk-item sk-dashed-wrapped\"><div class=\"sk-label-container\"><div class=\"sk-label sk-toggleable\"><input class=\"sk-toggleable__control sk-hidden--visually\" id=\"sk-estimator-id-85\" type=\"checkbox\" ><label for=\"sk-estimator-id-85\" class=\"sk-toggleable__label sk-toggleable__label-arrow\">GridSearchCV</label><div class=\"sk-toggleable__content\"><pre>GridSearchCV(cv=5,\n",
       "             estimator=Pipeline(steps=[(&#x27;preprocessing&#x27;, StandardScaler()),\n",
       "                                       (&#x27;clf&#x27;, None)]),\n",
       "             n_jobs=-1,\n",
       "             param_grid=[{&#x27;clf&#x27;: [LogisticRegression()],\n",
       "                          &#x27;clf__C&#x27;: array([1.00000000e-02, 6.30957344e-02, 3.98107171e-01, 2.51188643e+00,\n",
       "       1.58489319e+01, 1.00000000e+02]),\n",
       "                          &#x27;clf__max_iter&#x27;: [1000], &#x27;clf__penalty&#x27;: [&#x27;l2&#x27;]},\n",
       "                         {&#x27;clf&#x27;: [RandomForestClassifier()],\n",
       "                          &#x27;clf__max_depth&#x27;: [None, 10, 20, 30],\n",
       "                          &#x27;clf__n_estimators&#x27;: [100, 200, 500]},\n",
       "                         {&#x27;clf&#x27;: [MLPClassifier(hidden_layer_sizes=(128, 128),\n",
       "                                                max_iter=300)],\n",
       "                          &#x27;clf__activation&#x27;: [&#x27;relu&#x27;, &#x27;tanh&#x27;],\n",
       "                          &#x27;clf__hidden_layer_sizes&#x27;: [(32, 32), (64, 64),\n",
       "                                                      (128, 128)],\n",
       "                          &#x27;clf__learning_rate&#x27;: [&#x27;constant&#x27;, &#x27;invscaling&#x27;,\n",
       "                                                 &#x27;adaptive&#x27;],\n",
       "                          &#x27;clf__max_iter&#x27;: [200, 300, 400]}],\n",
       "             scoring=&#x27;f1_weighted&#x27;, verbose=2)</pre></div></div></div><div class=\"sk-parallel\"><div class=\"sk-parallel-item\"><div class=\"sk-item\"><div class=\"sk-label-container\"><div class=\"sk-label sk-toggleable\"><input class=\"sk-toggleable__control sk-hidden--visually\" id=\"sk-estimator-id-86\" type=\"checkbox\" ><label for=\"sk-estimator-id-86\" class=\"sk-toggleable__label sk-toggleable__label-arrow\">estimator: Pipeline</label><div class=\"sk-toggleable__content\"><pre>Pipeline(steps=[(&#x27;preprocessing&#x27;, StandardScaler()), (&#x27;clf&#x27;, None)])</pre></div></div></div><div class=\"sk-serial\"><div class=\"sk-item\"><div class=\"sk-serial\"><div class=\"sk-item\"><div class=\"sk-estimator sk-toggleable\"><input class=\"sk-toggleable__control sk-hidden--visually\" id=\"sk-estimator-id-87\" type=\"checkbox\" ><label for=\"sk-estimator-id-87\" class=\"sk-toggleable__label sk-toggleable__label-arrow\">StandardScaler</label><div class=\"sk-toggleable__content\"><pre>StandardScaler()</pre></div></div></div><div class=\"sk-item\"><div class=\"sk-estimator sk-toggleable\"><input class=\"sk-toggleable__control sk-hidden--visually\" id=\"sk-estimator-id-88\" type=\"checkbox\" ><label for=\"sk-estimator-id-88\" class=\"sk-toggleable__label sk-toggleable__label-arrow\">None</label><div class=\"sk-toggleable__content\"><pre>None</pre></div></div></div></div></div></div></div></div></div></div></div></div>"
      ],
      "text/plain": [
       "GridSearchCV(cv=5,\n",
       "             estimator=Pipeline(steps=[('preprocessing', StandardScaler()),\n",
       "                                       ('clf', None)]),\n",
       "             n_jobs=-1,\n",
       "             param_grid=[{'clf': [LogisticRegression()],\n",
       "                          'clf__C': array([1.00000000e-02, 6.30957344e-02, 3.98107171e-01, 2.51188643e+00,\n",
       "       1.58489319e+01, 1.00000000e+02]),\n",
       "                          'clf__max_iter': [1000], 'clf__penalty': ['l2']},\n",
       "                         {'clf': [RandomForestClassifier()],\n",
       "                          'clf__max_depth': [None, 10, 20, 30],\n",
       "                          'clf__n_estimators': [100, 200, 500]},\n",
       "                         {'clf': [MLPClassifier(hidden_layer_sizes=(128, 128),\n",
       "                                                max_iter=300)],\n",
       "                          'clf__activation': ['relu', 'tanh'],\n",
       "                          'clf__hidden_layer_sizes': [(32, 32), (64, 64),\n",
       "                                                      (128, 128)],\n",
       "                          'clf__learning_rate': ['constant', 'invscaling',\n",
       "                                                 'adaptive'],\n",
       "                          'clf__max_iter': [200, 300, 400]}],\n",
       "             scoring='f1_weighted', verbose=2)"
      ]
     },
     "execution_count": 314,
     "metadata": {},
     "output_type": "execute_result"
    }
   ],
   "source": [
    "# Train the GridSearchCV pipeline and fit the best model to the data\n",
    "grid_search.fit(X_train, y_train)"
   ]
  },
  {
   "cell_type": "code",
   "execution_count": 319,
   "metadata": {},
   "outputs": [
    {
     "name": "stdout",
     "output_type": "stream",
     "text": [
      "Best model: Pipeline(steps=[('preprocessing', StandardScaler()),\n",
      "                ('clf',\n",
      "                 MLPClassifier(hidden_layer_sizes=(128, 128), max_iter=300))])\n",
      "F1 score: 0.7169272431486432\n"
     ]
    }
   ],
   "source": [
    "\n",
    "# Evaluate the best model\n",
    "y_pred = grid_search.predict(X_test)\n",
    "f1 = f1_score(y_test.values, y_pred, average=\"weighted\", labels=['left', 'center', 'right'])\n",
    "print(f\"Best model: {grid_search.best_estimator_}\")\n",
    "print(f\"F1 score: {f1}\")"
   ]
  },
  {
   "cell_type": "markdown",
   "metadata": {},
   "source": [
    "Let's finally plot all test scores to see how much better the LogisticRegression model is with respect to all others."
   ]
  },
  {
   "cell_type": "code",
   "execution_count": 316,
   "metadata": {},
   "outputs": [],
   "source": [
    "mean_test_scores = grid_search.cv_results_['mean_test_score']\n",
    "params = grid_search.cv_results_['params']\n",
    "\n",
    "model_names = [type(param['clf']).__name__ for param in params]\n",
    "hyperparams = [str(param) for param in params]\n",
    "\n",
    "data = {'Model': model_names, 'Hyperparameters': hyperparams, 'F1 Score': mean_test_scores}\n",
    "df_scores = pd.DataFrame(data)\n"
   ]
  },
  {
   "cell_type": "code",
   "execution_count": 317,
   "metadata": {},
   "outputs": [
    {
     "data": {
      "text/html": [
       "<div>\n",
       "<style scoped>\n",
       "    .dataframe tbody tr th:only-of-type {\n",
       "        vertical-align: middle;\n",
       "    }\n",
       "\n",
       "    .dataframe tbody tr th {\n",
       "        vertical-align: top;\n",
       "    }\n",
       "\n",
       "    .dataframe thead th {\n",
       "        text-align: right;\n",
       "    }\n",
       "</style>\n",
       "<table border=\"1\" class=\"dataframe\">\n",
       "  <thead>\n",
       "    <tr style=\"text-align: right;\">\n",
       "      <th></th>\n",
       "      <th>Model</th>\n",
       "      <th>Hyperparameters</th>\n",
       "      <th>F1 Score</th>\n",
       "    </tr>\n",
       "  </thead>\n",
       "  <tbody>\n",
       "    <tr>\n",
       "      <th>0</th>\n",
       "      <td>LogisticRegression</td>\n",
       "      <td>{'clf': LogisticRegression(), 'clf__C': 0.01, ...</td>\n",
       "      <td>0.683804</td>\n",
       "    </tr>\n",
       "    <tr>\n",
       "      <th>1</th>\n",
       "      <td>LogisticRegression</td>\n",
       "      <td>{'clf': LogisticRegression(), 'clf__C': 0.0630...</td>\n",
       "      <td>0.663698</td>\n",
       "    </tr>\n",
       "    <tr>\n",
       "      <th>2</th>\n",
       "      <td>LogisticRegression</td>\n",
       "      <td>{'clf': LogisticRegression(), 'clf__C': 0.3981...</td>\n",
       "      <td>0.648429</td>\n",
       "    </tr>\n",
       "    <tr>\n",
       "      <th>3</th>\n",
       "      <td>LogisticRegression</td>\n",
       "      <td>{'clf': LogisticRegression(), 'clf__C': 2.5118...</td>\n",
       "      <td>0.644162</td>\n",
       "    </tr>\n",
       "    <tr>\n",
       "      <th>4</th>\n",
       "      <td>LogisticRegression</td>\n",
       "      <td>{'clf': LogisticRegression(), 'clf__C': 15.848...</td>\n",
       "      <td>0.639737</td>\n",
       "    </tr>\n",
       "    <tr>\n",
       "      <th>...</th>\n",
       "      <td>...</td>\n",
       "      <td>...</td>\n",
       "      <td>...</td>\n",
       "    </tr>\n",
       "    <tr>\n",
       "      <th>67</th>\n",
       "      <td>MLPClassifier</td>\n",
       "      <td>{'clf': MLPClassifier(hidden_layer_sizes=(128,...</td>\n",
       "      <td>0.688065</td>\n",
       "    </tr>\n",
       "    <tr>\n",
       "      <th>68</th>\n",
       "      <td>MLPClassifier</td>\n",
       "      <td>{'clf': MLPClassifier(hidden_layer_sizes=(128,...</td>\n",
       "      <td>0.678025</td>\n",
       "    </tr>\n",
       "    <tr>\n",
       "      <th>69</th>\n",
       "      <td>MLPClassifier</td>\n",
       "      <td>{'clf': MLPClassifier(hidden_layer_sizes=(128,...</td>\n",
       "      <td>0.684100</td>\n",
       "    </tr>\n",
       "    <tr>\n",
       "      <th>70</th>\n",
       "      <td>MLPClassifier</td>\n",
       "      <td>{'clf': MLPClassifier(hidden_layer_sizes=(128,...</td>\n",
       "      <td>0.682981</td>\n",
       "    </tr>\n",
       "    <tr>\n",
       "      <th>71</th>\n",
       "      <td>MLPClassifier</td>\n",
       "      <td>{'clf': MLPClassifier(hidden_layer_sizes=(128,...</td>\n",
       "      <td>0.689427</td>\n",
       "    </tr>\n",
       "  </tbody>\n",
       "</table>\n",
       "<p>72 rows × 3 columns</p>\n",
       "</div>"
      ],
      "text/plain": [
       "                 Model                                    Hyperparameters  \\\n",
       "0   LogisticRegression  {'clf': LogisticRegression(), 'clf__C': 0.01, ...   \n",
       "1   LogisticRegression  {'clf': LogisticRegression(), 'clf__C': 0.0630...   \n",
       "2   LogisticRegression  {'clf': LogisticRegression(), 'clf__C': 0.3981...   \n",
       "3   LogisticRegression  {'clf': LogisticRegression(), 'clf__C': 2.5118...   \n",
       "4   LogisticRegression  {'clf': LogisticRegression(), 'clf__C': 15.848...   \n",
       "..                 ...                                                ...   \n",
       "67       MLPClassifier  {'clf': MLPClassifier(hidden_layer_sizes=(128,...   \n",
       "68       MLPClassifier  {'clf': MLPClassifier(hidden_layer_sizes=(128,...   \n",
       "69       MLPClassifier  {'clf': MLPClassifier(hidden_layer_sizes=(128,...   \n",
       "70       MLPClassifier  {'clf': MLPClassifier(hidden_layer_sizes=(128,...   \n",
       "71       MLPClassifier  {'clf': MLPClassifier(hidden_layer_sizes=(128,...   \n",
       "\n",
       "    F1 Score  \n",
       "0   0.683804  \n",
       "1   0.663698  \n",
       "2   0.648429  \n",
       "3   0.644162  \n",
       "4   0.639737  \n",
       "..       ...  \n",
       "67  0.688065  \n",
       "68  0.678025  \n",
       "69  0.684100  \n",
       "70  0.682981  \n",
       "71  0.689427  \n",
       "\n",
       "[72 rows x 3 columns]"
      ]
     },
     "execution_count": 317,
     "metadata": {},
     "output_type": "execute_result"
    }
   ],
   "source": [
    "df_scores"
   ]
  },
  {
   "cell_type": "code",
   "execution_count": 318,
   "metadata": {},
   "outputs": [
    {
     "data": {
      "application/vnd.plotly.v1+json": {
       "config": {
        "plotlyServerURL": "https://plot.ly"
       },
       "data": [
        {
         "hovertemplate": "Hyperparameters={'clf': LogisticRegression(), 'clf__C': 0.01, 'clf__max_iter': 1000, 'clf__penalty': 'l2'}<br>Model=%{x}<br>F1 Score=%{y}<extra></extra>",
         "legendgroup": "{'clf': LogisticRegression(), 'clf__C': 0.01, 'clf__max_iter': 1000, 'clf__penalty': 'l2'}",
         "marker": {
          "color": "#636efa",
          "size": 12,
          "symbol": "circle"
         },
         "mode": "markers",
         "name": "{'clf': LogisticRegression(), 'clf__C': 0.01, 'clf__max_iter': 1000, 'clf__penalty': 'l2'}",
         "orientation": "v",
         "showlegend": true,
         "type": "scatter",
         "x": [
          "LogisticRegression"
         ],
         "xaxis": "x",
         "y": [
          0.6838044392329066
         ],
         "yaxis": "y"
        },
        {
         "hovertemplate": "Hyperparameters={'clf': LogisticRegression(), 'clf__C': 0.06309573444801933, 'clf__max_iter': 1000, 'clf__penalty': 'l2'}<br>Model=%{x}<br>F1 Score=%{y}<extra></extra>",
         "legendgroup": "{'clf': LogisticRegression(), 'clf__C': 0.06309573444801933, 'clf__max_iter': 1000, 'clf__penalty': 'l2'}",
         "marker": {
          "color": "#EF553B",
          "size": 12,
          "symbol": "circle"
         },
         "mode": "markers",
         "name": "{'clf': LogisticRegression(), 'clf__C': 0.06309573444801933, 'clf__max_iter': 1000, 'clf__penalty': 'l2'}",
         "orientation": "v",
         "showlegend": true,
         "type": "scatter",
         "x": [
          "LogisticRegression"
         ],
         "xaxis": "x",
         "y": [
          0.6636979361805324
         ],
         "yaxis": "y"
        },
        {
         "hovertemplate": "Hyperparameters={'clf': LogisticRegression(), 'clf__C': 0.3981071705534973, 'clf__max_iter': 1000, 'clf__penalty': 'l2'}<br>Model=%{x}<br>F1 Score=%{y}<extra></extra>",
         "legendgroup": "{'clf': LogisticRegression(), 'clf__C': 0.3981071705534973, 'clf__max_iter': 1000, 'clf__penalty': 'l2'}",
         "marker": {
          "color": "#00cc96",
          "size": 12,
          "symbol": "circle"
         },
         "mode": "markers",
         "name": "{'clf': LogisticRegression(), 'clf__C': 0.3981071705534973, 'clf__max_iter': 1000, 'clf__penalty': 'l2'}",
         "orientation": "v",
         "showlegend": true,
         "type": "scatter",
         "x": [
          "LogisticRegression"
         ],
         "xaxis": "x",
         "y": [
          0.6484287049956239
         ],
         "yaxis": "y"
        },
        {
         "hovertemplate": "Hyperparameters={'clf': LogisticRegression(), 'clf__C': 2.5118864315095824, 'clf__max_iter': 1000, 'clf__penalty': 'l2'}<br>Model=%{x}<br>F1 Score=%{y}<extra></extra>",
         "legendgroup": "{'clf': LogisticRegression(), 'clf__C': 2.5118864315095824, 'clf__max_iter': 1000, 'clf__penalty': 'l2'}",
         "marker": {
          "color": "#ab63fa",
          "size": 12,
          "symbol": "circle"
         },
         "mode": "markers",
         "name": "{'clf': LogisticRegression(), 'clf__C': 2.5118864315095824, 'clf__max_iter': 1000, 'clf__penalty': 'l2'}",
         "orientation": "v",
         "showlegend": true,
         "type": "scatter",
         "x": [
          "LogisticRegression"
         ],
         "xaxis": "x",
         "y": [
          0.6441618140664893
         ],
         "yaxis": "y"
        },
        {
         "hovertemplate": "Hyperparameters={'clf': LogisticRegression(), 'clf__C': 15.848931924611142, 'clf__max_iter': 1000, 'clf__penalty': 'l2'}<br>Model=%{x}<br>F1 Score=%{y}<extra></extra>",
         "legendgroup": "{'clf': LogisticRegression(), 'clf__C': 15.848931924611142, 'clf__max_iter': 1000, 'clf__penalty': 'l2'}",
         "marker": {
          "color": "#FFA15A",
          "size": 12,
          "symbol": "circle"
         },
         "mode": "markers",
         "name": "{'clf': LogisticRegression(), 'clf__C': 15.848931924611142, 'clf__max_iter': 1000, 'clf__penalty': 'l2'}",
         "orientation": "v",
         "showlegend": true,
         "type": "scatter",
         "x": [
          "LogisticRegression"
         ],
         "xaxis": "x",
         "y": [
          0.6397371528315267
         ],
         "yaxis": "y"
        },
        {
         "hovertemplate": "Hyperparameters={'clf': LogisticRegression(), 'clf__C': 100.0, 'clf__max_iter': 1000, 'clf__penalty': 'l2'}<br>Model=%{x}<br>F1 Score=%{y}<extra></extra>",
         "legendgroup": "{'clf': LogisticRegression(), 'clf__C': 100.0, 'clf__max_iter': 1000, 'clf__penalty': 'l2'}",
         "marker": {
          "color": "#19d3f3",
          "size": 12,
          "symbol": "circle"
         },
         "mode": "markers",
         "name": "{'clf': LogisticRegression(), 'clf__C': 100.0, 'clf__max_iter': 1000, 'clf__penalty': 'l2'}",
         "orientation": "v",
         "showlegend": true,
         "type": "scatter",
         "x": [
          "LogisticRegression"
         ],
         "xaxis": "x",
         "y": [
          0.6404479686357575
         ],
         "yaxis": "y"
        },
        {
         "hovertemplate": "Hyperparameters={'clf': RandomForestClassifier(), 'clf__max_depth': None, 'clf__n_estimators': 100}<br>Model=%{x}<br>F1 Score=%{y}<extra></extra>",
         "legendgroup": "{'clf': RandomForestClassifier(), 'clf__max_depth': None, 'clf__n_estimators': 100}",
         "marker": {
          "color": "#FF6692",
          "size": 12,
          "symbol": "circle"
         },
         "mode": "markers",
         "name": "{'clf': RandomForestClassifier(), 'clf__max_depth': None, 'clf__n_estimators': 100}",
         "orientation": "v",
         "showlegend": true,
         "type": "scatter",
         "x": [
          "RandomForestClassifier"
         ],
         "xaxis": "x",
         "y": [
          0.5878541579450135
         ],
         "yaxis": "y"
        },
        {
         "hovertemplate": "Hyperparameters={'clf': RandomForestClassifier(), 'clf__max_depth': None, 'clf__n_estimators': 200}<br>Model=%{x}<br>F1 Score=%{y}<extra></extra>",
         "legendgroup": "{'clf': RandomForestClassifier(), 'clf__max_depth': None, 'clf__n_estimators': 200}",
         "marker": {
          "color": "#B6E880",
          "size": 12,
          "symbol": "circle"
         },
         "mode": "markers",
         "name": "{'clf': RandomForestClassifier(), 'clf__max_depth': None, 'clf__n_estimators': 200}",
         "orientation": "v",
         "showlegend": true,
         "type": "scatter",
         "x": [
          "RandomForestClassifier"
         ],
         "xaxis": "x",
         "y": [
          0.5835306188331353
         ],
         "yaxis": "y"
        },
        {
         "hovertemplate": "Hyperparameters={'clf': RandomForestClassifier(), 'clf__max_depth': None, 'clf__n_estimators': 500}<br>Model=%{x}<br>F1 Score=%{y}<extra></extra>",
         "legendgroup": "{'clf': RandomForestClassifier(), 'clf__max_depth': None, 'clf__n_estimators': 500}",
         "marker": {
          "color": "#FF97FF",
          "size": 12,
          "symbol": "circle"
         },
         "mode": "markers",
         "name": "{'clf': RandomForestClassifier(), 'clf__max_depth': None, 'clf__n_estimators': 500}",
         "orientation": "v",
         "showlegend": true,
         "type": "scatter",
         "x": [
          "RandomForestClassifier"
         ],
         "xaxis": "x",
         "y": [
          0.5818348055330682
         ],
         "yaxis": "y"
        },
        {
         "hovertemplate": "Hyperparameters={'clf': RandomForestClassifier(), 'clf__max_depth': 10, 'clf__n_estimators': 100}<br>Model=%{x}<br>F1 Score=%{y}<extra></extra>",
         "legendgroup": "{'clf': RandomForestClassifier(), 'clf__max_depth': 10, 'clf__n_estimators': 100}",
         "marker": {
          "color": "#FECB52",
          "size": 12,
          "symbol": "circle"
         },
         "mode": "markers",
         "name": "{'clf': RandomForestClassifier(), 'clf__max_depth': 10, 'clf__n_estimators': 100}",
         "orientation": "v",
         "showlegend": true,
         "type": "scatter",
         "x": [
          "RandomForestClassifier"
         ],
         "xaxis": "x",
         "y": [
          0.5607574949904315
         ],
         "yaxis": "y"
        },
        {
         "hovertemplate": "Hyperparameters={'clf': RandomForestClassifier(), 'clf__max_depth': 10, 'clf__n_estimators': 200}<br>Model=%{x}<br>F1 Score=%{y}<extra></extra>",
         "legendgroup": "{'clf': RandomForestClassifier(), 'clf__max_depth': 10, 'clf__n_estimators': 200}",
         "marker": {
          "color": "#636efa",
          "size": 12,
          "symbol": "circle"
         },
         "mode": "markers",
         "name": "{'clf': RandomForestClassifier(), 'clf__max_depth': 10, 'clf__n_estimators': 200}",
         "orientation": "v",
         "showlegend": true,
         "type": "scatter",
         "x": [
          "RandomForestClassifier"
         ],
         "xaxis": "x",
         "y": [
          0.5679491589016784
         ],
         "yaxis": "y"
        },
        {
         "hovertemplate": "Hyperparameters={'clf': RandomForestClassifier(), 'clf__max_depth': 10, 'clf__n_estimators': 500}<br>Model=%{x}<br>F1 Score=%{y}<extra></extra>",
         "legendgroup": "{'clf': RandomForestClassifier(), 'clf__max_depth': 10, 'clf__n_estimators': 500}",
         "marker": {
          "color": "#EF553B",
          "size": 12,
          "symbol": "circle"
         },
         "mode": "markers",
         "name": "{'clf': RandomForestClassifier(), 'clf__max_depth': 10, 'clf__n_estimators': 500}",
         "orientation": "v",
         "showlegend": true,
         "type": "scatter",
         "x": [
          "RandomForestClassifier"
         ],
         "xaxis": "x",
         "y": [
          0.5607927444593281
         ],
         "yaxis": "y"
        },
        {
         "hovertemplate": "Hyperparameters={'clf': RandomForestClassifier(), 'clf__max_depth': 20, 'clf__n_estimators': 100}<br>Model=%{x}<br>F1 Score=%{y}<extra></extra>",
         "legendgroup": "{'clf': RandomForestClassifier(), 'clf__max_depth': 20, 'clf__n_estimators': 100}",
         "marker": {
          "color": "#00cc96",
          "size": 12,
          "symbol": "circle"
         },
         "mode": "markers",
         "name": "{'clf': RandomForestClassifier(), 'clf__max_depth': 20, 'clf__n_estimators': 100}",
         "orientation": "v",
         "showlegend": true,
         "type": "scatter",
         "x": [
          "RandomForestClassifier"
         ],
         "xaxis": "x",
         "y": [
          0.5835573151519716
         ],
         "yaxis": "y"
        },
        {
         "hovertemplate": "Hyperparameters={'clf': RandomForestClassifier(), 'clf__max_depth': 20, 'clf__n_estimators': 200}<br>Model=%{x}<br>F1 Score=%{y}<extra></extra>",
         "legendgroup": "{'clf': RandomForestClassifier(), 'clf__max_depth': 20, 'clf__n_estimators': 200}",
         "marker": {
          "color": "#ab63fa",
          "size": 12,
          "symbol": "circle"
         },
         "mode": "markers",
         "name": "{'clf': RandomForestClassifier(), 'clf__max_depth': 20, 'clf__n_estimators': 200}",
         "orientation": "v",
         "showlegend": true,
         "type": "scatter",
         "x": [
          "RandomForestClassifier"
         ],
         "xaxis": "x",
         "y": [
          0.5798150972685613
         ],
         "yaxis": "y"
        },
        {
         "hovertemplate": "Hyperparameters={'clf': RandomForestClassifier(), 'clf__max_depth': 20, 'clf__n_estimators': 500}<br>Model=%{x}<br>F1 Score=%{y}<extra></extra>",
         "legendgroup": "{'clf': RandomForestClassifier(), 'clf__max_depth': 20, 'clf__n_estimators': 500}",
         "marker": {
          "color": "#FFA15A",
          "size": 12,
          "symbol": "circle"
         },
         "mode": "markers",
         "name": "{'clf': RandomForestClassifier(), 'clf__max_depth': 20, 'clf__n_estimators': 500}",
         "orientation": "v",
         "showlegend": true,
         "type": "scatter",
         "x": [
          "RandomForestClassifier"
         ],
         "xaxis": "x",
         "y": [
          0.5874781053952861
         ],
         "yaxis": "y"
        },
        {
         "hovertemplate": "Hyperparameters={'clf': RandomForestClassifier(), 'clf__max_depth': 30, 'clf__n_estimators': 100}<br>Model=%{x}<br>F1 Score=%{y}<extra></extra>",
         "legendgroup": "{'clf': RandomForestClassifier(), 'clf__max_depth': 30, 'clf__n_estimators': 100}",
         "marker": {
          "color": "#19d3f3",
          "size": 12,
          "symbol": "circle"
         },
         "mode": "markers",
         "name": "{'clf': RandomForestClassifier(), 'clf__max_depth': 30, 'clf__n_estimators': 100}",
         "orientation": "v",
         "showlegend": true,
         "type": "scatter",
         "x": [
          "RandomForestClassifier"
         ],
         "xaxis": "x",
         "y": [
          0.5734521042503797
         ],
         "yaxis": "y"
        },
        {
         "hovertemplate": "Hyperparameters={'clf': RandomForestClassifier(), 'clf__max_depth': 30, 'clf__n_estimators': 200}<br>Model=%{x}<br>F1 Score=%{y}<extra></extra>",
         "legendgroup": "{'clf': RandomForestClassifier(), 'clf__max_depth': 30, 'clf__n_estimators': 200}",
         "marker": {
          "color": "#FF6692",
          "size": 12,
          "symbol": "circle"
         },
         "mode": "markers",
         "name": "{'clf': RandomForestClassifier(), 'clf__max_depth': 30, 'clf__n_estimators': 200}",
         "orientation": "v",
         "showlegend": true,
         "type": "scatter",
         "x": [
          "RandomForestClassifier"
         ],
         "xaxis": "x",
         "y": [
          0.582864953911899
         ],
         "yaxis": "y"
        },
        {
         "hovertemplate": "Hyperparameters={'clf': RandomForestClassifier(), 'clf__max_depth': 30, 'clf__n_estimators': 500}<br>Model=%{x}<br>F1 Score=%{y}<extra></extra>",
         "legendgroup": "{'clf': RandomForestClassifier(), 'clf__max_depth': 30, 'clf__n_estimators': 500}",
         "marker": {
          "color": "#B6E880",
          "size": 12,
          "symbol": "circle"
         },
         "mode": "markers",
         "name": "{'clf': RandomForestClassifier(), 'clf__max_depth': 30, 'clf__n_estimators': 500}",
         "orientation": "v",
         "showlegend": true,
         "type": "scatter",
         "x": [
          "RandomForestClassifier"
         ],
         "xaxis": "x",
         "y": [
          0.5895858356470906
         ],
         "yaxis": "y"
        },
        {
         "hovertemplate": "Hyperparameters={'clf': MLPClassifier(hidden_layer_sizes=(128, 128), max_iter=300), 'clf__activation': 'relu', 'clf__hidden_layer_sizes': (32, 32), 'clf__learning_rate': 'constant', 'clf__max_iter': 200}<br>Model=%{x}<br>F1 Score=%{y}<extra></extra>",
         "legendgroup": "{'clf': MLPClassifier(hidden_layer_sizes=(128, 128), max_iter=300), 'clf__activation': 'relu', 'clf__hidden_layer_sizes': (32, 32), 'clf__learning_rate': 'constant', 'clf__max_iter': 200}",
         "marker": {
          "color": "#FF97FF",
          "size": 12,
          "symbol": "circle"
         },
         "mode": "markers",
         "name": "{'clf': MLPClassifier(hidden_layer_sizes=(128, 128), max_iter=300), 'clf__activation': 'relu', 'clf__hidden_layer_sizes': (32, 32), 'clf__learning_rate': 'constant', 'clf__max_iter': 200}",
         "orientation": "v",
         "showlegend": true,
         "type": "scatter",
         "x": [
          "MLPClassifier"
         ],
         "xaxis": "x",
         "y": [
          0.6910350729802885
         ],
         "yaxis": "y"
        },
        {
         "hovertemplate": "Hyperparameters={'clf': MLPClassifier(hidden_layer_sizes=(128, 128), max_iter=300), 'clf__activation': 'relu', 'clf__hidden_layer_sizes': (32, 32), 'clf__learning_rate': 'constant', 'clf__max_iter': 300}<br>Model=%{x}<br>F1 Score=%{y}<extra></extra>",
         "legendgroup": "{'clf': MLPClassifier(hidden_layer_sizes=(128, 128), max_iter=300), 'clf__activation': 'relu', 'clf__hidden_layer_sizes': (32, 32), 'clf__learning_rate': 'constant', 'clf__max_iter': 300}",
         "marker": {
          "color": "#FECB52",
          "size": 12,
          "symbol": "circle"
         },
         "mode": "markers",
         "name": "{'clf': MLPClassifier(hidden_layer_sizes=(128, 128), max_iter=300), 'clf__activation': 'relu', 'clf__hidden_layer_sizes': (32, 32), 'clf__learning_rate': 'constant', 'clf__max_iter': 300}",
         "orientation": "v",
         "showlegend": true,
         "type": "scatter",
         "x": [
          "MLPClassifier"
         ],
         "xaxis": "x",
         "y": [
          0.6817617705811081
         ],
         "yaxis": "y"
        },
        {
         "hovertemplate": "Hyperparameters={'clf': MLPClassifier(hidden_layer_sizes=(128, 128), max_iter=300), 'clf__activation': 'relu', 'clf__hidden_layer_sizes': (32, 32), 'clf__learning_rate': 'constant', 'clf__max_iter': 400}<br>Model=%{x}<br>F1 Score=%{y}<extra></extra>",
         "legendgroup": "{'clf': MLPClassifier(hidden_layer_sizes=(128, 128), max_iter=300), 'clf__activation': 'relu', 'clf__hidden_layer_sizes': (32, 32), 'clf__learning_rate': 'constant', 'clf__max_iter': 400}",
         "marker": {
          "color": "#636efa",
          "size": 12,
          "symbol": "circle"
         },
         "mode": "markers",
         "name": "{'clf': MLPClassifier(hidden_layer_sizes=(128, 128), max_iter=300), 'clf__activation': 'relu', 'clf__hidden_layer_sizes': (32, 32), 'clf__learning_rate': 'constant', 'clf__max_iter': 400}",
         "orientation": "v",
         "showlegend": true,
         "type": "scatter",
         "x": [
          "MLPClassifier"
         ],
         "xaxis": "x",
         "y": [
          0.6974023524013905
         ],
         "yaxis": "y"
        },
        {
         "hovertemplate": "Hyperparameters={'clf': MLPClassifier(hidden_layer_sizes=(128, 128), max_iter=300), 'clf__activation': 'relu', 'clf__hidden_layer_sizes': (32, 32), 'clf__learning_rate': 'invscaling', 'clf__max_iter': 200}<br>Model=%{x}<br>F1 Score=%{y}<extra></extra>",
         "legendgroup": "{'clf': MLPClassifier(hidden_layer_sizes=(128, 128), max_iter=300), 'clf__activation': 'relu', 'clf__hidden_layer_sizes': (32, 32), 'clf__learning_rate': 'invscaling', 'clf__max_iter': 200}",
         "marker": {
          "color": "#EF553B",
          "size": 12,
          "symbol": "circle"
         },
         "mode": "markers",
         "name": "{'clf': MLPClassifier(hidden_layer_sizes=(128, 128), max_iter=300), 'clf__activation': 'relu', 'clf__hidden_layer_sizes': (32, 32), 'clf__learning_rate': 'invscaling', 'clf__max_iter': 200}",
         "orientation": "v",
         "showlegend": true,
         "type": "scatter",
         "x": [
          "MLPClassifier"
         ],
         "xaxis": "x",
         "y": [
          0.6916953427244332
         ],
         "yaxis": "y"
        },
        {
         "hovertemplate": "Hyperparameters={'clf': MLPClassifier(hidden_layer_sizes=(128, 128), max_iter=300), 'clf__activation': 'relu', 'clf__hidden_layer_sizes': (32, 32), 'clf__learning_rate': 'invscaling', 'clf__max_iter': 300}<br>Model=%{x}<br>F1 Score=%{y}<extra></extra>",
         "legendgroup": "{'clf': MLPClassifier(hidden_layer_sizes=(128, 128), max_iter=300), 'clf__activation': 'relu', 'clf__hidden_layer_sizes': (32, 32), 'clf__learning_rate': 'invscaling', 'clf__max_iter': 300}",
         "marker": {
          "color": "#00cc96",
          "size": 12,
          "symbol": "circle"
         },
         "mode": "markers",
         "name": "{'clf': MLPClassifier(hidden_layer_sizes=(128, 128), max_iter=300), 'clf__activation': 'relu', 'clf__hidden_layer_sizes': (32, 32), 'clf__learning_rate': 'invscaling', 'clf__max_iter': 300}",
         "orientation": "v",
         "showlegend": true,
         "type": "scatter",
         "x": [
          "MLPClassifier"
         ],
         "xaxis": "x",
         "y": [
          0.6907302396439648
         ],
         "yaxis": "y"
        },
        {
         "hovertemplate": "Hyperparameters={'clf': MLPClassifier(hidden_layer_sizes=(128, 128), max_iter=300), 'clf__activation': 'relu', 'clf__hidden_layer_sizes': (32, 32), 'clf__learning_rate': 'invscaling', 'clf__max_iter': 400}<br>Model=%{x}<br>F1 Score=%{y}<extra></extra>",
         "legendgroup": "{'clf': MLPClassifier(hidden_layer_sizes=(128, 128), max_iter=300), 'clf__activation': 'relu', 'clf__hidden_layer_sizes': (32, 32), 'clf__learning_rate': 'invscaling', 'clf__max_iter': 400}",
         "marker": {
          "color": "#ab63fa",
          "size": 12,
          "symbol": "circle"
         },
         "mode": "markers",
         "name": "{'clf': MLPClassifier(hidden_layer_sizes=(128, 128), max_iter=300), 'clf__activation': 'relu', 'clf__hidden_layer_sizes': (32, 32), 'clf__learning_rate': 'invscaling', 'clf__max_iter': 400}",
         "orientation": "v",
         "showlegend": true,
         "type": "scatter",
         "x": [
          "MLPClassifier"
         ],
         "xaxis": "x",
         "y": [
          0.6901134279216901
         ],
         "yaxis": "y"
        },
        {
         "hovertemplate": "Hyperparameters={'clf': MLPClassifier(hidden_layer_sizes=(128, 128), max_iter=300), 'clf__activation': 'relu', 'clf__hidden_layer_sizes': (32, 32), 'clf__learning_rate': 'adaptive', 'clf__max_iter': 200}<br>Model=%{x}<br>F1 Score=%{y}<extra></extra>",
         "legendgroup": "{'clf': MLPClassifier(hidden_layer_sizes=(128, 128), max_iter=300), 'clf__activation': 'relu', 'clf__hidden_layer_sizes': (32, 32), 'clf__learning_rate': 'adaptive', 'clf__max_iter': 200}",
         "marker": {
          "color": "#FFA15A",
          "size": 12,
          "symbol": "circle"
         },
         "mode": "markers",
         "name": "{'clf': MLPClassifier(hidden_layer_sizes=(128, 128), max_iter=300), 'clf__activation': 'relu', 'clf__hidden_layer_sizes': (32, 32), 'clf__learning_rate': 'adaptive', 'clf__max_iter': 200}",
         "orientation": "v",
         "showlegend": true,
         "type": "scatter",
         "x": [
          "MLPClassifier"
         ],
         "xaxis": "x",
         "y": [
          0.6878777558066015
         ],
         "yaxis": "y"
        },
        {
         "hovertemplate": "Hyperparameters={'clf': MLPClassifier(hidden_layer_sizes=(128, 128), max_iter=300), 'clf__activation': 'relu', 'clf__hidden_layer_sizes': (32, 32), 'clf__learning_rate': 'adaptive', 'clf__max_iter': 300}<br>Model=%{x}<br>F1 Score=%{y}<extra></extra>",
         "legendgroup": "{'clf': MLPClassifier(hidden_layer_sizes=(128, 128), max_iter=300), 'clf__activation': 'relu', 'clf__hidden_layer_sizes': (32, 32), 'clf__learning_rate': 'adaptive', 'clf__max_iter': 300}",
         "marker": {
          "color": "#19d3f3",
          "size": 12,
          "symbol": "circle"
         },
         "mode": "markers",
         "name": "{'clf': MLPClassifier(hidden_layer_sizes=(128, 128), max_iter=300), 'clf__activation': 'relu', 'clf__hidden_layer_sizes': (32, 32), 'clf__learning_rate': 'adaptive', 'clf__max_iter': 300}",
         "orientation": "v",
         "showlegend": true,
         "type": "scatter",
         "x": [
          "MLPClassifier"
         ],
         "xaxis": "x",
         "y": [
          0.6824627962877348
         ],
         "yaxis": "y"
        },
        {
         "hovertemplate": "Hyperparameters={'clf': MLPClassifier(hidden_layer_sizes=(128, 128), max_iter=300), 'clf__activation': 'relu', 'clf__hidden_layer_sizes': (32, 32), 'clf__learning_rate': 'adaptive', 'clf__max_iter': 400}<br>Model=%{x}<br>F1 Score=%{y}<extra></extra>",
         "legendgroup": "{'clf': MLPClassifier(hidden_layer_sizes=(128, 128), max_iter=300), 'clf__activation': 'relu', 'clf__hidden_layer_sizes': (32, 32), 'clf__learning_rate': 'adaptive', 'clf__max_iter': 400}",
         "marker": {
          "color": "#FF6692",
          "size": 12,
          "symbol": "circle"
         },
         "mode": "markers",
         "name": "{'clf': MLPClassifier(hidden_layer_sizes=(128, 128), max_iter=300), 'clf__activation': 'relu', 'clf__hidden_layer_sizes': (32, 32), 'clf__learning_rate': 'adaptive', 'clf__max_iter': 400}",
         "orientation": "v",
         "showlegend": true,
         "type": "scatter",
         "x": [
          "MLPClassifier"
         ],
         "xaxis": "x",
         "y": [
          0.6937361184013398
         ],
         "yaxis": "y"
        },
        {
         "hovertemplate": "Hyperparameters={'clf': MLPClassifier(hidden_layer_sizes=(128, 128), max_iter=300), 'clf__activation': 'relu', 'clf__hidden_layer_sizes': (64, 64), 'clf__learning_rate': 'constant', 'clf__max_iter': 200}<br>Model=%{x}<br>F1 Score=%{y}<extra></extra>",
         "legendgroup": "{'clf': MLPClassifier(hidden_layer_sizes=(128, 128), max_iter=300), 'clf__activation': 'relu', 'clf__hidden_layer_sizes': (64, 64), 'clf__learning_rate': 'constant', 'clf__max_iter': 200}",
         "marker": {
          "color": "#B6E880",
          "size": 12,
          "symbol": "circle"
         },
         "mode": "markers",
         "name": "{'clf': MLPClassifier(hidden_layer_sizes=(128, 128), max_iter=300), 'clf__activation': 'relu', 'clf__hidden_layer_sizes': (64, 64), 'clf__learning_rate': 'constant', 'clf__max_iter': 200}",
         "orientation": "v",
         "showlegend": true,
         "type": "scatter",
         "x": [
          "MLPClassifier"
         ],
         "xaxis": "x",
         "y": [
          0.7041845238544778
         ],
         "yaxis": "y"
        },
        {
         "hovertemplate": "Hyperparameters={'clf': MLPClassifier(hidden_layer_sizes=(128, 128), max_iter=300), 'clf__activation': 'relu', 'clf__hidden_layer_sizes': (64, 64), 'clf__learning_rate': 'constant', 'clf__max_iter': 300}<br>Model=%{x}<br>F1 Score=%{y}<extra></extra>",
         "legendgroup": "{'clf': MLPClassifier(hidden_layer_sizes=(128, 128), max_iter=300), 'clf__activation': 'relu', 'clf__hidden_layer_sizes': (64, 64), 'clf__learning_rate': 'constant', 'clf__max_iter': 300}",
         "marker": {
          "color": "#FF97FF",
          "size": 12,
          "symbol": "circle"
         },
         "mode": "markers",
         "name": "{'clf': MLPClassifier(hidden_layer_sizes=(128, 128), max_iter=300), 'clf__activation': 'relu', 'clf__hidden_layer_sizes': (64, 64), 'clf__learning_rate': 'constant', 'clf__max_iter': 300}",
         "orientation": "v",
         "showlegend": true,
         "type": "scatter",
         "x": [
          "MLPClassifier"
         ],
         "xaxis": "x",
         "y": [
          0.7020903436944478
         ],
         "yaxis": "y"
        },
        {
         "hovertemplate": "Hyperparameters={'clf': MLPClassifier(hidden_layer_sizes=(128, 128), max_iter=300), 'clf__activation': 'relu', 'clf__hidden_layer_sizes': (64, 64), 'clf__learning_rate': 'constant', 'clf__max_iter': 400}<br>Model=%{x}<br>F1 Score=%{y}<extra></extra>",
         "legendgroup": "{'clf': MLPClassifier(hidden_layer_sizes=(128, 128), max_iter=300), 'clf__activation': 'relu', 'clf__hidden_layer_sizes': (64, 64), 'clf__learning_rate': 'constant', 'clf__max_iter': 400}",
         "marker": {
          "color": "#FECB52",
          "size": 12,
          "symbol": "circle"
         },
         "mode": "markers",
         "name": "{'clf': MLPClassifier(hidden_layer_sizes=(128, 128), max_iter=300), 'clf__activation': 'relu', 'clf__hidden_layer_sizes': (64, 64), 'clf__learning_rate': 'constant', 'clf__max_iter': 400}",
         "orientation": "v",
         "showlegend": true,
         "type": "scatter",
         "x": [
          "MLPClassifier"
         ],
         "xaxis": "x",
         "y": [
          0.7006394620772772
         ],
         "yaxis": "y"
        },
        {
         "hovertemplate": "Hyperparameters={'clf': MLPClassifier(hidden_layer_sizes=(128, 128), max_iter=300), 'clf__activation': 'relu', 'clf__hidden_layer_sizes': (64, 64), 'clf__learning_rate': 'invscaling', 'clf__max_iter': 200}<br>Model=%{x}<br>F1 Score=%{y}<extra></extra>",
         "legendgroup": "{'clf': MLPClassifier(hidden_layer_sizes=(128, 128), max_iter=300), 'clf__activation': 'relu', 'clf__hidden_layer_sizes': (64, 64), 'clf__learning_rate': 'invscaling', 'clf__max_iter': 200}",
         "marker": {
          "color": "#636efa",
          "size": 12,
          "symbol": "circle"
         },
         "mode": "markers",
         "name": "{'clf': MLPClassifier(hidden_layer_sizes=(128, 128), max_iter=300), 'clf__activation': 'relu', 'clf__hidden_layer_sizes': (64, 64), 'clf__learning_rate': 'invscaling', 'clf__max_iter': 200}",
         "orientation": "v",
         "showlegend": true,
         "type": "scatter",
         "x": [
          "MLPClassifier"
         ],
         "xaxis": "x",
         "y": [
          0.7008187259224602
         ],
         "yaxis": "y"
        },
        {
         "hovertemplate": "Hyperparameters={'clf': MLPClassifier(hidden_layer_sizes=(128, 128), max_iter=300), 'clf__activation': 'relu', 'clf__hidden_layer_sizes': (64, 64), 'clf__learning_rate': 'invscaling', 'clf__max_iter': 300}<br>Model=%{x}<br>F1 Score=%{y}<extra></extra>",
         "legendgroup": "{'clf': MLPClassifier(hidden_layer_sizes=(128, 128), max_iter=300), 'clf__activation': 'relu', 'clf__hidden_layer_sizes': (64, 64), 'clf__learning_rate': 'invscaling', 'clf__max_iter': 300}",
         "marker": {
          "color": "#EF553B",
          "size": 12,
          "symbol": "circle"
         },
         "mode": "markers",
         "name": "{'clf': MLPClassifier(hidden_layer_sizes=(128, 128), max_iter=300), 'clf__activation': 'relu', 'clf__hidden_layer_sizes': (64, 64), 'clf__learning_rate': 'invscaling', 'clf__max_iter': 300}",
         "orientation": "v",
         "showlegend": true,
         "type": "scatter",
         "x": [
          "MLPClassifier"
         ],
         "xaxis": "x",
         "y": [
          0.7034798484193303
         ],
         "yaxis": "y"
        },
        {
         "hovertemplate": "Hyperparameters={'clf': MLPClassifier(hidden_layer_sizes=(128, 128), max_iter=300), 'clf__activation': 'relu', 'clf__hidden_layer_sizes': (64, 64), 'clf__learning_rate': 'invscaling', 'clf__max_iter': 400}<br>Model=%{x}<br>F1 Score=%{y}<extra></extra>",
         "legendgroup": "{'clf': MLPClassifier(hidden_layer_sizes=(128, 128), max_iter=300), 'clf__activation': 'relu', 'clf__hidden_layer_sizes': (64, 64), 'clf__learning_rate': 'invscaling', 'clf__max_iter': 400}",
         "marker": {
          "color": "#00cc96",
          "size": 12,
          "symbol": "circle"
         },
         "mode": "markers",
         "name": "{'clf': MLPClassifier(hidden_layer_sizes=(128, 128), max_iter=300), 'clf__activation': 'relu', 'clf__hidden_layer_sizes': (64, 64), 'clf__learning_rate': 'invscaling', 'clf__max_iter': 400}",
         "orientation": "v",
         "showlegend": true,
         "type": "scatter",
         "x": [
          "MLPClassifier"
         ],
         "xaxis": "x",
         "y": [
          0.7001326795988841
         ],
         "yaxis": "y"
        },
        {
         "hovertemplate": "Hyperparameters={'clf': MLPClassifier(hidden_layer_sizes=(128, 128), max_iter=300), 'clf__activation': 'relu', 'clf__hidden_layer_sizes': (64, 64), 'clf__learning_rate': 'adaptive', 'clf__max_iter': 200}<br>Model=%{x}<br>F1 Score=%{y}<extra></extra>",
         "legendgroup": "{'clf': MLPClassifier(hidden_layer_sizes=(128, 128), max_iter=300), 'clf__activation': 'relu', 'clf__hidden_layer_sizes': (64, 64), 'clf__learning_rate': 'adaptive', 'clf__max_iter': 200}",
         "marker": {
          "color": "#ab63fa",
          "size": 12,
          "symbol": "circle"
         },
         "mode": "markers",
         "name": "{'clf': MLPClassifier(hidden_layer_sizes=(128, 128), max_iter=300), 'clf__activation': 'relu', 'clf__hidden_layer_sizes': (64, 64), 'clf__learning_rate': 'adaptive', 'clf__max_iter': 200}",
         "orientation": "v",
         "showlegend": true,
         "type": "scatter",
         "x": [
          "MLPClassifier"
         ],
         "xaxis": "x",
         "y": [
          0.7084041397835372
         ],
         "yaxis": "y"
        },
        {
         "hovertemplate": "Hyperparameters={'clf': MLPClassifier(hidden_layer_sizes=(128, 128), max_iter=300), 'clf__activation': 'relu', 'clf__hidden_layer_sizes': (64, 64), 'clf__learning_rate': 'adaptive', 'clf__max_iter': 300}<br>Model=%{x}<br>F1 Score=%{y}<extra></extra>",
         "legendgroup": "{'clf': MLPClassifier(hidden_layer_sizes=(128, 128), max_iter=300), 'clf__activation': 'relu', 'clf__hidden_layer_sizes': (64, 64), 'clf__learning_rate': 'adaptive', 'clf__max_iter': 300}",
         "marker": {
          "color": "#FFA15A",
          "size": 12,
          "symbol": "circle"
         },
         "mode": "markers",
         "name": "{'clf': MLPClassifier(hidden_layer_sizes=(128, 128), max_iter=300), 'clf__activation': 'relu', 'clf__hidden_layer_sizes': (64, 64), 'clf__learning_rate': 'adaptive', 'clf__max_iter': 300}",
         "orientation": "v",
         "showlegend": true,
         "type": "scatter",
         "x": [
          "MLPClassifier"
         ],
         "xaxis": "x",
         "y": [
          0.7002624761353344
         ],
         "yaxis": "y"
        },
        {
         "hovertemplate": "Hyperparameters={'clf': MLPClassifier(hidden_layer_sizes=(128, 128), max_iter=300), 'clf__activation': 'relu', 'clf__hidden_layer_sizes': (64, 64), 'clf__learning_rate': 'adaptive', 'clf__max_iter': 400}<br>Model=%{x}<br>F1 Score=%{y}<extra></extra>",
         "legendgroup": "{'clf': MLPClassifier(hidden_layer_sizes=(128, 128), max_iter=300), 'clf__activation': 'relu', 'clf__hidden_layer_sizes': (64, 64), 'clf__learning_rate': 'adaptive', 'clf__max_iter': 400}",
         "marker": {
          "color": "#19d3f3",
          "size": 12,
          "symbol": "circle"
         },
         "mode": "markers",
         "name": "{'clf': MLPClassifier(hidden_layer_sizes=(128, 128), max_iter=300), 'clf__activation': 'relu', 'clf__hidden_layer_sizes': (64, 64), 'clf__learning_rate': 'adaptive', 'clf__max_iter': 400}",
         "orientation": "v",
         "showlegend": true,
         "type": "scatter",
         "x": [
          "MLPClassifier"
         ],
         "xaxis": "x",
         "y": [
          0.7048019136067178
         ],
         "yaxis": "y"
        },
        {
         "hovertemplate": "Hyperparameters={'clf': MLPClassifier(hidden_layer_sizes=(128, 128), max_iter=300), 'clf__activation': 'relu', 'clf__hidden_layer_sizes': (128, 128), 'clf__learning_rate': 'constant', 'clf__max_iter': 200}<br>Model=%{x}<br>F1 Score=%{y}<extra></extra>",
         "legendgroup": "{'clf': MLPClassifier(hidden_layer_sizes=(128, 128), max_iter=300), 'clf__activation': 'relu', 'clf__hidden_layer_sizes': (128, 128), 'clf__learning_rate': 'constant', 'clf__max_iter': 200}",
         "marker": {
          "color": "#FF6692",
          "size": 12,
          "symbol": "circle"
         },
         "mode": "markers",
         "name": "{'clf': MLPClassifier(hidden_layer_sizes=(128, 128), max_iter=300), 'clf__activation': 'relu', 'clf__hidden_layer_sizes': (128, 128), 'clf__learning_rate': 'constant', 'clf__max_iter': 200}",
         "orientation": "v",
         "showlegend": true,
         "type": "scatter",
         "x": [
          "MLPClassifier"
         ],
         "xaxis": "x",
         "y": [
          0.7108758464066378
         ],
         "yaxis": "y"
        },
        {
         "hovertemplate": "Hyperparameters={'clf': MLPClassifier(hidden_layer_sizes=(128, 128), max_iter=300), 'clf__activation': 'relu', 'clf__hidden_layer_sizes': (128, 128), 'clf__learning_rate': 'constant', 'clf__max_iter': 300}<br>Model=%{x}<br>F1 Score=%{y}<extra></extra>",
         "legendgroup": "{'clf': MLPClassifier(hidden_layer_sizes=(128, 128), max_iter=300), 'clf__activation': 'relu', 'clf__hidden_layer_sizes': (128, 128), 'clf__learning_rate': 'constant', 'clf__max_iter': 300}",
         "marker": {
          "color": "#B6E880",
          "size": 12,
          "symbol": "circle"
         },
         "mode": "markers",
         "name": "{'clf': MLPClassifier(hidden_layer_sizes=(128, 128), max_iter=300), 'clf__activation': 'relu', 'clf__hidden_layer_sizes': (128, 128), 'clf__learning_rate': 'constant', 'clf__max_iter': 300}",
         "orientation": "v",
         "showlegend": true,
         "type": "scatter",
         "x": [
          "MLPClassifier"
         ],
         "xaxis": "x",
         "y": [
          0.7138882860544897
         ],
         "yaxis": "y"
        },
        {
         "hovertemplate": "Hyperparameters={'clf': MLPClassifier(hidden_layer_sizes=(128, 128), max_iter=300), 'clf__activation': 'relu', 'clf__hidden_layer_sizes': (128, 128), 'clf__learning_rate': 'constant', 'clf__max_iter': 400}<br>Model=%{x}<br>F1 Score=%{y}<extra></extra>",
         "legendgroup": "{'clf': MLPClassifier(hidden_layer_sizes=(128, 128), max_iter=300), 'clf__activation': 'relu', 'clf__hidden_layer_sizes': (128, 128), 'clf__learning_rate': 'constant', 'clf__max_iter': 400}",
         "marker": {
          "color": "#FF97FF",
          "size": 12,
          "symbol": "circle"
         },
         "mode": "markers",
         "name": "{'clf': MLPClassifier(hidden_layer_sizes=(128, 128), max_iter=300), 'clf__activation': 'relu', 'clf__hidden_layer_sizes': (128, 128), 'clf__learning_rate': 'constant', 'clf__max_iter': 400}",
         "orientation": "v",
         "showlegend": true,
         "type": "scatter",
         "x": [
          "MLPClassifier"
         ],
         "xaxis": "x",
         "y": [
          0.7042763638045764
         ],
         "yaxis": "y"
        },
        {
         "hovertemplate": "Hyperparameters={'clf': MLPClassifier(hidden_layer_sizes=(128, 128), max_iter=300), 'clf__activation': 'relu', 'clf__hidden_layer_sizes': (128, 128), 'clf__learning_rate': 'invscaling', 'clf__max_iter': 200}<br>Model=%{x}<br>F1 Score=%{y}<extra></extra>",
         "legendgroup": "{'clf': MLPClassifier(hidden_layer_sizes=(128, 128), max_iter=300), 'clf__activation': 'relu', 'clf__hidden_layer_sizes': (128, 128), 'clf__learning_rate': 'invscaling', 'clf__max_iter': 200}",
         "marker": {
          "color": "#FECB52",
          "size": 12,
          "symbol": "circle"
         },
         "mode": "markers",
         "name": "{'clf': MLPClassifier(hidden_layer_sizes=(128, 128), max_iter=300), 'clf__activation': 'relu', 'clf__hidden_layer_sizes': (128, 128), 'clf__learning_rate': 'invscaling', 'clf__max_iter': 200}",
         "orientation": "v",
         "showlegend": true,
         "type": "scatter",
         "x": [
          "MLPClassifier"
         ],
         "xaxis": "x",
         "y": [
          0.7023742276076107
         ],
         "yaxis": "y"
        },
        {
         "hovertemplate": "Hyperparameters={'clf': MLPClassifier(hidden_layer_sizes=(128, 128), max_iter=300), 'clf__activation': 'relu', 'clf__hidden_layer_sizes': (128, 128), 'clf__learning_rate': 'invscaling', 'clf__max_iter': 300}<br>Model=%{x}<br>F1 Score=%{y}<extra></extra>",
         "legendgroup": "{'clf': MLPClassifier(hidden_layer_sizes=(128, 128), max_iter=300), 'clf__activation': 'relu', 'clf__hidden_layer_sizes': (128, 128), 'clf__learning_rate': 'invscaling', 'clf__max_iter': 300}",
         "marker": {
          "color": "#636efa",
          "size": 12,
          "symbol": "circle"
         },
         "mode": "markers",
         "name": "{'clf': MLPClassifier(hidden_layer_sizes=(128, 128), max_iter=300), 'clf__activation': 'relu', 'clf__hidden_layer_sizes': (128, 128), 'clf__learning_rate': 'invscaling', 'clf__max_iter': 300}",
         "orientation": "v",
         "showlegend": true,
         "type": "scatter",
         "x": [
          "MLPClassifier"
         ],
         "xaxis": "x",
         "y": [
          0.706715268495887
         ],
         "yaxis": "y"
        },
        {
         "hovertemplate": "Hyperparameters={'clf': MLPClassifier(hidden_layer_sizes=(128, 128), max_iter=300), 'clf__activation': 'relu', 'clf__hidden_layer_sizes': (128, 128), 'clf__learning_rate': 'invscaling', 'clf__max_iter': 400}<br>Model=%{x}<br>F1 Score=%{y}<extra></extra>",
         "legendgroup": "{'clf': MLPClassifier(hidden_layer_sizes=(128, 128), max_iter=300), 'clf__activation': 'relu', 'clf__hidden_layer_sizes': (128, 128), 'clf__learning_rate': 'invscaling', 'clf__max_iter': 400}",
         "marker": {
          "color": "#EF553B",
          "size": 12,
          "symbol": "circle"
         },
         "mode": "markers",
         "name": "{'clf': MLPClassifier(hidden_layer_sizes=(128, 128), max_iter=300), 'clf__activation': 'relu', 'clf__hidden_layer_sizes': (128, 128), 'clf__learning_rate': 'invscaling', 'clf__max_iter': 400}",
         "orientation": "v",
         "showlegend": true,
         "type": "scatter",
         "x": [
          "MLPClassifier"
         ],
         "xaxis": "x",
         "y": [
          0.6999795857139535
         ],
         "yaxis": "y"
        },
        {
         "hovertemplate": "Hyperparameters={'clf': MLPClassifier(hidden_layer_sizes=(128, 128), max_iter=300), 'clf__activation': 'relu', 'clf__hidden_layer_sizes': (128, 128), 'clf__learning_rate': 'adaptive', 'clf__max_iter': 200}<br>Model=%{x}<br>F1 Score=%{y}<extra></extra>",
         "legendgroup": "{'clf': MLPClassifier(hidden_layer_sizes=(128, 128), max_iter=300), 'clf__activation': 'relu', 'clf__hidden_layer_sizes': (128, 128), 'clf__learning_rate': 'adaptive', 'clf__max_iter': 200}",
         "marker": {
          "color": "#00cc96",
          "size": 12,
          "symbol": "circle"
         },
         "mode": "markers",
         "name": "{'clf': MLPClassifier(hidden_layer_sizes=(128, 128), max_iter=300), 'clf__activation': 'relu', 'clf__hidden_layer_sizes': (128, 128), 'clf__learning_rate': 'adaptive', 'clf__max_iter': 200}",
         "orientation": "v",
         "showlegend": true,
         "type": "scatter",
         "x": [
          "MLPClassifier"
         ],
         "xaxis": "x",
         "y": [
          0.7030358549312301
         ],
         "yaxis": "y"
        },
        {
         "hovertemplate": "Hyperparameters={'clf': MLPClassifier(hidden_layer_sizes=(128, 128), max_iter=300), 'clf__activation': 'relu', 'clf__hidden_layer_sizes': (128, 128), 'clf__learning_rate': 'adaptive', 'clf__max_iter': 300}<br>Model=%{x}<br>F1 Score=%{y}<extra></extra>",
         "legendgroup": "{'clf': MLPClassifier(hidden_layer_sizes=(128, 128), max_iter=300), 'clf__activation': 'relu', 'clf__hidden_layer_sizes': (128, 128), 'clf__learning_rate': 'adaptive', 'clf__max_iter': 300}",
         "marker": {
          "color": "#ab63fa",
          "size": 12,
          "symbol": "circle"
         },
         "mode": "markers",
         "name": "{'clf': MLPClassifier(hidden_layer_sizes=(128, 128), max_iter=300), 'clf__activation': 'relu', 'clf__hidden_layer_sizes': (128, 128), 'clf__learning_rate': 'adaptive', 'clf__max_iter': 300}",
         "orientation": "v",
         "showlegend": true,
         "type": "scatter",
         "x": [
          "MLPClassifier"
         ],
         "xaxis": "x",
         "y": [
          0.7091198808256512
         ],
         "yaxis": "y"
        },
        {
         "hovertemplate": "Hyperparameters={'clf': MLPClassifier(hidden_layer_sizes=(128, 128), max_iter=300), 'clf__activation': 'relu', 'clf__hidden_layer_sizes': (128, 128), 'clf__learning_rate': 'adaptive', 'clf__max_iter': 400}<br>Model=%{x}<br>F1 Score=%{y}<extra></extra>",
         "legendgroup": "{'clf': MLPClassifier(hidden_layer_sizes=(128, 128), max_iter=300), 'clf__activation': 'relu', 'clf__hidden_layer_sizes': (128, 128), 'clf__learning_rate': 'adaptive', 'clf__max_iter': 400}",
         "marker": {
          "color": "#FFA15A",
          "size": 12,
          "symbol": "circle"
         },
         "mode": "markers",
         "name": "{'clf': MLPClassifier(hidden_layer_sizes=(128, 128), max_iter=300), 'clf__activation': 'relu', 'clf__hidden_layer_sizes': (128, 128), 'clf__learning_rate': 'adaptive', 'clf__max_iter': 400}",
         "orientation": "v",
         "showlegend": true,
         "type": "scatter",
         "x": [
          "MLPClassifier"
         ],
         "xaxis": "x",
         "y": [
          0.7049121067255943
         ],
         "yaxis": "y"
        },
        {
         "hovertemplate": "Hyperparameters={'clf': MLPClassifier(hidden_layer_sizes=(128, 128), max_iter=300), 'clf__activation': 'tanh', 'clf__hidden_layer_sizes': (32, 32), 'clf__learning_rate': 'constant', 'clf__max_iter': 200}<br>Model=%{x}<br>F1 Score=%{y}<extra></extra>",
         "legendgroup": "{'clf': MLPClassifier(hidden_layer_sizes=(128, 128), max_iter=300), 'clf__activation': 'tanh', 'clf__hidden_layer_sizes': (32, 32), 'clf__learning_rate': 'constant', 'clf__max_iter': 200}",
         "marker": {
          "color": "#19d3f3",
          "size": 12,
          "symbol": "circle"
         },
         "mode": "markers",
         "name": "{'clf': MLPClassifier(hidden_layer_sizes=(128, 128), max_iter=300), 'clf__activation': 'tanh', 'clf__hidden_layer_sizes': (32, 32), 'clf__learning_rate': 'constant', 'clf__max_iter': 200}",
         "orientation": "v",
         "showlegend": true,
         "type": "scatter",
         "x": [
          "MLPClassifier"
         ],
         "xaxis": "x",
         "y": [
          0.6755512035831636
         ],
         "yaxis": "y"
        },
        {
         "hovertemplate": "Hyperparameters={'clf': MLPClassifier(hidden_layer_sizes=(128, 128), max_iter=300), 'clf__activation': 'tanh', 'clf__hidden_layer_sizes': (32, 32), 'clf__learning_rate': 'constant', 'clf__max_iter': 300}<br>Model=%{x}<br>F1 Score=%{y}<extra></extra>",
         "legendgroup": "{'clf': MLPClassifier(hidden_layer_sizes=(128, 128), max_iter=300), 'clf__activation': 'tanh', 'clf__hidden_layer_sizes': (32, 32), 'clf__learning_rate': 'constant', 'clf__max_iter': 300}",
         "marker": {
          "color": "#FF6692",
          "size": 12,
          "symbol": "circle"
         },
         "mode": "markers",
         "name": "{'clf': MLPClassifier(hidden_layer_sizes=(128, 128), max_iter=300), 'clf__activation': 'tanh', 'clf__hidden_layer_sizes': (32, 32), 'clf__learning_rate': 'constant', 'clf__max_iter': 300}",
         "orientation": "v",
         "showlegend": true,
         "type": "scatter",
         "x": [
          "MLPClassifier"
         ],
         "xaxis": "x",
         "y": [
          0.6673192896851757
         ],
         "yaxis": "y"
        },
        {
         "hovertemplate": "Hyperparameters={'clf': MLPClassifier(hidden_layer_sizes=(128, 128), max_iter=300), 'clf__activation': 'tanh', 'clf__hidden_layer_sizes': (32, 32), 'clf__learning_rate': 'constant', 'clf__max_iter': 400}<br>Model=%{x}<br>F1 Score=%{y}<extra></extra>",
         "legendgroup": "{'clf': MLPClassifier(hidden_layer_sizes=(128, 128), max_iter=300), 'clf__activation': 'tanh', 'clf__hidden_layer_sizes': (32, 32), 'clf__learning_rate': 'constant', 'clf__max_iter': 400}",
         "marker": {
          "color": "#B6E880",
          "size": 12,
          "symbol": "circle"
         },
         "mode": "markers",
         "name": "{'clf': MLPClassifier(hidden_layer_sizes=(128, 128), max_iter=300), 'clf__activation': 'tanh', 'clf__hidden_layer_sizes': (32, 32), 'clf__learning_rate': 'constant', 'clf__max_iter': 400}",
         "orientation": "v",
         "showlegend": true,
         "type": "scatter",
         "x": [
          "MLPClassifier"
         ],
         "xaxis": "x",
         "y": [
          0.6736105284466748
         ],
         "yaxis": "y"
        },
        {
         "hovertemplate": "Hyperparameters={'clf': MLPClassifier(hidden_layer_sizes=(128, 128), max_iter=300), 'clf__activation': 'tanh', 'clf__hidden_layer_sizes': (32, 32), 'clf__learning_rate': 'invscaling', 'clf__max_iter': 200}<br>Model=%{x}<br>F1 Score=%{y}<extra></extra>",
         "legendgroup": "{'clf': MLPClassifier(hidden_layer_sizes=(128, 128), max_iter=300), 'clf__activation': 'tanh', 'clf__hidden_layer_sizes': (32, 32), 'clf__learning_rate': 'invscaling', 'clf__max_iter': 200}",
         "marker": {
          "color": "#FF97FF",
          "size": 12,
          "symbol": "circle"
         },
         "mode": "markers",
         "name": "{'clf': MLPClassifier(hidden_layer_sizes=(128, 128), max_iter=300), 'clf__activation': 'tanh', 'clf__hidden_layer_sizes': (32, 32), 'clf__learning_rate': 'invscaling', 'clf__max_iter': 200}",
         "orientation": "v",
         "showlegend": true,
         "type": "scatter",
         "x": [
          "MLPClassifier"
         ],
         "xaxis": "x",
         "y": [
          0.6716232535099023
         ],
         "yaxis": "y"
        },
        {
         "hovertemplate": "Hyperparameters={'clf': MLPClassifier(hidden_layer_sizes=(128, 128), max_iter=300), 'clf__activation': 'tanh', 'clf__hidden_layer_sizes': (32, 32), 'clf__learning_rate': 'invscaling', 'clf__max_iter': 300}<br>Model=%{x}<br>F1 Score=%{y}<extra></extra>",
         "legendgroup": "{'clf': MLPClassifier(hidden_layer_sizes=(128, 128), max_iter=300), 'clf__activation': 'tanh', 'clf__hidden_layer_sizes': (32, 32), 'clf__learning_rate': 'invscaling', 'clf__max_iter': 300}",
         "marker": {
          "color": "#FECB52",
          "size": 12,
          "symbol": "circle"
         },
         "mode": "markers",
         "name": "{'clf': MLPClassifier(hidden_layer_sizes=(128, 128), max_iter=300), 'clf__activation': 'tanh', 'clf__hidden_layer_sizes': (32, 32), 'clf__learning_rate': 'invscaling', 'clf__max_iter': 300}",
         "orientation": "v",
         "showlegend": true,
         "type": "scatter",
         "x": [
          "MLPClassifier"
         ],
         "xaxis": "x",
         "y": [
          0.6719615603577288
         ],
         "yaxis": "y"
        },
        {
         "hovertemplate": "Hyperparameters={'clf': MLPClassifier(hidden_layer_sizes=(128, 128), max_iter=300), 'clf__activation': 'tanh', 'clf__hidden_layer_sizes': (32, 32), 'clf__learning_rate': 'invscaling', 'clf__max_iter': 400}<br>Model=%{x}<br>F1 Score=%{y}<extra></extra>",
         "legendgroup": "{'clf': MLPClassifier(hidden_layer_sizes=(128, 128), max_iter=300), 'clf__activation': 'tanh', 'clf__hidden_layer_sizes': (32, 32), 'clf__learning_rate': 'invscaling', 'clf__max_iter': 400}",
         "marker": {
          "color": "#636efa",
          "size": 12,
          "symbol": "circle"
         },
         "mode": "markers",
         "name": "{'clf': MLPClassifier(hidden_layer_sizes=(128, 128), max_iter=300), 'clf__activation': 'tanh', 'clf__hidden_layer_sizes': (32, 32), 'clf__learning_rate': 'invscaling', 'clf__max_iter': 400}",
         "orientation": "v",
         "showlegend": true,
         "type": "scatter",
         "x": [
          "MLPClassifier"
         ],
         "xaxis": "x",
         "y": [
          0.6751144135354039
         ],
         "yaxis": "y"
        },
        {
         "hovertemplate": "Hyperparameters={'clf': MLPClassifier(hidden_layer_sizes=(128, 128), max_iter=300), 'clf__activation': 'tanh', 'clf__hidden_layer_sizes': (32, 32), 'clf__learning_rate': 'adaptive', 'clf__max_iter': 200}<br>Model=%{x}<br>F1 Score=%{y}<extra></extra>",
         "legendgroup": "{'clf': MLPClassifier(hidden_layer_sizes=(128, 128), max_iter=300), 'clf__activation': 'tanh', 'clf__hidden_layer_sizes': (32, 32), 'clf__learning_rate': 'adaptive', 'clf__max_iter': 200}",
         "marker": {
          "color": "#EF553B",
          "size": 12,
          "symbol": "circle"
         },
         "mode": "markers",
         "name": "{'clf': MLPClassifier(hidden_layer_sizes=(128, 128), max_iter=300), 'clf__activation': 'tanh', 'clf__hidden_layer_sizes': (32, 32), 'clf__learning_rate': 'adaptive', 'clf__max_iter': 200}",
         "orientation": "v",
         "showlegend": true,
         "type": "scatter",
         "x": [
          "MLPClassifier"
         ],
         "xaxis": "x",
         "y": [
          0.6687397534491597
         ],
         "yaxis": "y"
        },
        {
         "hovertemplate": "Hyperparameters={'clf': MLPClassifier(hidden_layer_sizes=(128, 128), max_iter=300), 'clf__activation': 'tanh', 'clf__hidden_layer_sizes': (32, 32), 'clf__learning_rate': 'adaptive', 'clf__max_iter': 300}<br>Model=%{x}<br>F1 Score=%{y}<extra></extra>",
         "legendgroup": "{'clf': MLPClassifier(hidden_layer_sizes=(128, 128), max_iter=300), 'clf__activation': 'tanh', 'clf__hidden_layer_sizes': (32, 32), 'clf__learning_rate': 'adaptive', 'clf__max_iter': 300}",
         "marker": {
          "color": "#00cc96",
          "size": 12,
          "symbol": "circle"
         },
         "mode": "markers",
         "name": "{'clf': MLPClassifier(hidden_layer_sizes=(128, 128), max_iter=300), 'clf__activation': 'tanh', 'clf__hidden_layer_sizes': (32, 32), 'clf__learning_rate': 'adaptive', 'clf__max_iter': 300}",
         "orientation": "v",
         "showlegend": true,
         "type": "scatter",
         "x": [
          "MLPClassifier"
         ],
         "xaxis": "x",
         "y": [
          0.6736548962935078
         ],
         "yaxis": "y"
        },
        {
         "hovertemplate": "Hyperparameters={'clf': MLPClassifier(hidden_layer_sizes=(128, 128), max_iter=300), 'clf__activation': 'tanh', 'clf__hidden_layer_sizes': (32, 32), 'clf__learning_rate': 'adaptive', 'clf__max_iter': 400}<br>Model=%{x}<br>F1 Score=%{y}<extra></extra>",
         "legendgroup": "{'clf': MLPClassifier(hidden_layer_sizes=(128, 128), max_iter=300), 'clf__activation': 'tanh', 'clf__hidden_layer_sizes': (32, 32), 'clf__learning_rate': 'adaptive', 'clf__max_iter': 400}",
         "marker": {
          "color": "#ab63fa",
          "size": 12,
          "symbol": "circle"
         },
         "mode": "markers",
         "name": "{'clf': MLPClassifier(hidden_layer_sizes=(128, 128), max_iter=300), 'clf__activation': 'tanh', 'clf__hidden_layer_sizes': (32, 32), 'clf__learning_rate': 'adaptive', 'clf__max_iter': 400}",
         "orientation": "v",
         "showlegend": true,
         "type": "scatter",
         "x": [
          "MLPClassifier"
         ],
         "xaxis": "x",
         "y": [
          0.6747943413704789
         ],
         "yaxis": "y"
        },
        {
         "hovertemplate": "Hyperparameters={'clf': MLPClassifier(hidden_layer_sizes=(128, 128), max_iter=300), 'clf__activation': 'tanh', 'clf__hidden_layer_sizes': (64, 64), 'clf__learning_rate': 'constant', 'clf__max_iter': 200}<br>Model=%{x}<br>F1 Score=%{y}<extra></extra>",
         "legendgroup": "{'clf': MLPClassifier(hidden_layer_sizes=(128, 128), max_iter=300), 'clf__activation': 'tanh', 'clf__hidden_layer_sizes': (64, 64), 'clf__learning_rate': 'constant', 'clf__max_iter': 200}",
         "marker": {
          "color": "#FFA15A",
          "size": 12,
          "symbol": "circle"
         },
         "mode": "markers",
         "name": "{'clf': MLPClassifier(hidden_layer_sizes=(128, 128), max_iter=300), 'clf__activation': 'tanh', 'clf__hidden_layer_sizes': (64, 64), 'clf__learning_rate': 'constant', 'clf__max_iter': 200}",
         "orientation": "v",
         "showlegend": true,
         "type": "scatter",
         "x": [
          "MLPClassifier"
         ],
         "xaxis": "x",
         "y": [
          0.6794034343588677
         ],
         "yaxis": "y"
        },
        {
         "hovertemplate": "Hyperparameters={'clf': MLPClassifier(hidden_layer_sizes=(128, 128), max_iter=300), 'clf__activation': 'tanh', 'clf__hidden_layer_sizes': (64, 64), 'clf__learning_rate': 'constant', 'clf__max_iter': 300}<br>Model=%{x}<br>F1 Score=%{y}<extra></extra>",
         "legendgroup": "{'clf': MLPClassifier(hidden_layer_sizes=(128, 128), max_iter=300), 'clf__activation': 'tanh', 'clf__hidden_layer_sizes': (64, 64), 'clf__learning_rate': 'constant', 'clf__max_iter': 300}",
         "marker": {
          "color": "#19d3f3",
          "size": 12,
          "symbol": "circle"
         },
         "mode": "markers",
         "name": "{'clf': MLPClassifier(hidden_layer_sizes=(128, 128), max_iter=300), 'clf__activation': 'tanh', 'clf__hidden_layer_sizes': (64, 64), 'clf__learning_rate': 'constant', 'clf__max_iter': 300}",
         "orientation": "v",
         "showlegend": true,
         "type": "scatter",
         "x": [
          "MLPClassifier"
         ],
         "xaxis": "x",
         "y": [
          0.6753790661106033
         ],
         "yaxis": "y"
        },
        {
         "hovertemplate": "Hyperparameters={'clf': MLPClassifier(hidden_layer_sizes=(128, 128), max_iter=300), 'clf__activation': 'tanh', 'clf__hidden_layer_sizes': (64, 64), 'clf__learning_rate': 'constant', 'clf__max_iter': 400}<br>Model=%{x}<br>F1 Score=%{y}<extra></extra>",
         "legendgroup": "{'clf': MLPClassifier(hidden_layer_sizes=(128, 128), max_iter=300), 'clf__activation': 'tanh', 'clf__hidden_layer_sizes': (64, 64), 'clf__learning_rate': 'constant', 'clf__max_iter': 400}",
         "marker": {
          "color": "#FF6692",
          "size": 12,
          "symbol": "circle"
         },
         "mode": "markers",
         "name": "{'clf': MLPClassifier(hidden_layer_sizes=(128, 128), max_iter=300), 'clf__activation': 'tanh', 'clf__hidden_layer_sizes': (64, 64), 'clf__learning_rate': 'constant', 'clf__max_iter': 400}",
         "orientation": "v",
         "showlegend": true,
         "type": "scatter",
         "x": [
          "MLPClassifier"
         ],
         "xaxis": "x",
         "y": [
          0.6735476691597656
         ],
         "yaxis": "y"
        },
        {
         "hovertemplate": "Hyperparameters={'clf': MLPClassifier(hidden_layer_sizes=(128, 128), max_iter=300), 'clf__activation': 'tanh', 'clf__hidden_layer_sizes': (64, 64), 'clf__learning_rate': 'invscaling', 'clf__max_iter': 200}<br>Model=%{x}<br>F1 Score=%{y}<extra></extra>",
         "legendgroup": "{'clf': MLPClassifier(hidden_layer_sizes=(128, 128), max_iter=300), 'clf__activation': 'tanh', 'clf__hidden_layer_sizes': (64, 64), 'clf__learning_rate': 'invscaling', 'clf__max_iter': 200}",
         "marker": {
          "color": "#B6E880",
          "size": 12,
          "symbol": "circle"
         },
         "mode": "markers",
         "name": "{'clf': MLPClassifier(hidden_layer_sizes=(128, 128), max_iter=300), 'clf__activation': 'tanh', 'clf__hidden_layer_sizes': (64, 64), 'clf__learning_rate': 'invscaling', 'clf__max_iter': 200}",
         "orientation": "v",
         "showlegend": true,
         "type": "scatter",
         "x": [
          "MLPClassifier"
         ],
         "xaxis": "x",
         "y": [
          0.686866372734252
         ],
         "yaxis": "y"
        },
        {
         "hovertemplate": "Hyperparameters={'clf': MLPClassifier(hidden_layer_sizes=(128, 128), max_iter=300), 'clf__activation': 'tanh', 'clf__hidden_layer_sizes': (64, 64), 'clf__learning_rate': 'invscaling', 'clf__max_iter': 300}<br>Model=%{x}<br>F1 Score=%{y}<extra></extra>",
         "legendgroup": "{'clf': MLPClassifier(hidden_layer_sizes=(128, 128), max_iter=300), 'clf__activation': 'tanh', 'clf__hidden_layer_sizes': (64, 64), 'clf__learning_rate': 'invscaling', 'clf__max_iter': 300}",
         "marker": {
          "color": "#FF97FF",
          "size": 12,
          "symbol": "circle"
         },
         "mode": "markers",
         "name": "{'clf': MLPClassifier(hidden_layer_sizes=(128, 128), max_iter=300), 'clf__activation': 'tanh', 'clf__hidden_layer_sizes': (64, 64), 'clf__learning_rate': 'invscaling', 'clf__max_iter': 300}",
         "orientation": "v",
         "showlegend": true,
         "type": "scatter",
         "x": [
          "MLPClassifier"
         ],
         "xaxis": "x",
         "y": [
          0.6858544266652686
         ],
         "yaxis": "y"
        },
        {
         "hovertemplate": "Hyperparameters={'clf': MLPClassifier(hidden_layer_sizes=(128, 128), max_iter=300), 'clf__activation': 'tanh', 'clf__hidden_layer_sizes': (64, 64), 'clf__learning_rate': 'invscaling', 'clf__max_iter': 400}<br>Model=%{x}<br>F1 Score=%{y}<extra></extra>",
         "legendgroup": "{'clf': MLPClassifier(hidden_layer_sizes=(128, 128), max_iter=300), 'clf__activation': 'tanh', 'clf__hidden_layer_sizes': (64, 64), 'clf__learning_rate': 'invscaling', 'clf__max_iter': 400}",
         "marker": {
          "color": "#FECB52",
          "size": 12,
          "symbol": "circle"
         },
         "mode": "markers",
         "name": "{'clf': MLPClassifier(hidden_layer_sizes=(128, 128), max_iter=300), 'clf__activation': 'tanh', 'clf__hidden_layer_sizes': (64, 64), 'clf__learning_rate': 'invscaling', 'clf__max_iter': 400}",
         "orientation": "v",
         "showlegend": true,
         "type": "scatter",
         "x": [
          "MLPClassifier"
         ],
         "xaxis": "x",
         "y": [
          0.683310571047367
         ],
         "yaxis": "y"
        },
        {
         "hovertemplate": "Hyperparameters={'clf': MLPClassifier(hidden_layer_sizes=(128, 128), max_iter=300), 'clf__activation': 'tanh', 'clf__hidden_layer_sizes': (64, 64), 'clf__learning_rate': 'adaptive', 'clf__max_iter': 200}<br>Model=%{x}<br>F1 Score=%{y}<extra></extra>",
         "legendgroup": "{'clf': MLPClassifier(hidden_layer_sizes=(128, 128), max_iter=300), 'clf__activation': 'tanh', 'clf__hidden_layer_sizes': (64, 64), 'clf__learning_rate': 'adaptive', 'clf__max_iter': 200}",
         "marker": {
          "color": "#636efa",
          "size": 12,
          "symbol": "circle"
         },
         "mode": "markers",
         "name": "{'clf': MLPClassifier(hidden_layer_sizes=(128, 128), max_iter=300), 'clf__activation': 'tanh', 'clf__hidden_layer_sizes': (64, 64), 'clf__learning_rate': 'adaptive', 'clf__max_iter': 200}",
         "orientation": "v",
         "showlegend": true,
         "type": "scatter",
         "x": [
          "MLPClassifier"
         ],
         "xaxis": "x",
         "y": [
          0.67930229894416
         ],
         "yaxis": "y"
        },
        {
         "hovertemplate": "Hyperparameters={'clf': MLPClassifier(hidden_layer_sizes=(128, 128), max_iter=300), 'clf__activation': 'tanh', 'clf__hidden_layer_sizes': (64, 64), 'clf__learning_rate': 'adaptive', 'clf__max_iter': 300}<br>Model=%{x}<br>F1 Score=%{y}<extra></extra>",
         "legendgroup": "{'clf': MLPClassifier(hidden_layer_sizes=(128, 128), max_iter=300), 'clf__activation': 'tanh', 'clf__hidden_layer_sizes': (64, 64), 'clf__learning_rate': 'adaptive', 'clf__max_iter': 300}",
         "marker": {
          "color": "#EF553B",
          "size": 12,
          "symbol": "circle"
         },
         "mode": "markers",
         "name": "{'clf': MLPClassifier(hidden_layer_sizes=(128, 128), max_iter=300), 'clf__activation': 'tanh', 'clf__hidden_layer_sizes': (64, 64), 'clf__learning_rate': 'adaptive', 'clf__max_iter': 300}",
         "orientation": "v",
         "showlegend": true,
         "type": "scatter",
         "x": [
          "MLPClassifier"
         ],
         "xaxis": "x",
         "y": [
          0.6834703766645747
         ],
         "yaxis": "y"
        },
        {
         "hovertemplate": "Hyperparameters={'clf': MLPClassifier(hidden_layer_sizes=(128, 128), max_iter=300), 'clf__activation': 'tanh', 'clf__hidden_layer_sizes': (64, 64), 'clf__learning_rate': 'adaptive', 'clf__max_iter': 400}<br>Model=%{x}<br>F1 Score=%{y}<extra></extra>",
         "legendgroup": "{'clf': MLPClassifier(hidden_layer_sizes=(128, 128), max_iter=300), 'clf__activation': 'tanh', 'clf__hidden_layer_sizes': (64, 64), 'clf__learning_rate': 'adaptive', 'clf__max_iter': 400}",
         "marker": {
          "color": "#00cc96",
          "size": 12,
          "symbol": "circle"
         },
         "mode": "markers",
         "name": "{'clf': MLPClassifier(hidden_layer_sizes=(128, 128), max_iter=300), 'clf__activation': 'tanh', 'clf__hidden_layer_sizes': (64, 64), 'clf__learning_rate': 'adaptive', 'clf__max_iter': 400}",
         "orientation": "v",
         "showlegend": true,
         "type": "scatter",
         "x": [
          "MLPClassifier"
         ],
         "xaxis": "x",
         "y": [
          0.6830144181253759
         ],
         "yaxis": "y"
        },
        {
         "hovertemplate": "Hyperparameters={'clf': MLPClassifier(hidden_layer_sizes=(128, 128), max_iter=300), 'clf__activation': 'tanh', 'clf__hidden_layer_sizes': (128, 128), 'clf__learning_rate': 'constant', 'clf__max_iter': 200}<br>Model=%{x}<br>F1 Score=%{y}<extra></extra>",
         "legendgroup": "{'clf': MLPClassifier(hidden_layer_sizes=(128, 128), max_iter=300), 'clf__activation': 'tanh', 'clf__hidden_layer_sizes': (128, 128), 'clf__learning_rate': 'constant', 'clf__max_iter': 200}",
         "marker": {
          "color": "#ab63fa",
          "size": 12,
          "symbol": "circle"
         },
         "mode": "markers",
         "name": "{'clf': MLPClassifier(hidden_layer_sizes=(128, 128), max_iter=300), 'clf__activation': 'tanh', 'clf__hidden_layer_sizes': (128, 128), 'clf__learning_rate': 'constant', 'clf__max_iter': 200}",
         "orientation": "v",
         "showlegend": true,
         "type": "scatter",
         "x": [
          "MLPClassifier"
         ],
         "xaxis": "x",
         "y": [
          0.6841510680501471
         ],
         "yaxis": "y"
        },
        {
         "hovertemplate": "Hyperparameters={'clf': MLPClassifier(hidden_layer_sizes=(128, 128), max_iter=300), 'clf__activation': 'tanh', 'clf__hidden_layer_sizes': (128, 128), 'clf__learning_rate': 'constant', 'clf__max_iter': 300}<br>Model=%{x}<br>F1 Score=%{y}<extra></extra>",
         "legendgroup": "{'clf': MLPClassifier(hidden_layer_sizes=(128, 128), max_iter=300), 'clf__activation': 'tanh', 'clf__hidden_layer_sizes': (128, 128), 'clf__learning_rate': 'constant', 'clf__max_iter': 300}",
         "marker": {
          "color": "#FFA15A",
          "size": 12,
          "symbol": "circle"
         },
         "mode": "markers",
         "name": "{'clf': MLPClassifier(hidden_layer_sizes=(128, 128), max_iter=300), 'clf__activation': 'tanh', 'clf__hidden_layer_sizes': (128, 128), 'clf__learning_rate': 'constant', 'clf__max_iter': 300}",
         "orientation": "v",
         "showlegend": true,
         "type": "scatter",
         "x": [
          "MLPClassifier"
         ],
         "xaxis": "x",
         "y": [
          0.6928605015765645
         ],
         "yaxis": "y"
        },
        {
         "hovertemplate": "Hyperparameters={'clf': MLPClassifier(hidden_layer_sizes=(128, 128), max_iter=300), 'clf__activation': 'tanh', 'clf__hidden_layer_sizes': (128, 128), 'clf__learning_rate': 'constant', 'clf__max_iter': 400}<br>Model=%{x}<br>F1 Score=%{y}<extra></extra>",
         "legendgroup": "{'clf': MLPClassifier(hidden_layer_sizes=(128, 128), max_iter=300), 'clf__activation': 'tanh', 'clf__hidden_layer_sizes': (128, 128), 'clf__learning_rate': 'constant', 'clf__max_iter': 400}",
         "marker": {
          "color": "#19d3f3",
          "size": 12,
          "symbol": "circle"
         },
         "mode": "markers",
         "name": "{'clf': MLPClassifier(hidden_layer_sizes=(128, 128), max_iter=300), 'clf__activation': 'tanh', 'clf__hidden_layer_sizes': (128, 128), 'clf__learning_rate': 'constant', 'clf__max_iter': 400}",
         "orientation": "v",
         "showlegend": true,
         "type": "scatter",
         "x": [
          "MLPClassifier"
         ],
         "xaxis": "x",
         "y": [
          0.6860764031603024
         ],
         "yaxis": "y"
        },
        {
         "hovertemplate": "Hyperparameters={'clf': MLPClassifier(hidden_layer_sizes=(128, 128), max_iter=300), 'clf__activation': 'tanh', 'clf__hidden_layer_sizes': (128, 128), 'clf__learning_rate': 'invscaling', 'clf__max_iter': 200}<br>Model=%{x}<br>F1 Score=%{y}<extra></extra>",
         "legendgroup": "{'clf': MLPClassifier(hidden_layer_sizes=(128, 128), max_iter=300), 'clf__activation': 'tanh', 'clf__hidden_layer_sizes': (128, 128), 'clf__learning_rate': 'invscaling', 'clf__max_iter': 200}",
         "marker": {
          "color": "#FF6692",
          "size": 12,
          "symbol": "circle"
         },
         "mode": "markers",
         "name": "{'clf': MLPClassifier(hidden_layer_sizes=(128, 128), max_iter=300), 'clf__activation': 'tanh', 'clf__hidden_layer_sizes': (128, 128), 'clf__learning_rate': 'invscaling', 'clf__max_iter': 200}",
         "orientation": "v",
         "showlegend": true,
         "type": "scatter",
         "x": [
          "MLPClassifier"
         ],
         "xaxis": "x",
         "y": [
          0.6912027299768317
         ],
         "yaxis": "y"
        },
        {
         "hovertemplate": "Hyperparameters={'clf': MLPClassifier(hidden_layer_sizes=(128, 128), max_iter=300), 'clf__activation': 'tanh', 'clf__hidden_layer_sizes': (128, 128), 'clf__learning_rate': 'invscaling', 'clf__max_iter': 300}<br>Model=%{x}<br>F1 Score=%{y}<extra></extra>",
         "legendgroup": "{'clf': MLPClassifier(hidden_layer_sizes=(128, 128), max_iter=300), 'clf__activation': 'tanh', 'clf__hidden_layer_sizes': (128, 128), 'clf__learning_rate': 'invscaling', 'clf__max_iter': 300}",
         "marker": {
          "color": "#B6E880",
          "size": 12,
          "symbol": "circle"
         },
         "mode": "markers",
         "name": "{'clf': MLPClassifier(hidden_layer_sizes=(128, 128), max_iter=300), 'clf__activation': 'tanh', 'clf__hidden_layer_sizes': (128, 128), 'clf__learning_rate': 'invscaling', 'clf__max_iter': 300}",
         "orientation": "v",
         "showlegend": true,
         "type": "scatter",
         "x": [
          "MLPClassifier"
         ],
         "xaxis": "x",
         "y": [
          0.6880654383155982
         ],
         "yaxis": "y"
        },
        {
         "hovertemplate": "Hyperparameters={'clf': MLPClassifier(hidden_layer_sizes=(128, 128), max_iter=300), 'clf__activation': 'tanh', 'clf__hidden_layer_sizes': (128, 128), 'clf__learning_rate': 'invscaling', 'clf__max_iter': 400}<br>Model=%{x}<br>F1 Score=%{y}<extra></extra>",
         "legendgroup": "{'clf': MLPClassifier(hidden_layer_sizes=(128, 128), max_iter=300), 'clf__activation': 'tanh', 'clf__hidden_layer_sizes': (128, 128), 'clf__learning_rate': 'invscaling', 'clf__max_iter': 400}",
         "marker": {
          "color": "#FF97FF",
          "size": 12,
          "symbol": "circle"
         },
         "mode": "markers",
         "name": "{'clf': MLPClassifier(hidden_layer_sizes=(128, 128), max_iter=300), 'clf__activation': 'tanh', 'clf__hidden_layer_sizes': (128, 128), 'clf__learning_rate': 'invscaling', 'clf__max_iter': 400}",
         "orientation": "v",
         "showlegend": true,
         "type": "scatter",
         "x": [
          "MLPClassifier"
         ],
         "xaxis": "x",
         "y": [
          0.6780249370057783
         ],
         "yaxis": "y"
        },
        {
         "hovertemplate": "Hyperparameters={'clf': MLPClassifier(hidden_layer_sizes=(128, 128), max_iter=300), 'clf__activation': 'tanh', 'clf__hidden_layer_sizes': (128, 128), 'clf__learning_rate': 'adaptive', 'clf__max_iter': 200}<br>Model=%{x}<br>F1 Score=%{y}<extra></extra>",
         "legendgroup": "{'clf': MLPClassifier(hidden_layer_sizes=(128, 128), max_iter=300), 'clf__activation': 'tanh', 'clf__hidden_layer_sizes': (128, 128), 'clf__learning_rate': 'adaptive', 'clf__max_iter': 200}",
         "marker": {
          "color": "#FECB52",
          "size": 12,
          "symbol": "circle"
         },
         "mode": "markers",
         "name": "{'clf': MLPClassifier(hidden_layer_sizes=(128, 128), max_iter=300), 'clf__activation': 'tanh', 'clf__hidden_layer_sizes': (128, 128), 'clf__learning_rate': 'adaptive', 'clf__max_iter': 200}",
         "orientation": "v",
         "showlegend": true,
         "type": "scatter",
         "x": [
          "MLPClassifier"
         ],
         "xaxis": "x",
         "y": [
          0.6840997271333815
         ],
         "yaxis": "y"
        },
        {
         "hovertemplate": "Hyperparameters={'clf': MLPClassifier(hidden_layer_sizes=(128, 128), max_iter=300), 'clf__activation': 'tanh', 'clf__hidden_layer_sizes': (128, 128), 'clf__learning_rate': 'adaptive', 'clf__max_iter': 300}<br>Model=%{x}<br>F1 Score=%{y}<extra></extra>",
         "legendgroup": "{'clf': MLPClassifier(hidden_layer_sizes=(128, 128), max_iter=300), 'clf__activation': 'tanh', 'clf__hidden_layer_sizes': (128, 128), 'clf__learning_rate': 'adaptive', 'clf__max_iter': 300}",
         "marker": {
          "color": "#636efa",
          "size": 12,
          "symbol": "circle"
         },
         "mode": "markers",
         "name": "{'clf': MLPClassifier(hidden_layer_sizes=(128, 128), max_iter=300), 'clf__activation': 'tanh', 'clf__hidden_layer_sizes': (128, 128), 'clf__learning_rate': 'adaptive', 'clf__max_iter': 300}",
         "orientation": "v",
         "showlegend": true,
         "type": "scatter",
         "x": [
          "MLPClassifier"
         ],
         "xaxis": "x",
         "y": [
          0.6829810672480382
         ],
         "yaxis": "y"
        },
        {
         "hovertemplate": "Hyperparameters={'clf': MLPClassifier(hidden_layer_sizes=(128, 128), max_iter=300), 'clf__activation': 'tanh', 'clf__hidden_layer_sizes': (128, 128), 'clf__learning_rate': 'adaptive', 'clf__max_iter': 400}<br>Model=%{x}<br>F1 Score=%{y}<extra></extra>",
         "legendgroup": "{'clf': MLPClassifier(hidden_layer_sizes=(128, 128), max_iter=300), 'clf__activation': 'tanh', 'clf__hidden_layer_sizes': (128, 128), 'clf__learning_rate': 'adaptive', 'clf__max_iter': 400}",
         "marker": {
          "color": "#EF553B",
          "size": 12,
          "symbol": "circle"
         },
         "mode": "markers",
         "name": "{'clf': MLPClassifier(hidden_layer_sizes=(128, 128), max_iter=300), 'clf__activation': 'tanh', 'clf__hidden_layer_sizes': (128, 128), 'clf__learning_rate': 'adaptive', 'clf__max_iter': 400}",
         "orientation": "v",
         "showlegend": true,
         "type": "scatter",
         "x": [
          "MLPClassifier"
         ],
         "xaxis": "x",
         "y": [
          0.6894272520676333
         ],
         "yaxis": "y"
        }
       ],
       "layout": {
        "legend": {
         "title": {
          "text": "Hyperparameters"
         },
         "tracegroupgap": 0
        },
        "margin": {
         "t": 60
        },
        "showlegend": false,
        "template": {
         "data": {
          "bar": [
           {
            "error_x": {
             "color": "#2a3f5f"
            },
            "error_y": {
             "color": "#2a3f5f"
            },
            "marker": {
             "line": {
              "color": "#E5ECF6",
              "width": 0.5
             },
             "pattern": {
              "fillmode": "overlay",
              "size": 10,
              "solidity": 0.2
             }
            },
            "type": "bar"
           }
          ],
          "barpolar": [
           {
            "marker": {
             "line": {
              "color": "#E5ECF6",
              "width": 0.5
             },
             "pattern": {
              "fillmode": "overlay",
              "size": 10,
              "solidity": 0.2
             }
            },
            "type": "barpolar"
           }
          ],
          "carpet": [
           {
            "aaxis": {
             "endlinecolor": "#2a3f5f",
             "gridcolor": "white",
             "linecolor": "white",
             "minorgridcolor": "white",
             "startlinecolor": "#2a3f5f"
            },
            "baxis": {
             "endlinecolor": "#2a3f5f",
             "gridcolor": "white",
             "linecolor": "white",
             "minorgridcolor": "white",
             "startlinecolor": "#2a3f5f"
            },
            "type": "carpet"
           }
          ],
          "choropleth": [
           {
            "colorbar": {
             "outlinewidth": 0,
             "ticks": ""
            },
            "type": "choropleth"
           }
          ],
          "contour": [
           {
            "colorbar": {
             "outlinewidth": 0,
             "ticks": ""
            },
            "colorscale": [
             [
              0,
              "#0d0887"
             ],
             [
              0.1111111111111111,
              "#46039f"
             ],
             [
              0.2222222222222222,
              "#7201a8"
             ],
             [
              0.3333333333333333,
              "#9c179e"
             ],
             [
              0.4444444444444444,
              "#bd3786"
             ],
             [
              0.5555555555555556,
              "#d8576b"
             ],
             [
              0.6666666666666666,
              "#ed7953"
             ],
             [
              0.7777777777777778,
              "#fb9f3a"
             ],
             [
              0.8888888888888888,
              "#fdca26"
             ],
             [
              1,
              "#f0f921"
             ]
            ],
            "type": "contour"
           }
          ],
          "contourcarpet": [
           {
            "colorbar": {
             "outlinewidth": 0,
             "ticks": ""
            },
            "type": "contourcarpet"
           }
          ],
          "heatmap": [
           {
            "colorbar": {
             "outlinewidth": 0,
             "ticks": ""
            },
            "colorscale": [
             [
              0,
              "#0d0887"
             ],
             [
              0.1111111111111111,
              "#46039f"
             ],
             [
              0.2222222222222222,
              "#7201a8"
             ],
             [
              0.3333333333333333,
              "#9c179e"
             ],
             [
              0.4444444444444444,
              "#bd3786"
             ],
             [
              0.5555555555555556,
              "#d8576b"
             ],
             [
              0.6666666666666666,
              "#ed7953"
             ],
             [
              0.7777777777777778,
              "#fb9f3a"
             ],
             [
              0.8888888888888888,
              "#fdca26"
             ],
             [
              1,
              "#f0f921"
             ]
            ],
            "type": "heatmap"
           }
          ],
          "heatmapgl": [
           {
            "colorbar": {
             "outlinewidth": 0,
             "ticks": ""
            },
            "colorscale": [
             [
              0,
              "#0d0887"
             ],
             [
              0.1111111111111111,
              "#46039f"
             ],
             [
              0.2222222222222222,
              "#7201a8"
             ],
             [
              0.3333333333333333,
              "#9c179e"
             ],
             [
              0.4444444444444444,
              "#bd3786"
             ],
             [
              0.5555555555555556,
              "#d8576b"
             ],
             [
              0.6666666666666666,
              "#ed7953"
             ],
             [
              0.7777777777777778,
              "#fb9f3a"
             ],
             [
              0.8888888888888888,
              "#fdca26"
             ],
             [
              1,
              "#f0f921"
             ]
            ],
            "type": "heatmapgl"
           }
          ],
          "histogram": [
           {
            "marker": {
             "pattern": {
              "fillmode": "overlay",
              "size": 10,
              "solidity": 0.2
             }
            },
            "type": "histogram"
           }
          ],
          "histogram2d": [
           {
            "colorbar": {
             "outlinewidth": 0,
             "ticks": ""
            },
            "colorscale": [
             [
              0,
              "#0d0887"
             ],
             [
              0.1111111111111111,
              "#46039f"
             ],
             [
              0.2222222222222222,
              "#7201a8"
             ],
             [
              0.3333333333333333,
              "#9c179e"
             ],
             [
              0.4444444444444444,
              "#bd3786"
             ],
             [
              0.5555555555555556,
              "#d8576b"
             ],
             [
              0.6666666666666666,
              "#ed7953"
             ],
             [
              0.7777777777777778,
              "#fb9f3a"
             ],
             [
              0.8888888888888888,
              "#fdca26"
             ],
             [
              1,
              "#f0f921"
             ]
            ],
            "type": "histogram2d"
           }
          ],
          "histogram2dcontour": [
           {
            "colorbar": {
             "outlinewidth": 0,
             "ticks": ""
            },
            "colorscale": [
             [
              0,
              "#0d0887"
             ],
             [
              0.1111111111111111,
              "#46039f"
             ],
             [
              0.2222222222222222,
              "#7201a8"
             ],
             [
              0.3333333333333333,
              "#9c179e"
             ],
             [
              0.4444444444444444,
              "#bd3786"
             ],
             [
              0.5555555555555556,
              "#d8576b"
             ],
             [
              0.6666666666666666,
              "#ed7953"
             ],
             [
              0.7777777777777778,
              "#fb9f3a"
             ],
             [
              0.8888888888888888,
              "#fdca26"
             ],
             [
              1,
              "#f0f921"
             ]
            ],
            "type": "histogram2dcontour"
           }
          ],
          "mesh3d": [
           {
            "colorbar": {
             "outlinewidth": 0,
             "ticks": ""
            },
            "type": "mesh3d"
           }
          ],
          "parcoords": [
           {
            "line": {
             "colorbar": {
              "outlinewidth": 0,
              "ticks": ""
             }
            },
            "type": "parcoords"
           }
          ],
          "pie": [
           {
            "automargin": true,
            "type": "pie"
           }
          ],
          "scatter": [
           {
            "fillpattern": {
             "fillmode": "overlay",
             "size": 10,
             "solidity": 0.2
            },
            "type": "scatter"
           }
          ],
          "scatter3d": [
           {
            "line": {
             "colorbar": {
              "outlinewidth": 0,
              "ticks": ""
             }
            },
            "marker": {
             "colorbar": {
              "outlinewidth": 0,
              "ticks": ""
             }
            },
            "type": "scatter3d"
           }
          ],
          "scattercarpet": [
           {
            "marker": {
             "colorbar": {
              "outlinewidth": 0,
              "ticks": ""
             }
            },
            "type": "scattercarpet"
           }
          ],
          "scattergeo": [
           {
            "marker": {
             "colorbar": {
              "outlinewidth": 0,
              "ticks": ""
             }
            },
            "type": "scattergeo"
           }
          ],
          "scattergl": [
           {
            "marker": {
             "colorbar": {
              "outlinewidth": 0,
              "ticks": ""
             }
            },
            "type": "scattergl"
           }
          ],
          "scattermapbox": [
           {
            "marker": {
             "colorbar": {
              "outlinewidth": 0,
              "ticks": ""
             }
            },
            "type": "scattermapbox"
           }
          ],
          "scatterpolar": [
           {
            "marker": {
             "colorbar": {
              "outlinewidth": 0,
              "ticks": ""
             }
            },
            "type": "scatterpolar"
           }
          ],
          "scatterpolargl": [
           {
            "marker": {
             "colorbar": {
              "outlinewidth": 0,
              "ticks": ""
             }
            },
            "type": "scatterpolargl"
           }
          ],
          "scatterternary": [
           {
            "marker": {
             "colorbar": {
              "outlinewidth": 0,
              "ticks": ""
             }
            },
            "type": "scatterternary"
           }
          ],
          "surface": [
           {
            "colorbar": {
             "outlinewidth": 0,
             "ticks": ""
            },
            "colorscale": [
             [
              0,
              "#0d0887"
             ],
             [
              0.1111111111111111,
              "#46039f"
             ],
             [
              0.2222222222222222,
              "#7201a8"
             ],
             [
              0.3333333333333333,
              "#9c179e"
             ],
             [
              0.4444444444444444,
              "#bd3786"
             ],
             [
              0.5555555555555556,
              "#d8576b"
             ],
             [
              0.6666666666666666,
              "#ed7953"
             ],
             [
              0.7777777777777778,
              "#fb9f3a"
             ],
             [
              0.8888888888888888,
              "#fdca26"
             ],
             [
              1,
              "#f0f921"
             ]
            ],
            "type": "surface"
           }
          ],
          "table": [
           {
            "cells": {
             "fill": {
              "color": "#EBF0F8"
             },
             "line": {
              "color": "white"
             }
            },
            "header": {
             "fill": {
              "color": "#C8D4E3"
             },
             "line": {
              "color": "white"
             }
            },
            "type": "table"
           }
          ]
         },
         "layout": {
          "annotationdefaults": {
           "arrowcolor": "#2a3f5f",
           "arrowhead": 0,
           "arrowwidth": 1
          },
          "autotypenumbers": "strict",
          "coloraxis": {
           "colorbar": {
            "outlinewidth": 0,
            "ticks": ""
           }
          },
          "colorscale": {
           "diverging": [
            [
             0,
             "#8e0152"
            ],
            [
             0.1,
             "#c51b7d"
            ],
            [
             0.2,
             "#de77ae"
            ],
            [
             0.3,
             "#f1b6da"
            ],
            [
             0.4,
             "#fde0ef"
            ],
            [
             0.5,
             "#f7f7f7"
            ],
            [
             0.6,
             "#e6f5d0"
            ],
            [
             0.7,
             "#b8e186"
            ],
            [
             0.8,
             "#7fbc41"
            ],
            [
             0.9,
             "#4d9221"
            ],
            [
             1,
             "#276419"
            ]
           ],
           "sequential": [
            [
             0,
             "#0d0887"
            ],
            [
             0.1111111111111111,
             "#46039f"
            ],
            [
             0.2222222222222222,
             "#7201a8"
            ],
            [
             0.3333333333333333,
             "#9c179e"
            ],
            [
             0.4444444444444444,
             "#bd3786"
            ],
            [
             0.5555555555555556,
             "#d8576b"
            ],
            [
             0.6666666666666666,
             "#ed7953"
            ],
            [
             0.7777777777777778,
             "#fb9f3a"
            ],
            [
             0.8888888888888888,
             "#fdca26"
            ],
            [
             1,
             "#f0f921"
            ]
           ],
           "sequentialminus": [
            [
             0,
             "#0d0887"
            ],
            [
             0.1111111111111111,
             "#46039f"
            ],
            [
             0.2222222222222222,
             "#7201a8"
            ],
            [
             0.3333333333333333,
             "#9c179e"
            ],
            [
             0.4444444444444444,
             "#bd3786"
            ],
            [
             0.5555555555555556,
             "#d8576b"
            ],
            [
             0.6666666666666666,
             "#ed7953"
            ],
            [
             0.7777777777777778,
             "#fb9f3a"
            ],
            [
             0.8888888888888888,
             "#fdca26"
            ],
            [
             1,
             "#f0f921"
            ]
           ]
          },
          "colorway": [
           "#636efa",
           "#EF553B",
           "#00cc96",
           "#ab63fa",
           "#FFA15A",
           "#19d3f3",
           "#FF6692",
           "#B6E880",
           "#FF97FF",
           "#FECB52"
          ],
          "font": {
           "color": "#2a3f5f"
          },
          "geo": {
           "bgcolor": "white",
           "lakecolor": "white",
           "landcolor": "#E5ECF6",
           "showlakes": true,
           "showland": true,
           "subunitcolor": "white"
          },
          "hoverlabel": {
           "align": "left"
          },
          "hovermode": "closest",
          "mapbox": {
           "style": "light"
          },
          "paper_bgcolor": "white",
          "plot_bgcolor": "#E5ECF6",
          "polar": {
           "angularaxis": {
            "gridcolor": "white",
            "linecolor": "white",
            "ticks": ""
           },
           "bgcolor": "#E5ECF6",
           "radialaxis": {
            "gridcolor": "white",
            "linecolor": "white",
            "ticks": ""
           }
          },
          "scene": {
           "xaxis": {
            "backgroundcolor": "#E5ECF6",
            "gridcolor": "white",
            "gridwidth": 2,
            "linecolor": "white",
            "showbackground": true,
            "ticks": "",
            "zerolinecolor": "white"
           },
           "yaxis": {
            "backgroundcolor": "#E5ECF6",
            "gridcolor": "white",
            "gridwidth": 2,
            "linecolor": "white",
            "showbackground": true,
            "ticks": "",
            "zerolinecolor": "white"
           },
           "zaxis": {
            "backgroundcolor": "#E5ECF6",
            "gridcolor": "white",
            "gridwidth": 2,
            "linecolor": "white",
            "showbackground": true,
            "ticks": "",
            "zerolinecolor": "white"
           }
          },
          "shapedefaults": {
           "line": {
            "color": "#2a3f5f"
           }
          },
          "ternary": {
           "aaxis": {
            "gridcolor": "white",
            "linecolor": "white",
            "ticks": ""
           },
           "baxis": {
            "gridcolor": "white",
            "linecolor": "white",
            "ticks": ""
           },
           "bgcolor": "#E5ECF6",
           "caxis": {
            "gridcolor": "white",
            "linecolor": "white",
            "ticks": ""
           }
          },
          "title": {
           "x": 0.05
          },
          "xaxis": {
           "automargin": true,
           "gridcolor": "white",
           "linecolor": "white",
           "ticks": "",
           "title": {
            "standoff": 15
           },
           "zerolinecolor": "white",
           "zerolinewidth": 2
          },
          "yaxis": {
           "automargin": true,
           "gridcolor": "white",
           "linecolor": "white",
           "ticks": "",
           "title": {
            "standoff": 15
           },
           "zerolinecolor": "white",
           "zerolinewidth": 2
          }
         }
        },
        "xaxis": {
         "anchor": "y",
         "domain": [
          0,
          1
         ],
         "title": {
          "text": "Model"
         }
        },
        "yaxis": {
         "anchor": "x",
         "domain": [
          0,
          1
         ],
         "title": {
          "text": "F1 Score"
         }
        }
       }
      }
     },
     "metadata": {},
     "output_type": "display_data"
    }
   ],
   "source": [
    "fig = px.scatter(df_scores, x='Model', y='F1 Score', color='Hyperparameters')\n",
    "fig.update_traces(marker_size=12)\n",
    "fig.update_layout(showlegend=False)"
   ]
  },
  {
   "cell_type": "markdown",
   "metadata": {},
   "source": [
    "Clearly, the MLP classifiers outperform on the political bias variable, so we have picked our final model for the pipeline. The exploration on both the ETL and MLP will be summarized into a pipeline in the ETL_MLP_pipeline.ipynb file."
   ]
  },
  {
   "cell_type": "code",
   "execution_count": 323,
   "metadata": {},
   "outputs": [],
   "source": [
    "df = pd.read_csv('../data/sentences_embeddings.csv')"
   ]
  },
  {
   "cell_type": "code",
   "execution_count": 325,
   "metadata": {},
   "outputs": [
    {
     "data": {
      "text/plain": [
       "array([[-0.00192347, -0.04733271,  0.00393235, ...,  0.00966497,\n",
       "        -0.02896205, -0.04633402],\n",
       "       [-0.02060661,  0.01556633,  0.0270597 , ..., -0.00356702,\n",
       "         0.00894777, -0.02544324],\n",
       "       [-0.01072645, -0.02974005,  0.00529493, ..., -0.00994587,\n",
       "        -0.00347357, -0.00486886],\n",
       "       ...,\n",
       "       [-0.01149606, -0.04264131, -0.0009386 , ...,  0.0035662 ,\n",
       "        -0.00399045, -0.00468901],\n",
       "       [-0.03704859, -0.03121758,  0.02841665, ..., -0.01567245,\n",
       "        -0.01963193, -0.00586603],\n",
       "       [-0.04564564, -0.02188735, -0.00646497, ...,  0.00603568,\n",
       "        -0.01810704, -0.0107899 ]])"
      ]
     },
     "execution_count": 325,
     "metadata": {},
     "output_type": "execute_result"
    }
   ],
   "source": [
    "np.vstack(df.embedding.apply(eval).apply(np.array))"
   ]
  },
  {
   "cell_type": "code",
   "execution_count": null,
   "metadata": {},
   "outputs": [],
   "source": []
  }
 ],
 "metadata": {
  "kernelspec": {
   "display_name": "Python 3.11.3 ('mediabiasnb')",
   "language": "python",
   "name": "python3"
  },
  "language_info": {
   "codemirror_mode": {
    "name": "ipython",
    "version": 3
   },
   "file_extension": ".py",
   "mimetype": "text/x-python",
   "name": "python",
   "nbconvert_exporter": "python",
   "pygments_lexer": "ipython3",
   "version": "3.11.3"
  },
  "orig_nbformat": 4,
  "vscode": {
   "interpreter": {
    "hash": "5f30eb9a81bae6327b4461ca54f0765310a1173f0a81247bdae0e6aedeac1e3c"
   }
  }
 },
 "nbformat": 4,
 "nbformat_minor": 2
}
